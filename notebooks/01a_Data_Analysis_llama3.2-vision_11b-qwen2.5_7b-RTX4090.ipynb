{
 "cells": [
  {
   "cell_type": "code",
   "execution_count": 1,
   "metadata": {
    "executionInfo": {
     "elapsed": 476,
     "status": "ok",
     "timestamp": 1720679526275,
     "user": {
      "displayName": "HUANG DONGHAO _",
      "userId": "00977795705617022768"
     },
     "user_tz": -480
    },
    "id": "uWKRSV6eZsCn"
   },
   "outputs": [],
   "source": [
    "%load_ext autoreload\n",
    "%autoreload 2"
   ]
  },
  {
   "cell_type": "code",
   "execution_count": 2,
   "metadata": {
    "application/vnd.databricks.v1+cell": {
     "cellMetadata": {
      "byteLimit": 2048000,
      "rowLimit": 10000
     },
     "inputWidgets": {},
     "nuid": "6d394937-6c99-4a7c-9d32-7600a280032f",
     "showTitle": false,
     "title": ""
    },
    "colab": {
     "base_uri": "https://localhost:8080/"
    },
    "executionInfo": {
     "elapsed": 5,
     "status": "ok",
     "timestamp": 1720679529345,
     "user": {
      "displayName": "HUANG DONGHAO _",
      "userId": "00977795705617022768"
     },
     "user_tz": -480
    },
    "id": "G5pNu3zgZBrL",
    "outputId": "160a554f-fb08-4aa0-bc00-0422fb7c1fac"
   },
   "outputs": [
    {
     "name": "stdout",
     "output_type": "stream",
     "text": [
      "workding dir: /Users/inflaton/code/engd/papers/sme-invoicing-assistant\n"
     ]
    }
   ],
   "source": [
    "import os\n",
    "import sys\n",
    "from pathlib import Path\n",
    "\n",
    "# check if workding_dir is in local variables\n",
    "if \"workding_dir\" not in locals():\n",
    "    workding_dir = str(Path.cwd().parent)\n",
    "\n",
    "os.chdir(workding_dir)\n",
    "sys.path.append(workding_dir)\n",
    "print(\"workding dir:\", workding_dir)"
   ]
  },
  {
   "cell_type": "code",
   "execution_count": 3,
   "metadata": {
    "application/vnd.databricks.v1+cell": {
     "cellMetadata": {
      "byteLimit": 2048000,
      "rowLimit": 10000
     },
     "inputWidgets": {},
     "nuid": "9f67ec60-2f24-411c-84eb-0dd664b44775",
     "showTitle": false,
     "title": ""
    },
    "colab": {
     "base_uri": "https://localhost:8080/"
    },
    "executionInfo": {
     "elapsed": 3,
     "status": "ok",
     "timestamp": 1720679529345,
     "user": {
      "displayName": "HUANG DONGHAO _",
      "userId": "00977795705617022768"
     },
     "user_tz": -480
    },
    "id": "hPCC-6m7ZBrM",
    "outputId": "c7aa2c96-5e99-440a-c148-201d79465ff9"
   },
   "outputs": [
    {
     "name": "stdout",
     "output_type": "stream",
     "text": [
      "loading env vars from: /Users/inflaton/code/engd/papers/sme-invoicing-assistant/.env\n"
     ]
    },
    {
     "data": {
      "text/plain": [
       "True"
      ]
     },
     "execution_count": 3,
     "metadata": {},
     "output_type": "execute_result"
    }
   ],
   "source": [
    "from dotenv import find_dotenv, load_dotenv\n",
    "\n",
    "found_dotenv = find_dotenv(\".env\")\n",
    "\n",
    "if len(found_dotenv) == 0:\n",
    "    found_dotenv = find_dotenv(\".env.example\")\n",
    "print(f\"loading env vars from: {found_dotenv}\")\n",
    "load_dotenv(found_dotenv, override=True)"
   ]
  },
  {
   "cell_type": "code",
   "metadata": {
    "ExecuteTime": {
     "end_time": "2025-01-23T10:33:57.479434Z",
     "start_time": "2025-01-23T10:33:57.202309Z"
    }
   },
   "source": [
    "import pandas as pd\n",
    "import sqlite3\n",
    "\n",
    "# Connect to SQLite database\n",
    "conn = sqlite3.connect(\"results/llama3.2-vision_11b-qwen2.5_7b-RTX4090/emails.db\")\n",
    "# conn = sqlite3.connect(\"src/data/db/llama3.2-vision_11b-qwen2.5_7b-RTX4090/emails.db\")\n",
    "\n",
    "# Write your SQL query\n",
    "query = \"SELECT * FROM emails\"\n",
    "\n",
    "# Read the query results into a pandas DataFrame\n",
    "df = pd.read_sql(query, conn)\n",
    "\n",
    "df.head(5)"
   ],
   "outputs": [
    {
     "ename": "OperationalError",
     "evalue": "unable to open database file",
     "output_type": "error",
     "traceback": [
      "\u001b[0;31m---------------------------------------------------------------------------\u001b[0m",
      "\u001b[0;31mOperationalError\u001b[0m                          Traceback (most recent call last)",
      "Cell \u001b[0;32mIn[1], line 5\u001b[0m\n\u001b[1;32m      2\u001b[0m \u001b[38;5;28;01mimport\u001b[39;00m\u001b[38;5;250m \u001b[39m\u001b[38;5;21;01msqlite3\u001b[39;00m\n\u001b[1;32m      4\u001b[0m \u001b[38;5;66;03m# Connect to SQLite database\u001b[39;00m\n\u001b[0;32m----> 5\u001b[0m conn \u001b[38;5;241m=\u001b[39m \u001b[43msqlite3\u001b[49m\u001b[38;5;241;43m.\u001b[39;49m\u001b[43mconnect\u001b[49m\u001b[43m(\u001b[49m\u001b[38;5;124;43m\"\u001b[39;49m\u001b[38;5;124;43mresults/llama3.2-vision_11b-qwen2.5_7b-RTX4090/emails.db\u001b[39;49m\u001b[38;5;124;43m\"\u001b[39;49m\u001b[43m)\u001b[49m\n\u001b[1;32m      6\u001b[0m \u001b[38;5;66;03m# conn = sqlite3.connect(\"src/data/db/llama3.2-vision_11b-qwen2.5_7b-RTX4090/emails.db\")\u001b[39;00m\n\u001b[1;32m      7\u001b[0m \n\u001b[1;32m      8\u001b[0m \u001b[38;5;66;03m# Write your SQL query\u001b[39;00m\n\u001b[1;32m      9\u001b[0m query \u001b[38;5;241m=\u001b[39m \u001b[38;5;124m\"\u001b[39m\u001b[38;5;124mSELECT * FROM emails\u001b[39m\u001b[38;5;124m\"\u001b[39m\n",
      "\u001b[0;31mOperationalError\u001b[0m: unable to open database file"
     ]
    }
   ],
   "execution_count": 1
  },
  {
   "cell_type": "code",
   "execution_count": 5,
   "metadata": {},
   "outputs": [
    {
     "name": "stdout",
     "output_type": "stream",
     "text": [
      "full_logs loaded from results/llama3.2-vision_11b-qwen2.5_7b-RTX4090/full_logs.json\n"
     ]
    }
   ],
   "source": [
    "import json\n",
    "\n",
    "json_file = \"results/llama3.2-vision_11b-qwen2.5_7b-RTX4090/full_logs.json\"\n",
    "\n",
    "if \"full_logs\" in df.columns:\n",
    "    last_completed = df[df[\"full_logs\"] != \"\"].iloc[-1]\n",
    "    full_logs = json.loads(last_completed[\"full_logs\"])\n",
    "    json.dump(full_logs, open(json_file, \"w\"), indent=4)\n",
    "    conn.execute(\"ALTER TABLE emails DROP COLUMN full_logs\")\n",
    "    conn.execute(\"VACUUM\")\n",
    "    conn.commit()\n",
    "    print(\"full_logs saved to\", json_file)\n",
    "else:\n",
    "    full_logs = json.load(open(json_file))\n",
    "    print(\"full_logs loaded from\", json_file)\n",
    "\n",
    "# Close the connection\n",
    "conn.close()"
   ]
  },
  {
   "cell_type": "code",
   "execution_count": 6,
   "metadata": {},
   "outputs": [
    {
     "name": "stdout",
     "output_type": "stream",
     "text": [
      "<class 'pandas.core.frame.DataFrame'>\n",
      "RangeIndex: 2000 entries, 0 to 1999\n",
      "Data columns (total 16 columns):\n",
      " #   Column               Non-Null Count  Dtype \n",
      "---  ------               --------------  ----- \n",
      " 0   email_id             2000 non-null   object\n",
      " 1   sender_email         2000 non-null   object\n",
      " 2   recipient_email      2000 non-null   object\n",
      " 3   subject              2000 non-null   object\n",
      " 4   email_body           2000 non-null   object\n",
      " 5   attachments          2000 non-null   object\n",
      " 6   process_status       2000 non-null   object\n",
      " 7   response             2000 non-null   object\n",
      " 8   start_time           2000 non-null   object\n",
      " 9   end_time             2000 non-null   object\n",
      " 10  total_time           2000 non-null   object\n",
      " 11  successful_requests  2000 non-null   object\n",
      " 12  total_tokens         2000 non-null   object\n",
      " 13  prompt_tokens        2000 non-null   object\n",
      " 14  completion_tokens    2000 non-null   object\n",
      " 15  total_cost           2000 non-null   object\n",
      "dtypes: object(16)\n",
      "memory usage: 250.1+ KB\n"
     ]
    }
   ],
   "source": [
    "df.info()"
   ]
  },
  {
   "cell_type": "code",
   "execution_count": 7,
   "metadata": {},
   "outputs": [
    {
     "data": {
      "text/html": [
       "<div>\n",
       "<style scoped>\n",
       "    .dataframe tbody tr th:only-of-type {\n",
       "        vertical-align: middle;\n",
       "    }\n",
       "\n",
       "    .dataframe tbody tr th {\n",
       "        vertical-align: top;\n",
       "    }\n",
       "\n",
       "    .dataframe thead th {\n",
       "        text-align: right;\n",
       "    }\n",
       "</style>\n",
       "<table border=\"1\" class=\"dataframe\">\n",
       "  <thead>\n",
       "    <tr style=\"text-align: right;\">\n",
       "      <th></th>\n",
       "      <th>email_id</th>\n",
       "      <th>sender_email</th>\n",
       "      <th>recipient_email</th>\n",
       "      <th>subject</th>\n",
       "      <th>email_body</th>\n",
       "      <th>attachments</th>\n",
       "      <th>process_status</th>\n",
       "      <th>response</th>\n",
       "      <th>start_time</th>\n",
       "      <th>end_time</th>\n",
       "      <th>total_time</th>\n",
       "      <th>successful_requests</th>\n",
       "      <th>total_tokens</th>\n",
       "      <th>prompt_tokens</th>\n",
       "      <th>completion_tokens</th>\n",
       "      <th>total_cost</th>\n",
       "    </tr>\n",
       "  </thead>\n",
       "  <tbody>\n",
       "    <tr>\n",
       "      <th>count</th>\n",
       "      <td>2000</td>\n",
       "      <td>2000</td>\n",
       "      <td>2000</td>\n",
       "      <td>2000</td>\n",
       "      <td>2000</td>\n",
       "      <td>2000</td>\n",
       "      <td>2000</td>\n",
       "      <td>2000</td>\n",
       "      <td>2000</td>\n",
       "      <td>2000</td>\n",
       "      <td>2000</td>\n",
       "      <td>2000</td>\n",
       "      <td>2000</td>\n",
       "      <td>2000</td>\n",
       "      <td>2000</td>\n",
       "      <td>2000</td>\n",
       "    </tr>\n",
       "    <tr>\n",
       "      <th>unique</th>\n",
       "      <td>2000</td>\n",
       "      <td>1988</td>\n",
       "      <td>1</td>\n",
       "      <td>1947</td>\n",
       "      <td>2000</td>\n",
       "      <td>1001</td>\n",
       "      <td>3</td>\n",
       "      <td>813</td>\n",
       "      <td>2000</td>\n",
       "      <td>2000</td>\n",
       "      <td>1926</td>\n",
       "      <td>2000</td>\n",
       "      <td>2000</td>\n",
       "      <td>2000</td>\n",
       "      <td>2000</td>\n",
       "      <td>1</td>\n",
       "    </tr>\n",
       "    <tr>\n",
       "      <th>top</th>\n",
       "      <td>93185A89130149C0A842968E4AFDCAA2</td>\n",
       "      <td>MichaelJones@example.com</td>\n",
       "      <td>tanya.official.456@gmail.com</td>\n",
       "      <td>Payment Confirmation for Invoice I13212</td>\n",
       "      <td>Hi Tanya ! Please find attached payment screen...</td>\n",
       "      <td></td>\n",
       "      <td>SUCCESS</td>\n",
       "      <td>{\"content\": \"DONE\"}</td>\n",
       "      <td>2025-01-21T18:34:06.962783</td>\n",
       "      <td>2025-01-21T18:34:14.048453</td>\n",
       "      <td>1.2577</td>\n",
       "      <td>8</td>\n",
       "      <td>2638</td>\n",
       "      <td>2250</td>\n",
       "      <td>388</td>\n",
       "      <td>0.0</td>\n",
       "    </tr>\n",
       "    <tr>\n",
       "      <th>freq</th>\n",
       "      <td>1</td>\n",
       "      <td>3</td>\n",
       "      <td>2000</td>\n",
       "      <td>3</td>\n",
       "      <td>1</td>\n",
       "      <td>1000</td>\n",
       "      <td>1128</td>\n",
       "      <td>1097</td>\n",
       "      <td>1</td>\n",
       "      <td>1</td>\n",
       "      <td>4</td>\n",
       "      <td>1</td>\n",
       "      <td>1</td>\n",
       "      <td>1</td>\n",
       "      <td>1</td>\n",
       "      <td>2000</td>\n",
       "    </tr>\n",
       "  </tbody>\n",
       "</table>\n",
       "</div>"
      ],
      "text/plain": [
       "                                email_id              sender_email  \\\n",
       "count                               2000                      2000   \n",
       "unique                              2000                      1988   \n",
       "top     93185A89130149C0A842968E4AFDCAA2  MichaelJones@example.com   \n",
       "freq                                   1                         3   \n",
       "\n",
       "                     recipient_email                                  subject  \\\n",
       "count                           2000                                     2000   \n",
       "unique                             1                                     1947   \n",
       "top     tanya.official.456@gmail.com  Payment Confirmation for Invoice I13212   \n",
       "freq                            2000                                        3   \n",
       "\n",
       "                                               email_body attachments  \\\n",
       "count                                                2000        2000   \n",
       "unique                                               2000        1001   \n",
       "top     Hi Tanya ! Please find attached payment screen...               \n",
       "freq                                                    1        1000   \n",
       "\n",
       "       process_status             response                  start_time  \\\n",
       "count            2000                 2000                        2000   \n",
       "unique              3                  813                        2000   \n",
       "top           SUCCESS  {\"content\": \"DONE\"}  2025-01-21T18:34:06.962783   \n",
       "freq             1128                 1097                           1   \n",
       "\n",
       "                          end_time total_time successful_requests  \\\n",
       "count                         2000       2000                2000   \n",
       "unique                        2000       1926                2000   \n",
       "top     2025-01-21T18:34:14.048453     1.2577                   8   \n",
       "freq                             1          4                   1   \n",
       "\n",
       "       total_tokens prompt_tokens completion_tokens total_cost  \n",
       "count          2000          2000              2000       2000  \n",
       "unique         2000          2000              2000          1  \n",
       "top            2638          2250               388        0.0  \n",
       "freq              1             1                 1       2000  "
      ]
     },
     "execution_count": 7,
     "metadata": {},
     "output_type": "execute_result"
    }
   ],
   "source": [
    "df.describe()"
   ]
  },
  {
   "cell_type": "code",
   "execution_count": 8,
   "metadata": {},
   "outputs": [],
   "source": [
    "# plot the distribution of categories\n",
    "import matplotlib.pyplot as plt\n",
    "\n",
    "\n",
    "def plot_value_distribution(df2, col=\"category\", top_n=10):\n",
    "    df2[col].value_counts()[:top_n].plot(kind=\"bar\")\n",
    "    plt.title(f\"Distribution of {col}\")\n",
    "\n",
    "    # add the count on top of the bars\n",
    "    for i in range(len(df2[col].value_counts()[:top_n])):\n",
    "        count = df2[col].value_counts().values[i]\n",
    "        plt.text(i, count, count, ha=\"center\")\n",
    "\n",
    "    plt.show()"
   ]
  },
  {
   "cell_type": "code",
   "execution_count": 9,
   "metadata": {},
   "outputs": [
    {
     "data": {
      "image/png": "[encoded data removed]",
      "text/plain": [
       "<Figure size 640x480 with 1 Axes>"
      ]
     },
     "metadata": {},
     "output_type": "display_data"
    }
   ],
   "source": [
    "plot_value_distribution(df, \"process_status\")"
   ]
  },
  {
   "cell_type": "code",
   "execution_count": 10,
   "metadata": {},
   "outputs": [
    {
     "data": {
      "image/png": "[encoded data removed]",
      "text/plain": [
       "<Figure size 640x480 with 1 Axes>"
      ]
     },
     "metadata": {},
     "output_type": "display_data"
    }
   ],
   "source": [
    "plot_value_distribution(df, \"response\")"
   ]
  },
  {
   "cell_type": "code",
   "execution_count": 11,
   "metadata": {},
   "outputs": [],
   "source": [
    "df[\"end_time\"] = pd.to_datetime(df[\"end_time\"])\n",
    "df[\"start_time\"] = pd.to_datetime(df[\"start_time\"])\n",
    "df[\"duration\"] = (df[\"end_time\"] - df[\"start_time\"]).dt.total_seconds()"
   ]
  },
  {
   "cell_type": "code",
   "execution_count": 12,
   "metadata": {},
   "outputs": [
    {
     "data": {
      "text/html": [
       "<div>\n",
       "<style scoped>\n",
       "    .dataframe tbody tr th:only-of-type {\n",
       "        vertical-align: middle;\n",
       "    }\n",
       "\n",
       "    .dataframe tbody tr th {\n",
       "        vertical-align: top;\n",
       "    }\n",
       "\n",
       "    .dataframe thead th {\n",
       "        text-align: right;\n",
       "    }\n",
       "</style>\n",
       "<table border=\"1\" class=\"dataframe\">\n",
       "  <thead>\n",
       "    <tr style=\"text-align: right;\">\n",
       "      <th></th>\n",
       "      <th>duration</th>\n",
       "      <th>total_time</th>\n",
       "    </tr>\n",
       "  </thead>\n",
       "  <tbody>\n",
       "    <tr>\n",
       "      <th>0</th>\n",
       "      <td>7.085670</td>\n",
       "      <td>7.0857</td>\n",
       "    </tr>\n",
       "    <tr>\n",
       "      <th>1</th>\n",
       "      <td>7.105284</td>\n",
       "      <td>7.1053</td>\n",
       "    </tr>\n",
       "    <tr>\n",
       "      <th>2</th>\n",
       "      <td>38.383077</td>\n",
       "      <td>38.3831</td>\n",
       "    </tr>\n",
       "    <tr>\n",
       "      <th>3</th>\n",
       "      <td>7.874619</td>\n",
       "      <td>7.8746</td>\n",
       "    </tr>\n",
       "    <tr>\n",
       "      <th>4</th>\n",
       "      <td>45.764491</td>\n",
       "      <td>45.7645</td>\n",
       "    </tr>\n",
       "  </tbody>\n",
       "</table>\n",
       "</div>"
      ],
      "text/plain": [
       "    duration total_time\n",
       "0   7.085670     7.0857\n",
       "1   7.105284     7.1053\n",
       "2  38.383077    38.3831\n",
       "3   7.874619     7.8746\n",
       "4  45.764491    45.7645"
      ]
     },
     "execution_count": 12,
     "metadata": {},
     "output_type": "execute_result"
    }
   ],
   "source": [
    "df[[\"duration\", \"total_time\"]].head()"
   ]
  },
  {
   "cell_type": "code",
   "execution_count": 13,
   "metadata": {},
   "outputs": [
    {
     "data": {
      "text/plain": [
       "<Axes: ylabel='Frequency'>"
      ]
     },
     "execution_count": 13,
     "metadata": {},
     "output_type": "execute_result"
    },
    {
     "data": {
      "image/png": "[encoded data removed]",
      "text/plain": [
       "<Figure size 640x480 with 1 Axes>"
      ]
     },
     "metadata": {},
     "output_type": "display_data"
    }
   ],
   "source": [
    "# plot the distribution of duration\n",
    "df[\"duration\"].plot(kind=\"hist\", bins=100)"
   ]
  },
  {
   "cell_type": "code",
   "execution_count": 29,
   "metadata": {},
   "outputs": [
    {
     "data": {
      "text/html": [
       "<div>\n",
       "<style scoped>\n",
       "    .dataframe tbody tr th:only-of-type {\n",
       "        vertical-align: middle;\n",
       "    }\n",
       "\n",
       "    .dataframe tbody tr th {\n",
       "        vertical-align: top;\n",
       "    }\n",
       "\n",
       "    .dataframe thead th {\n",
       "        text-align: right;\n",
       "    }\n",
       "</style>\n",
       "<table border=\"1\" class=\"dataframe\">\n",
       "  <thead>\n",
       "    <tr style=\"text-align: right;\">\n",
       "      <th></th>\n",
       "      <th>email_id</th>\n",
       "      <th>sender_email</th>\n",
       "      <th>recipient_email</th>\n",
       "      <th>subject</th>\n",
       "      <th>email_body</th>\n",
       "      <th>attachments</th>\n",
       "      <th>process_status</th>\n",
       "      <th>response</th>\n",
       "      <th>start_time</th>\n",
       "      <th>end_time</th>\n",
       "      <th>total_time</th>\n",
       "      <th>successful_requests</th>\n",
       "      <th>total_tokens</th>\n",
       "      <th>prompt_tokens</th>\n",
       "      <th>completion_tokens</th>\n",
       "      <th>total_cost</th>\n",
       "      <th>duration</th>\n",
       "    </tr>\n",
       "  </thead>\n",
       "  <tbody>\n",
       "    <tr>\n",
       "      <th>783</th>\n",
       "      <td>B02C8C871A4C4BE6A92D2723E8FEADD6</td>\n",
       "      <td>ChristopherBell@example.com</td>\n",
       "      <td>tanya.official.456@gmail.com</td>\n",
       "      <td>Payment Confirmation for Invoice ID: 10800</td>\n",
       "      <td>Hi Tanya ! Please find attached payment screen...</td>\n",
       "      <td>transaction_784.jpeg</td>\n",
       "      <td>SUCCESS</td>\n",
       "      <td>Sure, could you please provide the amount ment...</td>\n",
       "      <td>2025-01-21 23:10:03.543777</td>\n",
       "      <td>2025-01-21 23:12:20.625660</td>\n",
       "      <td>137.0819</td>\n",
       "      <td>16209352</td>\n",
       "      <td>11090799786</td>\n",
       "      <td>10623451552</td>\n",
       "      <td>467348234</td>\n",
       "      <td>0.0</td>\n",
       "      <td>137.081883</td>\n",
       "    </tr>\n",
       "  </tbody>\n",
       "</table>\n",
       "</div>"
      ],
      "text/plain": [
       "                             email_id                 sender_email  \\\n",
       "783  B02C8C871A4C4BE6A92D2723E8FEADD6  ChristopherBell@example.com   \n",
       "\n",
       "                  recipient_email                                     subject  \\\n",
       "783  tanya.official.456@gmail.com  Payment Confirmation for Invoice ID: 10800   \n",
       "\n",
       "                                            email_body           attachments  \\\n",
       "783  Hi Tanya ! Please find attached payment screen...  transaction_784.jpeg   \n",
       "\n",
       "    process_status                                           response  \\\n",
       "783        SUCCESS  Sure, could you please provide the amount ment...   \n",
       "\n",
       "                    start_time                   end_time total_time  \\\n",
       "783 2025-01-21 23:10:03.543777 2025-01-21 23:12:20.625660   137.0819   \n",
       "\n",
       "    successful_requests total_tokens prompt_tokens completion_tokens  \\\n",
       "783            16209352  11090799786   10623451552         467348234   \n",
       "\n",
       "    total_cost    duration  \n",
       "783        0.0  137.081883  "
      ]
     },
     "execution_count": 29,
     "metadata": {},
     "output_type": "execute_result"
    }
   ],
   "source": [
    "df[df[\"duration\"] > 120]"
   ]
  },
  {
   "cell_type": "code",
   "execution_count": 15,
   "metadata": {},
   "outputs": [
    {
     "data": {
      "text/plain": [
       "count    2000.000000\n",
       "mean       12.736202\n",
       "std        16.679474\n",
       "min         0.903633\n",
       "25%         1.284450\n",
       "50%         7.452387\n",
       "75%        11.515699\n",
       "max       137.081883\n",
       "Name: duration, dtype: float64"
      ]
     },
     "execution_count": 15,
     "metadata": {},
     "output_type": "execute_result"
    }
   ],
   "source": [
    "df[\"duration\"].describe()"
   ]
  },
  {
   "cell_type": "code",
   "execution_count": 16,
   "metadata": {},
   "outputs": [
    {
     "data": {
      "image/png": "[encoded data removed]",
      "text/plain": [
       "<Figure size 640x480 with 1 Axes>"
      ]
     },
     "metadata": {},
     "output_type": "display_data"
    }
   ],
   "source": [
    "plot_value_distribution(df, \"successful_requests\", top_n=30)"
   ]
  },
  {
   "cell_type": "code",
   "execution_count": 17,
   "metadata": {},
   "outputs": [
    {
     "data": {
      "text/plain": [
       "process_status\n",
       "SUCCESS        1128\n",
       "NOT_INVOICE     620\n",
       "ERROR           252\n",
       "Name: count, dtype: int64"
      ]
     },
     "execution_count": 17,
     "metadata": {},
     "output_type": "execute_result"
    }
   ],
   "source": [
    "df[\"process_status\"].value_counts()"
   ]
  },
  {
   "cell_type": "code",
   "execution_count": 18,
   "metadata": {},
   "outputs": [
    {
     "data": {
      "text/plain": [
       "0.564"
      ]
     },
     "execution_count": 18,
     "metadata": {},
     "output_type": "execute_result"
    }
   ],
   "source": [
    "success_rate = df[\"process_status\"].value_counts()[\"SUCCESS\"] / len(df)\n",
    "success_rate"
   ]
  },
  {
   "cell_type": "code",
   "execution_count": 19,
   "metadata": {},
   "outputs": [],
   "source": [
    "def total_power_in_watt(file_path):\n",
    "    df = pd.read_csv(file_path)\n",
    "    return df[\"CPU Package Power [W]\"].mean() + df[\"GPU Power [W]\"].mean()"
   ]
  },
  {
   "cell_type": "code",
   "execution_count": 20,
   "metadata": {},
   "outputs": [
    {
     "data": {
      "text/plain": [
       "29.873"
      ]
     },
     "execution_count": 20,
     "metadata": {},
     "output_type": "execute_result"
    }
   ],
   "source": [
    "power_idle = total_power_in_watt(\"results/power_idle.csv\")\n",
    "power_idle"
   ]
  },
  {
   "cell_type": "code",
   "execution_count": 21,
   "metadata": {},
   "outputs": [
    {
     "data": {
      "text/plain": [
       "(156.80380000000002, 151.07659999999998)"
      ]
     },
     "execution_count": 21,
     "metadata": {},
     "output_type": "execute_result"
    }
   ],
   "source": [
    "power_with_vision = total_power_in_watt(\n",
    "    \"results/llama3.2-vision_11b-qwen2.5_7b-RTX4090/power_with_vision.csv\"\n",
    ")\n",
    "power_without_vision = total_power_in_watt(\n",
    "    \"results/llama3.2-vision_11b-qwen2.5_7b-RTX4090/power_without_vision.csv\"\n",
    ")\n",
    "power_with_vision, power_without_vision"
   ]
  },
  {
   "cell_type": "code",
   "execution_count": 22,
   "metadata": {},
   "outputs": [
    {
     "data": {
      "text/plain": [
       "12.7362022775"
      ]
     },
     "execution_count": 22,
     "metadata": {},
     "output_type": "execute_result"
    }
   ],
   "source": [
    "mean_response_time = df[\"duration\"].mean()\n",
    "mean_response_time"
   ]
  },
  {
   "cell_type": "code",
   "execution_count": 23,
   "metadata": {},
   "outputs": [
    {
     "data": {
      "text/plain": [
       "1580.144955203048"
      ]
     },
     "execution_count": 23,
     "metadata": {},
     "output_type": "execute_result"
    }
   ],
   "source": [
    "average_energy_consumption = (\n",
    "    (power_with_vision + power_without_vision) / 2 - power_idle\n",
    ") * mean_response_time\n",
    "average_energy_consumption"
   ]
  },
  {
   "cell_type": "code",
   "execution_count": 24,
   "metadata": {},
   "outputs": [
    {
     "data": {
      "text/html": [
       "<div>\n",
       "<style scoped>\n",
       "    .dataframe tbody tr th:only-of-type {\n",
       "        vertical-align: middle;\n",
       "    }\n",
       "\n",
       "    .dataframe tbody tr th {\n",
       "        vertical-align: top;\n",
       "    }\n",
       "\n",
       "    .dataframe thead th {\n",
       "        text-align: right;\n",
       "    }\n",
       "</style>\n",
       "<table border=\"1\" class=\"dataframe\">\n",
       "  <thead>\n",
       "    <tr style=\"text-align: right;\">\n",
       "      <th></th>\n",
       "      <th>start_time</th>\n",
       "      <th>end_time</th>\n",
       "      <th>duration</th>\n",
       "    </tr>\n",
       "  </thead>\n",
       "  <tbody>\n",
       "    <tr>\n",
       "      <th>count</th>\n",
       "      <td>2000</td>\n",
       "      <td>2000</td>\n",
       "      <td>2000.000000</td>\n",
       "    </tr>\n",
       "    <tr>\n",
       "      <th>mean</th>\n",
       "      <td>2025-01-21 23:17:32.953499136</td>\n",
       "      <td>2025-01-21 23:17:45.689701376</td>\n",
       "      <td>12.736202</td>\n",
       "    </tr>\n",
       "    <tr>\n",
       "      <th>min</th>\n",
       "      <td>2025-01-21 18:34:06.962783</td>\n",
       "      <td>2025-01-21 18:34:14.048453</td>\n",
       "      <td>0.903633</td>\n",
       "    </tr>\n",
       "    <tr>\n",
       "      <th>25%</th>\n",
       "      <td>2025-01-21 21:29:30.432226816</td>\n",
       "      <td>2025-01-21 21:30:12.396681728</td>\n",
       "      <td>1.284450</td>\n",
       "    </tr>\n",
       "    <tr>\n",
       "      <th>50%</th>\n",
       "      <td>2025-01-22 00:25:56.660462592</td>\n",
       "      <td>2025-01-22 00:26:04.314511872</td>\n",
       "      <td>7.452387</td>\n",
       "    </tr>\n",
       "    <tr>\n",
       "      <th>75%</th>\n",
       "      <td>2025-01-22 01:04:42.547120384</td>\n",
       "      <td>2025-01-22 01:04:48.626737920</td>\n",
       "      <td>11.515699</td>\n",
       "    </tr>\n",
       "    <tr>\n",
       "      <th>max</th>\n",
       "      <td>2025-01-22 01:43:12.114817</td>\n",
       "      <td>2025-01-22 01:43:15.717802</td>\n",
       "      <td>137.081883</td>\n",
       "    </tr>\n",
       "    <tr>\n",
       "      <th>std</th>\n",
       "      <td>NaN</td>\n",
       "      <td>NaN</td>\n",
       "      <td>16.679474</td>\n",
       "    </tr>\n",
       "  </tbody>\n",
       "</table>\n",
       "</div>"
      ],
      "text/plain": [
       "                          start_time                       end_time  \\\n",
       "count                           2000                           2000   \n",
       "mean   2025-01-21 23:17:32.953499136  2025-01-21 23:17:45.689701376   \n",
       "min       2025-01-21 18:34:06.962783     2025-01-21 18:34:14.048453   \n",
       "25%    2025-01-21 21:29:30.432226816  2025-01-21 21:30:12.396681728   \n",
       "50%    2025-01-22 00:25:56.660462592  2025-01-22 00:26:04.314511872   \n",
       "75%    2025-01-22 01:04:42.547120384  2025-01-22 01:04:48.626737920   \n",
       "max       2025-01-22 01:43:12.114817     2025-01-22 01:43:15.717802   \n",
       "std                              NaN                            NaN   \n",
       "\n",
       "          duration  \n",
       "count  2000.000000  \n",
       "mean     12.736202  \n",
       "min       0.903633  \n",
       "25%       1.284450  \n",
       "50%       7.452387  \n",
       "75%      11.515699  \n",
       "max     137.081883  \n",
       "std      16.679474  "
      ]
     },
     "execution_count": 24,
     "metadata": {},
     "output_type": "execute_result"
    }
   ],
   "source": [
    "df.describe()"
   ]
  },
  {
   "cell_type": "code",
   "execution_count": 25,
   "metadata": {},
   "outputs": [
    {
     "data": {
      "text/plain": [
       "email_id                                1E31EF68A6414FB7B00846D116D94E7E\n",
       "sender_email                                 MelissaHamilton@example.com\n",
       "recipient_email                             tanya.official.456@gmail.com\n",
       "subject                       Payment Confirmation for Invoice ID: 80882\n",
       "email_body             Hi Tanya ! Please find attached payment screen...\n",
       "attachments                                         transaction_535.jpeg\n",
       "process_status                                               NOT_INVOICE\n",
       "response               NA - The provided Invoice ID 80882 does not ma...\n",
       "start_time                                    2025-01-21 21:42:59.859900\n",
       "end_time                                      2025-01-21 21:43:16.671294\n",
       "total_time                                                       16.8114\n",
       "successful_requests                                              7566780\n",
       "total_tokens                                                  5197206827\n",
       "prompt_tokens                                                 4979941708\n",
       "completion_tokens                                              217265119\n",
       "total_cost                                                           0.0\n",
       "duration                                                       16.811394\n",
       "Name: 534, dtype: object"
      ]
     },
     "execution_count": 25,
     "metadata": {},
     "output_type": "execute_result"
    }
   ],
   "source": [
    "row = df[df[\"process_status\"] == \"NOT_INVOICE\"].iloc[0]\n",
    "row"
   ]
  },
  {
   "cell_type": "code",
   "execution_count": 26,
   "metadata": {},
   "outputs": [
    {
     "data": {
      "text/plain": [
       "{'name': 'input',\n",
       " 'type': 'HumanMessage',\n",
       " 'content': '\\n                Help to reconcile invoices using the following email:\\n\\n                \\n            Sender: RobinLevine@example.com\\n            Subject: Payment Confirmation for Invoice ID: 43925\\n            Body: Hi Tanya ! Please find attached payment screenshot for Invoice ID: 43925 , Regards Robin Levine\\n            Attachment: transaction_1.jpeg\\n            Time stamp: NOT_STARTED\\n            \\n                ',\n",
       " 'timestamp': '2025-01-22T09:48:19.089141',\n",
       " 'usage': {'input_tokens': 0,\n",
       "  'output_tokens': 0,\n",
       "  'total_tokens': 0,\n",
       "  'input_token_details': {'audio': 0, 'cache_read': 0},\n",
       "  'output_token_details': {'audio': 0, 'reasoning': 0}},\n",
       " 'model_name': '',\n",
       " 'additional_kwargs': {}}"
      ]
     },
     "execution_count": 26,
     "metadata": {},
     "output_type": "execute_result"
    }
   ],
   "source": [
    "full_logs[0]"
   ]
  },
  {
   "cell_type": "code",
   "execution_count": 27,
   "metadata": {},
   "outputs": [
    {
     "name": "stdout",
     "output_type": "stream",
     "text": [
      "17985\n"
     ]
    }
   ],
   "source": [
    "for i, log in enumerate(full_logs):\n",
    "    if row[\"attachments\"] in log[\"content\"]:\n",
    "        print(i)\n",
    "        break"
   ]
  },
  {
   "cell_type": "code",
   "execution_count": 28,
   "metadata": {},
   "outputs": [
    {
     "data": {
      "text/plain": [
       "[{'name': 'input',\n",
       "  'type': 'HumanMessage',\n",
       "  'content': '\\n                Help to reconcile invoices using the following email:\\n\\n                \\n            Sender: MelissaHamilton@example.com\\n            Subject: Payment Confirmation for Invoice ID: 80882\\n            Body: Hi Tanya ! Please find attached payment screenshot for Invoice ID: 80882 , Regards Melissa Hamilton\\n            Attachment: transaction_535.jpeg\\n            Time stamp: NOT_STARTED\\n            \\n                ',\n",
       "  'timestamp': '2025-01-22T09:48:19.089141',\n",
       "  'usage': {'input_tokens': 0,\n",
       "   'output_tokens': 0,\n",
       "   'total_tokens': 0,\n",
       "   'input_token_details': {'audio': 0, 'cache_read': 0},\n",
       "   'output_token_details': {'audio': 0, 'reasoning': 0}},\n",
       "  'model_name': '',\n",
       "  'additional_kwargs': {}},\n",
       " {'name': 'finance_clerk',\n",
       "  'type': 'AIMessage',\n",
       "  'content': 'Tool calls to ocr_tool',\n",
       "  'timestamp': '2025-01-22T07:55:15.166569',\n",
       "  'usage': {'input_tokens': 297,\n",
       "   'output_tokens': 26,\n",
       "   'total_tokens': 323,\n",
       "   'input_token_details': {},\n",
       "   'output_token_details': {}},\n",
       "  'model_name': 'qwen2.5:7b',\n",
       "  'additional_kwargs': {'tool_calls': [{'name': 'ocr_tool',\n",
       "     'args': {'image_path': 'transaction_535.jpeg'},\n",
       "     'id': 'call_ceti1pdj',\n",
       "     'type': 'tool_call'}]}},\n",
       " {'name': 'ocr_tool',\n",
       "  'type': 'ToolMessage',\n",
       "  'content': '{\"content\": \"Bank 741\\\\nSent by: Melissa Hamilton\\\\nYou paid $127 to Tanya\\\\nTransaction Reference Number: 2CDF29F971B843E9\\\\nTransaction Date: 10/10/24\\\\nInvoice ID: 80882\", \"usage\": {\"successful_requests\": 17837, \"total_tokens\": 12347789, \"prompt_tokens\": 11903259, \"completion_tokens\": 444530, \"total_cost\": 0.0}}',\n",
       "  'timestamp': '2025-01-22T07:55:15.166569',\n",
       "  'usage': {'input_tokens': 0,\n",
       "   'output_tokens': 0,\n",
       "   'total_tokens': 0,\n",
       "   'input_token_details': {'audio': 0, 'cache_read': 0},\n",
       "   'output_token_details': {'audio': 0, 'reasoning': 0}},\n",
       "  'model_name': '',\n",
       "  'additional_kwargs': {}},\n",
       " {'name': 'senior_reconciliation_agent',\n",
       "  'type': 'AIMessage',\n",
       "  'content': 'QUERY 808882 Requested invoice amount of $127 for Invoice ID: 80882. Please verify if this matches the database and the email details provided.',\n",
       "  'timestamp': '2025-01-22T07:55:17.658517',\n",
       "  'usage': {'input_tokens': 377,\n",
       "   'output_tokens': 42,\n",
       "   'total_tokens': 419,\n",
       "   'input_token_details': {},\n",
       "   'output_token_details': {}},\n",
       "  'model_name': 'qwen2.5:7b',\n",
       "  'additional_kwargs': {}},\n",
       " {'name': 'invoice_data_engineer',\n",
       "  'type': 'AIMessage',\n",
       "  'content': 'ASK Invoice ID: 808882',\n",
       "  'timestamp': '2025-01-22T07:55:17.795143',\n",
       "  'usage': {'input_tokens': 301,\n",
       "   'output_tokens': 12,\n",
       "   'total_tokens': 313,\n",
       "   'input_token_details': {},\n",
       "   'output_token_details': {}},\n",
       "  'model_name': 'qwen2.5:7b',\n",
       "  'additional_kwargs': {}}]"
      ]
     },
     "execution_count": 28,
     "metadata": {},
     "output_type": "execute_result"
    }
   ],
   "source": [
    "full_logs[i : i + 5]"
   ]
  }
 ],
 "metadata": {
  "accelerator": "GPU",
  "application/vnd.databricks.v1+notebook": {
   "dashboards": [],
   "environmentMetadata": null,
   "language": "python",
   "notebookMetadata": {
    "mostRecentlyExecutedCommandWithImplicitDF": {
     "commandId": -1,
     "dataframes": [
      "_sqldf"
     ]
    },
    "pythonIndentUnit": 4
   },
   "notebookName": "10_eval-lf-medium-py3.11",
   "widgets": {}
  },
  "colab": {
   "gpuType": "L4",
   "provenance": []
  },
  "kernelspec": {
   "display_name": "sme-invoicing",
   "language": "python",
   "name": "python3"
  },
  "language_info": {
   "codemirror_mode": {
    "name": "ipython",
    "version": 3
   },
   "file_extension": ".py",
   "mimetype": "text/x-python",
   "name": "python",
   "nbconvert_exporter": "python",
   "pygments_lexer": "ipython3",
   "version": "3.13.1"
  }
 },
 "nbformat": 4,
 "nbformat_minor": 0
}
