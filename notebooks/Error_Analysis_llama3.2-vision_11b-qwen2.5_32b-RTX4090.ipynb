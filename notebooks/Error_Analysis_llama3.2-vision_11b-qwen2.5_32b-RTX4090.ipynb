{
 "cells": [
  {
   "cell_type": "code",
   "execution_count": 1,
   "metadata": {},
   "outputs": [],
   "source": [
    "%load_ext autoreload\n",
    "%autoreload 2"
   ]
  },
  {
   "cell_type": "code",
   "execution_count": 2,
   "metadata": {},
   "outputs": [
    {
     "name": "stdout",
     "output_type": "stream",
     "text": [
      "workding dir: /Users/gauri-foundry/Desktop/eval_SME/sme-invoicing-assistant\n"
     ]
    }
   ],
   "source": [
    "import os\n",
    "import sys\n",
    "from pathlib import Path\n",
    "\n",
    "# check if workding_dir is in local variables\n",
    "if \"workding_dir\" not in locals():\n",
    "    workding_dir = str(Path.cwd().parent)\n",
    "\n",
    "os.chdir(workding_dir)\n",
    "sys.path.append(workding_dir)\n",
    "print(\"workding dir:\", workding_dir)"
   ]
  },
  {
   "cell_type": "code",
   "execution_count": 3,
   "metadata": {},
   "outputs": [
    {
     "name": "stdout",
     "output_type": "stream",
     "text": [
      "loading env vars from: /Users/gauri-foundry/Desktop/eval_SME/sme-invoicing-assistant/.env.example\n"
     ]
    },
    {
     "data": {
      "text/plain": [
       "True"
      ]
     },
     "execution_count": 3,
     "metadata": {},
     "output_type": "execute_result"
    }
   ],
   "source": [
    "from dotenv import find_dotenv, load_dotenv\n",
    "\n",
    "found_dotenv = find_dotenv(\".env\")\n",
    "\n",
    "if len(found_dotenv) == 0:\n",
    "    found_dotenv = find_dotenv(\".env.example\")\n",
    "print(f\"loading env vars from: {found_dotenv}\")\n",
    "load_dotenv(found_dotenv, override=True)"
   ]
  },
  {
   "cell_type": "code",
   "execution_count": 4,
   "metadata": {},
   "outputs": [
    {
     "ename": "OperationalError",
     "evalue": "unable to open database file",
     "output_type": "error",
     "traceback": [
      "\u001b[0;31m---------------------------------------------------------------------------\u001b[0m",
      "\u001b[0;31mOperationalError\u001b[0m                          Traceback (most recent call last)",
      "Cell \u001b[0;32mIn[4], line 5\u001b[0m\n\u001b[1;32m      2\u001b[0m \u001b[38;5;28;01mimport\u001b[39;00m\u001b[38;5;250m \u001b[39m\u001b[38;5;21;01msqlite3\u001b[39;00m\n\u001b[1;32m      4\u001b[0m \u001b[38;5;66;03m# Connect to SQLite database\u001b[39;00m\n\u001b[0;32m----> 5\u001b[0m conn \u001b[38;5;241m=\u001b[39m \u001b[43msqlite3\u001b[49m\u001b[38;5;241;43m.\u001b[39;49m\u001b[43mconnect\u001b[49m\u001b[43m(\u001b[49m\u001b[38;5;124;43m\"\u001b[39;49m\u001b[38;5;124;43m/results/llama3.2-vision_11b-qwen2.5_7b-RTX4090/emails.db\u001b[39;49m\u001b[38;5;124;43m\"\u001b[39;49m\u001b[43m)\u001b[49m\n\u001b[1;32m      6\u001b[0m \u001b[38;5;66;03m# conn = sqlite3.connect(\"src/data/db/llama3.2-vision_11b-qwen2.5_32b/emails.db\")\u001b[39;00m\n\u001b[1;32m      7\u001b[0m \n\u001b[1;32m      8\u001b[0m \u001b[38;5;66;03m# Write your SQL query\u001b[39;00m\n\u001b[1;32m      9\u001b[0m query \u001b[38;5;241m=\u001b[39m \u001b[38;5;124m\"\u001b[39m\u001b[38;5;124mSELECT * FROM emails\u001b[39m\u001b[38;5;124m\"\u001b[39m\n",
      "\u001b[0;31mOperationalError\u001b[0m: unable to open database file"
     ]
    }
   ],
   "source": [
    "import pandas as pd\n",
    "import sqlite3\n",
    "\n",
    "# Connect to SQLite database\n",
    "conn = sqlite3.connect(\"/results/llama3.2-vision_11b-qwen2.5_7b-RTX4090/emails.db\")\n",
    "# conn = sqlite3.connect(\"src/data/db/llama3.2-vision_11b-qwen2.5_32b/emails.db\")\n",
    "\n",
    "# Write your SQL query\n",
    "query = \"SELECT * FROM emails\"\n",
    "\n",
    "# Read the query results into a pandas DataFrame\n",
    "df = pd.read_sql(query, conn)\n",
    "\n",
    "df.head(5)"
   ]
  },
  {
   "cell_type": "code",
   "execution_count": null,
   "metadata": {},
   "outputs": [],
   "source": [
    "# Code to filter and remove repeated Invoice ID specific data from emails db\n",
    "error_df = df.loc[df[\"process_status\"] == \"ERROR\", [\"response\", \"email_id\"]]\n",
    "ground_truth_df = pd.read_csv(\"./src/data/synthetic_data/ground_truth_data.csv\")\n",
    "ground_truth_df.head()\n",
    "matching_rows = ground_truth_df[ground_truth_df[\"email_id\"].isin(error_df[\"email_id\"])]\n",
    "# print(matching_rows)\n",
    "error_df = error_df.merge(\n",
    "    matching_rows[[\"email_id\", \"invoice_id\", \"amount\"]], on=\"email_id\", how=\"left\"\n",
    ")\n",
    "transactions_df = pd.read_csv(\"./src/data/synthetic_data/transactions.csv\")\n",
    "ground_truth_df = pd.read_csv(\"./ground_truth_data 2.csv\")\n",
    "duplicate_rows = transactions_df[transactions_df[\"invoice_id\"].duplicated(keep=False)]\n",
    "# print(duplicate_rows)\n",
    "num_duplicates = transactions_df[\"invoice_id\"].duplicated().sum()\n",
    "# print(f\"Number of duplicate invoice_ids: {num_duplicates}\")\n",
    "duplicated_invoice_ids = transactions_df[\n",
    "    transactions_df[\"invoice_id\"].duplicated(keep=False)\n",
    "][\"invoice_id\"].unique()\n",
    "print(\"Unique duplicated invoice_ids:\")\n",
    "print(duplicated_invoice_ids)\n",
    "matched_rows_emailid = ground_truth_df[\n",
    "    ground_truth_df[\"invoice_id\"].isin(duplicated_invoice_ids)\n",
    "]\n",
    "email_id_associated_with_duplicated_invoice_id = matched_rows_emailid[\n",
    "    \"email_id\"\n",
    "].tolist()\n",
    "# print(email_id_associated_with_duplicated_invoice_id)\n",
    "# print(len(email_id_associated_with_duplicated_invoice_id))"
   ]
  },
  {
   "cell_type": "code",
   "execution_count": 5,
   "metadata": {},
   "outputs": [
    {
     "ename": "NameError",
     "evalue": "name 'df' is not defined",
     "output_type": "error",
     "traceback": [
      "\u001b[0;31m---------------------------------------------------------------------------\u001b[0m",
      "\u001b[0;31mNameError\u001b[0m                                 Traceback (most recent call last)",
      "Cell \u001b[0;32mIn[5], line 2\u001b[0m\n\u001b[1;32m      1\u001b[0m \u001b[38;5;66;03m## DF without repeated Invoice ID's\u001b[39;00m\n\u001b[0;32m----> 2\u001b[0m df_filtered \u001b[38;5;241m=\u001b[39m \u001b[43mdf\u001b[49m[\u001b[38;5;241m~\u001b[39mdf[\u001b[38;5;124m'\u001b[39m\u001b[38;5;124memail_id\u001b[39m\u001b[38;5;124m'\u001b[39m]\u001b[38;5;241m.\u001b[39misin(email_id_associated_with_duplicated_invoice_id)] \n",
      "\u001b[0;31mNameError\u001b[0m: name 'df' is not defined"
     ]
    }
   ],
   "source": [
    "## DF without repeated Invoice ID's\n",
    "df_filtered = df[~df[\"email_id\"].isin(email_id_associated_with_duplicated_invoice_id)]"
   ]
  },
  {
   "cell_type": "markdown",
   "metadata": {},
   "source": []
  }
 ],
 "metadata": {
  "kernelspec": {
   "display_name": ".venv",
   "language": "python",
   "name": "python3"
  },
  "language_info": {
   "codemirror_mode": {
    "name": "ipython",
    "version": 3
   },
   "file_extension": ".py",
   "mimetype": "text/x-python",
   "name": "python",
   "nbconvert_exporter": "python",
   "pygments_lexer": "ipython3",
   "version": "3.12.2"
  }
 },
 "nbformat": 4,
 "nbformat_minor": 2
}
