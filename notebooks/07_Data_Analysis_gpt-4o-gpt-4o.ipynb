{
 "cells": [
  {
   "cell_type": "code",
   "execution_count": 1,
   "metadata": {
    "ExecuteTime": {
     "end_time": "2025-01-22T16:24:57.789020Z",
     "start_time": "2025-01-22T16:24:57.782525Z"
    },
    "executionInfo": {
     "elapsed": 476,
     "status": "ok",
     "timestamp": 1720679526275,
     "user": {
      "displayName": "HUANG DONGHAO _",
      "userId": "00977795705617022768"
     },
     "user_tz": -480
    },
    "id": "uWKRSV6eZsCn"
   },
   "outputs": [],
   "source": [
    "%load_ext autoreload\n",
    "%autoreload 2"
   ]
  },
  {
   "cell_type": "code",
   "execution_count": 2,
   "metadata": {
    "ExecuteTime": {
     "end_time": "2025-01-22T16:24:58.910816Z",
     "start_time": "2025-01-22T16:24:58.904066Z"
    },
    "application/vnd.databricks.v1+cell": {
     "cellMetadata": {
      "byteLimit": 2048000,
      "rowLimit": 10000
     },
     "inputWidgets": {},
     "nuid": "6d394937-6c99-4a7c-9d32-7600a280032f",
     "showTitle": false,
     "title": ""
    },
    "colab": {
     "base_uri": "https://localhost:8080/"
    },
    "executionInfo": {
     "elapsed": 5,
     "status": "ok",
     "timestamp": 1720679529345,
     "user": {
      "displayName": "HUANG DONGHAO _",
      "userId": "00977795705617022768"
     },
     "user_tz": -480
    },
    "id": "G5pNu3zgZBrL",
    "outputId": "160a554f-fb08-4aa0-bc00-0422fb7c1fac"
   },
   "outputs": [
    {
     "name": "stdout",
     "output_type": "stream",
     "text": [
      "workding dir: /Users/inflaton/code/engd/papers/sme-invoicing-assistant\n"
     ]
    }
   ],
   "source": [
    "import os\n",
    "import sys\n",
    "from pathlib import Path\n",
    "\n",
    "# check if workding_dir is in local variables\n",
    "if \"workding_dir\" not in locals():\n",
    "    workding_dir = str(Path.cwd().parent)\n",
    "\n",
    "os.chdir(workding_dir)\n",
    "sys.path.append(workding_dir)\n",
    "print(\"workding dir:\", workding_dir)"
   ]
  },
  {
   "cell_type": "code",
   "execution_count": 3,
   "metadata": {
    "ExecuteTime": {
     "end_time": "2025-01-22T16:25:36.368889Z",
     "start_time": "2025-01-22T16:25:36.355704Z"
    },
    "application/vnd.databricks.v1+cell": {
     "cellMetadata": {
      "byteLimit": 2048000,
      "rowLimit": 10000
     },
     "inputWidgets": {},
     "nuid": "9f67ec60-2f24-411c-84eb-0dd664b44775",
     "showTitle": false,
     "title": ""
    },
    "colab": {
     "base_uri": "https://localhost:8080/"
    },
    "executionInfo": {
     "elapsed": 3,
     "status": "ok",
     "timestamp": 1720679529345,
     "user": {
      "displayName": "HUANG DONGHAO _",
      "userId": "00977795705617022768"
     },
     "user_tz": -480
    },
    "id": "hPCC-6m7ZBrM",
    "outputId": "c7aa2c96-5e99-440a-c148-201d79465ff9"
   },
   "outputs": [
    {
     "name": "stdout",
     "output_type": "stream",
     "text": [
      "loading env vars from: /Users/inflaton/code/engd/papers/sme-invoicing-assistant/.env\n"
     ]
    },
    {
     "data": {
      "text/plain": [
       "True"
      ]
     },
     "execution_count": 3,
     "metadata": {},
     "output_type": "execute_result"
    }
   ],
   "source": [
    "from dotenv import find_dotenv, load_dotenv\n",
    "\n",
    "found_dotenv = find_dotenv(\".env\")\n",
    "\n",
    "if len(found_dotenv) == 0:\n",
    "    found_dotenv = find_dotenv(\".env.example\")\n",
    "print(f\"loading env vars from: {found_dotenv}\")\n",
    "load_dotenv(found_dotenv, override=True)"
   ]
  },
  {
   "cell_type": "code",
   "execution_count": 4,
   "metadata": {
    "ExecuteTime": {
     "end_time": "2025-01-22T16:33:48.754185Z",
     "start_time": "2025-01-22T16:33:34.193966Z"
    }
   },
   "outputs": [
    {
     "data": {
      "text/html": [
       "<div>\n",
       "<style scoped>\n",
       "    .dataframe tbody tr th:only-of-type {\n",
       "        vertical-align: middle;\n",
       "    }\n",
       "\n",
       "    .dataframe tbody tr th {\n",
       "        vertical-align: top;\n",
       "    }\n",
       "\n",
       "    .dataframe thead th {\n",
       "        text-align: right;\n",
       "    }\n",
       "</style>\n",
       "<table border=\"1\" class=\"dataframe\">\n",
       "  <thead>\n",
       "    <tr style=\"text-align: right;\">\n",
       "      <th></th>\n",
       "      <th>email_id</th>\n",
       "      <th>sender_email</th>\n",
       "      <th>recipient_email</th>\n",
       "      <th>subject</th>\n",
       "      <th>email_body</th>\n",
       "      <th>attachments</th>\n",
       "      <th>process_status</th>\n",
       "      <th>response</th>\n",
       "      <th>start_time</th>\n",
       "      <th>end_time</th>\n",
       "      <th>total_time</th>\n",
       "      <th>successful_requests</th>\n",
       "      <th>total_tokens</th>\n",
       "      <th>prompt_tokens</th>\n",
       "      <th>completion_tokens</th>\n",
       "      <th>total_cost</th>\n",
       "    </tr>\n",
       "  </thead>\n",
       "  <tbody>\n",
       "    <tr>\n",
       "      <th>0</th>\n",
       "      <td>93185A89130149C0A842968E4AFDCAA2</td>\n",
       "      <td>RobinLevine@example.com</td>\n",
       "      <td>tanya.official.456@gmail.com</td>\n",
       "      <td>Payment Confirmation for Invoice ID: 43925</td>\n",
       "      <td>Hi Tanya ! Please find attached payment screen...</td>\n",
       "      <td>transaction_1.jpeg</td>\n",
       "      <td>SUCCESS</td>\n",
       "      <td>{\"content\": \"DONE\"}</td>\n",
       "      <td>2025-01-22T02:27:52.875562</td>\n",
       "      <td>2025-01-22T02:28:02.693589</td>\n",
       "      <td>9.8180</td>\n",
       "      <td>8</td>\n",
       "      <td>2906</td>\n",
       "      <td>2599</td>\n",
       "      <td>307</td>\n",
       "      <td>0.0095675</td>\n",
       "    </tr>\n",
       "    <tr>\n",
       "      <th>1</th>\n",
       "      <td>614972488B7B411BAEA4814CF066CDAA</td>\n",
       "      <td>StevenNixon@example.com</td>\n",
       "      <td>tanya.official.456@gmail.com</td>\n",
       "      <td>Payment Confirmation for Invoice ID: 51782</td>\n",
       "      <td>Hi Tanya ! Please find attached payment screen...</td>\n",
       "      <td>transaction_2.jpeg</td>\n",
       "      <td>SUCCESS</td>\n",
       "      <td>{\"content\": \"DONE\"}</td>\n",
       "      <td>2025-01-22T02:28:02.696606</td>\n",
       "      <td>2025-01-22T02:28:15.314340</td>\n",
       "      <td>12.6177</td>\n",
       "      <td>28</td>\n",
       "      <td>10034</td>\n",
       "      <td>8957</td>\n",
       "      <td>1077</td>\n",
       "      <td>0.0331625</td>\n",
       "    </tr>\n",
       "    <tr>\n",
       "      <th>2</th>\n",
       "      <td>C484ABEB38F44D29960B1CEF58510627</td>\n",
       "      <td>MadisonFord@example.com</td>\n",
       "      <td>tanya.official.456@gmail.com</td>\n",
       "      <td>Payment Confirmation for Invoice ID: 42968</td>\n",
       "      <td>Hi Tanya ! Please find attached payment screen...</td>\n",
       "      <td>transaction_3.jpeg</td>\n",
       "      <td>SUCCESS</td>\n",
       "      <td>{\"content\": \"DONE\"}</td>\n",
       "      <td>2025-01-22T02:28:15.316510</td>\n",
       "      <td>2025-01-22T02:28:24.281095</td>\n",
       "      <td>8.9646</td>\n",
       "      <td>60</td>\n",
       "      <td>21377</td>\n",
       "      <td>19074</td>\n",
       "      <td>2303</td>\n",
       "      <td>0.070715</td>\n",
       "    </tr>\n",
       "    <tr>\n",
       "      <th>3</th>\n",
       "      <td>706B3403E8024178948B3BFBF9E64A25</td>\n",
       "      <td>KathrynJones@example.com</td>\n",
       "      <td>tanya.official.456@gmail.com</td>\n",
       "      <td>Payment Confirmation for Invoice ID: 92948</td>\n",
       "      <td>Hi Tanya ! Please find attached payment screen...</td>\n",
       "      <td>transaction_4.jpeg</td>\n",
       "      <td>SUCCESS</td>\n",
       "      <td>{\"content\": \"DONE\"}</td>\n",
       "      <td>2025-01-22T02:28:24.283451</td>\n",
       "      <td>2025-01-22T02:28:35.575543</td>\n",
       "      <td>11.2921</td>\n",
       "      <td>104</td>\n",
       "      <td>37030</td>\n",
       "      <td>33006</td>\n",
       "      <td>4024</td>\n",
       "      <td>0.122755</td>\n",
       "    </tr>\n",
       "    <tr>\n",
       "      <th>4</th>\n",
       "      <td>86838440CA6C472AACFA3FCE1382609C</td>\n",
       "      <td>ChristineOwens@example.com</td>\n",
       "      <td>tanya.official.456@gmail.com</td>\n",
       "      <td>Payment Confirmation for Invoice ID: 20304</td>\n",
       "      <td>Hi Tanya ! Please find attached payment screen...</td>\n",
       "      <td>transaction_5.jpeg</td>\n",
       "      <td>SUCCESS</td>\n",
       "      <td>{\"content\": \"DONE\"}</td>\n",
       "      <td>2025-01-22T02:28:35.577048</td>\n",
       "      <td>2025-01-22T02:28:45.828714</td>\n",
       "      <td>10.2517</td>\n",
       "      <td>160</td>\n",
       "      <td>57002</td>\n",
       "      <td>50752</td>\n",
       "      <td>6250</td>\n",
       "      <td>0.18938</td>\n",
       "    </tr>\n",
       "  </tbody>\n",
       "</table>\n",
       "</div>"
      ],
      "text/plain": [
       "                           email_id                sender_email  \\\n",
       "0  93185A89130149C0A842968E4AFDCAA2     RobinLevine@example.com   \n",
       "1  614972488B7B411BAEA4814CF066CDAA     StevenNixon@example.com   \n",
       "2  C484ABEB38F44D29960B1CEF58510627     MadisonFord@example.com   \n",
       "3  706B3403E8024178948B3BFBF9E64A25    KathrynJones@example.com   \n",
       "4  86838440CA6C472AACFA3FCE1382609C  ChristineOwens@example.com   \n",
       "\n",
       "                recipient_email                                     subject  \\\n",
       "0  tanya.official.456@gmail.com  Payment Confirmation for Invoice ID: 43925   \n",
       "1  tanya.official.456@gmail.com  Payment Confirmation for Invoice ID: 51782   \n",
       "2  tanya.official.456@gmail.com  Payment Confirmation for Invoice ID: 42968   \n",
       "3  tanya.official.456@gmail.com  Payment Confirmation for Invoice ID: 92948   \n",
       "4  tanya.official.456@gmail.com  Payment Confirmation for Invoice ID: 20304   \n",
       "\n",
       "                                          email_body         attachments  \\\n",
       "0  Hi Tanya ! Please find attached payment screen...  transaction_1.jpeg   \n",
       "1  Hi Tanya ! Please find attached payment screen...  transaction_2.jpeg   \n",
       "2  Hi Tanya ! Please find attached payment screen...  transaction_3.jpeg   \n",
       "3  Hi Tanya ! Please find attached payment screen...  transaction_4.jpeg   \n",
       "4  Hi Tanya ! Please find attached payment screen...  transaction_5.jpeg   \n",
       "\n",
       "  process_status             response                  start_time  \\\n",
       "0        SUCCESS  {\"content\": \"DONE\"}  2025-01-22T02:27:52.875562   \n",
       "1        SUCCESS  {\"content\": \"DONE\"}  2025-01-22T02:28:02.696606   \n",
       "2        SUCCESS  {\"content\": \"DONE\"}  2025-01-22T02:28:15.316510   \n",
       "3        SUCCESS  {\"content\": \"DONE\"}  2025-01-22T02:28:24.283451   \n",
       "4        SUCCESS  {\"content\": \"DONE\"}  2025-01-22T02:28:35.577048   \n",
       "\n",
       "                     end_time total_time successful_requests total_tokens  \\\n",
       "0  2025-01-22T02:28:02.693589     9.8180                   8         2906   \n",
       "1  2025-01-22T02:28:15.314340    12.6177                  28        10034   \n",
       "2  2025-01-22T02:28:24.281095     8.9646                  60        21377   \n",
       "3  2025-01-22T02:28:35.575543    11.2921                 104        37030   \n",
       "4  2025-01-22T02:28:45.828714    10.2517                 160        57002   \n",
       "\n",
       "  prompt_tokens completion_tokens total_cost  \n",
       "0          2599               307  0.0095675  \n",
       "1          8957              1077  0.0331625  \n",
       "2         19074              2303   0.070715  \n",
       "3         33006              4024   0.122755  \n",
       "4         50752              6250    0.18938  "
      ]
     },
     "execution_count": 4,
     "metadata": {},
     "output_type": "execute_result"
    }
   ],
   "source": [
    "import pandas as pd\n",
    "import sqlite3\n",
    "\n",
    "# Connect to SQLite database\n",
    "conn = sqlite3.connect(\"results/gpt-4o-gpt-4o/emails.db\")\n",
    "# conn = sqlite3.connect(\"src/data/db/llama3.2-vision_11b-qwen2.5_32b/emails.db\")\n",
    "\n",
    "# Write your SQL query\n",
    "query = \"SELECT * FROM emails\"\n",
    "\n",
    "# Read the query results into a pandas DataFrame\n",
    "df = pd.read_sql(query, conn)\n",
    "\n",
    "df.head(5)"
   ]
  },
  {
   "cell_type": "code",
   "execution_count": 5,
   "metadata": {
    "ExecuteTime": {
     "end_time": "2025-01-22T16:34:03.559502Z",
     "start_time": "2025-01-22T16:33:55.887920Z"
    }
   },
   "outputs": [
    {
     "name": "stdout",
     "output_type": "stream",
     "text": [
      "full_logs loaded from results/gpt-4o-gpt-4o/full_logs.json\n"
     ]
    }
   ],
   "source": [
    "import json\n",
    "\n",
    "json_file = \"results/gpt-4o-gpt-4o/full_logs.json\"\n",
    "\n",
    "if \"full_logs\" in df.columns:\n",
    "    last_completed = df[df[\"full_logs\"] != \"\"].iloc[-1]\n",
    "    full_logs = json.loads(last_completed[\"full_logs\"])\n",
    "    json.dump(full_logs, open(json_file, \"w\"), indent=4)\n",
    "    conn.execute(\"ALTER TABLE emails DROP COLUMN full_logs\")\n",
    "    conn.execute(\"VACUUM\")\n",
    "    conn.commit()\n",
    "    print(\"full_logs saved to\", json_file)\n",
    "else:\n",
    "    full_logs = json.load(open(json_file))\n",
    "    print(\"full_logs loaded from\", json_file)\n",
    "\n",
    "# Close the connection\n",
    "conn.close()"
   ]
  },
  {
   "cell_type": "code",
   "execution_count": 6,
   "metadata": {
    "ExecuteTime": {
     "end_time": "2025-01-22T16:34:08.677639Z",
     "start_time": "2025-01-22T16:34:08.664634Z"
    }
   },
   "outputs": [
    {
     "name": "stdout",
     "output_type": "stream",
     "text": [
      "<class 'pandas.core.frame.DataFrame'>\n",
      "RangeIndex: 2000 entries, 0 to 1999\n",
      "Data columns (total 16 columns):\n",
      " #   Column               Non-Null Count  Dtype \n",
      "---  ------               --------------  ----- \n",
      " 0   email_id             2000 non-null   object\n",
      " 1   sender_email         2000 non-null   object\n",
      " 2   recipient_email      2000 non-null   object\n",
      " 3   subject              2000 non-null   object\n",
      " 4   email_body           2000 non-null   object\n",
      " 5   attachments          2000 non-null   object\n",
      " 6   process_status       2000 non-null   object\n",
      " 7   response             2000 non-null   object\n",
      " 8   start_time           2000 non-null   object\n",
      " 9   end_time             2000 non-null   object\n",
      " 10  total_time           2000 non-null   object\n",
      " 11  successful_requests  2000 non-null   object\n",
      " 12  total_tokens         2000 non-null   object\n",
      " 13  prompt_tokens        2000 non-null   object\n",
      " 14  completion_tokens    2000 non-null   object\n",
      " 15  total_cost           2000 non-null   object\n",
      "dtypes: object(16)\n",
      "memory usage: 250.1+ KB\n"
     ]
    }
   ],
   "source": [
    "df.info()"
   ]
  },
  {
   "cell_type": "code",
   "execution_count": 7,
   "metadata": {
    "ExecuteTime": {
     "end_time": "2025-01-22T16:34:20.821717Z",
     "start_time": "2025-01-22T16:34:17.333730Z"
    }
   },
   "outputs": [
    {
     "data": {
      "text/html": [
       "<div>\n",
       "<style scoped>\n",
       "    .dataframe tbody tr th:only-of-type {\n",
       "        vertical-align: middle;\n",
       "    }\n",
       "\n",
       "    .dataframe tbody tr th {\n",
       "        vertical-align: top;\n",
       "    }\n",
       "\n",
       "    .dataframe thead th {\n",
       "        text-align: right;\n",
       "    }\n",
       "</style>\n",
       "<table border=\"1\" class=\"dataframe\">\n",
       "  <thead>\n",
       "    <tr style=\"text-align: right;\">\n",
       "      <th></th>\n",
       "      <th>email_id</th>\n",
       "      <th>sender_email</th>\n",
       "      <th>recipient_email</th>\n",
       "      <th>subject</th>\n",
       "      <th>email_body</th>\n",
       "      <th>attachments</th>\n",
       "      <th>process_status</th>\n",
       "      <th>response</th>\n",
       "      <th>start_time</th>\n",
       "      <th>end_time</th>\n",
       "      <th>total_time</th>\n",
       "      <th>successful_requests</th>\n",
       "      <th>total_tokens</th>\n",
       "      <th>prompt_tokens</th>\n",
       "      <th>completion_tokens</th>\n",
       "      <th>total_cost</th>\n",
       "    </tr>\n",
       "  </thead>\n",
       "  <tbody>\n",
       "    <tr>\n",
       "      <th>count</th>\n",
       "      <td>2000</td>\n",
       "      <td>2000</td>\n",
       "      <td>2000</td>\n",
       "      <td>2000</td>\n",
       "      <td>2000</td>\n",
       "      <td>2000</td>\n",
       "      <td>2000</td>\n",
       "      <td>2000</td>\n",
       "      <td>2000</td>\n",
       "      <td>2000</td>\n",
       "      <td>2000</td>\n",
       "      <td>2000</td>\n",
       "      <td>2000</td>\n",
       "      <td>2000</td>\n",
       "      <td>2000</td>\n",
       "      <td>2000</td>\n",
       "    </tr>\n",
       "    <tr>\n",
       "      <th>unique</th>\n",
       "      <td>2000</td>\n",
       "      <td>1988</td>\n",
       "      <td>1</td>\n",
       "      <td>1947</td>\n",
       "      <td>2000</td>\n",
       "      <td>1001</td>\n",
       "      <td>3</td>\n",
       "      <td>528</td>\n",
       "      <td>2000</td>\n",
       "      <td>2000</td>\n",
       "      <td>1990</td>\n",
       "      <td>2000</td>\n",
       "      <td>2000</td>\n",
       "      <td>2000</td>\n",
       "      <td>2000</td>\n",
       "      <td>2000</td>\n",
       "    </tr>\n",
       "    <tr>\n",
       "      <th>top</th>\n",
       "      <td>93185A89130149C0A842968E4AFDCAA2</td>\n",
       "      <td>MichaelJones@example.com</td>\n",
       "      <td>tanya.official.456@gmail.com</td>\n",
       "      <td>Payment Confirmation for Invoice I13212</td>\n",
       "      <td>Hi Tanya ! Please find attached payment screen...</td>\n",
       "      <td></td>\n",
       "      <td>SUCCESS</td>\n",
       "      <td>{\"content\": \"DONE\"}</td>\n",
       "      <td>2025-01-22T02:27:52.875562</td>\n",
       "      <td>2025-01-22T02:28:02.693589</td>\n",
       "      <td>9.4020</td>\n",
       "      <td>8</td>\n",
       "      <td>2906</td>\n",
       "      <td>2599</td>\n",
       "      <td>307</td>\n",
       "      <td>0.0095675</td>\n",
       "    </tr>\n",
       "    <tr>\n",
       "      <th>freq</th>\n",
       "      <td>1</td>\n",
       "      <td>3</td>\n",
       "      <td>2000</td>\n",
       "      <td>3</td>\n",
       "      <td>1</td>\n",
       "      <td>1000</td>\n",
       "      <td>1474</td>\n",
       "      <td>1462</td>\n",
       "      <td>1</td>\n",
       "      <td>1</td>\n",
       "      <td>2</td>\n",
       "      <td>1</td>\n",
       "      <td>1</td>\n",
       "      <td>1</td>\n",
       "      <td>1</td>\n",
       "      <td>1</td>\n",
       "    </tr>\n",
       "  </tbody>\n",
       "</table>\n",
       "</div>"
      ],
      "text/plain": [
       "                                email_id              sender_email  \\\n",
       "count                               2000                      2000   \n",
       "unique                              2000                      1988   \n",
       "top     93185A89130149C0A842968E4AFDCAA2  MichaelJones@example.com   \n",
       "freq                                   1                         3   \n",
       "\n",
       "                     recipient_email                                  subject  \\\n",
       "count                           2000                                     2000   \n",
       "unique                             1                                     1947   \n",
       "top     tanya.official.456@gmail.com  Payment Confirmation for Invoice I13212   \n",
       "freq                            2000                                        3   \n",
       "\n",
       "                                               email_body attachments  \\\n",
       "count                                                2000        2000   \n",
       "unique                                               2000        1001   \n",
       "top     Hi Tanya ! Please find attached payment screen...               \n",
       "freq                                                    1        1000   \n",
       "\n",
       "       process_status             response                  start_time  \\\n",
       "count            2000                 2000                        2000   \n",
       "unique              3                  528                        2000   \n",
       "top           SUCCESS  {\"content\": \"DONE\"}  2025-01-22T02:27:52.875562   \n",
       "freq             1474                 1462                           1   \n",
       "\n",
       "                          end_time total_time successful_requests  \\\n",
       "count                         2000       2000                2000   \n",
       "unique                        2000       1990                2000   \n",
       "top     2025-01-22T02:28:02.693589     9.4020                   8   \n",
       "freq                             1          2                   1   \n",
       "\n",
       "       total_tokens prompt_tokens completion_tokens total_cost  \n",
       "count          2000          2000              2000       2000  \n",
       "unique         2000          2000              2000       2000  \n",
       "top            2906          2599               307  0.0095675  \n",
       "freq              1             1                 1          1  "
      ]
     },
     "execution_count": 7,
     "metadata": {},
     "output_type": "execute_result"
    }
   ],
   "source": [
    "df.describe()"
   ]
  },
  {
   "cell_type": "code",
   "execution_count": 8,
   "metadata": {
    "ExecuteTime": {
     "end_time": "2025-01-22T16:34:38.182572Z",
     "start_time": "2025-01-22T16:34:37.956698Z"
    }
   },
   "outputs": [],
   "source": [
    "# plot the distribution of categories\n",
    "import matplotlib.pyplot as plt\n",
    "\n",
    "\n",
    "def plot_value_distribution(df2, col=\"category\", top_n=10):\n",
    "    df2[col].value_counts()[:top_n].plot(kind=\"bar\")\n",
    "    plt.title(f\"Distribution of {col}\")\n",
    "\n",
    "    # add the count on top of the bars\n",
    "    for i in range(len(df2[col].value_counts()[:top_n])):\n",
    "        count = df2[col].value_counts().values[i]\n",
    "        plt.text(i, count, count, ha=\"center\")\n",
    "\n",
    "    plt.show()"
   ]
  },
  {
   "cell_type": "code",
   "execution_count": 9,
   "metadata": {
    "ExecuteTime": {
     "end_time": "2025-01-22T16:34:40.692047Z",
     "start_time": "2025-01-22T16:34:40.612213Z"
    }
   },
   "outputs": [
    {
     "data": {
      "image/png": "[encoded data removed]",
      "text/plain": [
       "<Figure size 640x480 with 1 Axes>"
      ]
     },
     "metadata": {},
     "output_type": "display_data"
    }
   ],
   "source": [
    "plot_value_distribution(df, \"process_status\")"
   ]
  },
  {
   "cell_type": "code",
   "execution_count": 10,
   "metadata": {
    "ExecuteTime": {
     "end_time": "2025-01-22T16:34:54.745282Z",
     "start_time": "2025-01-22T16:34:54.587498Z"
    }
   },
   "outputs": [
    {
     "data": {
      "image/png": "[encoded data removed]",
      "text/plain": [
       "<Figure size 640x480 with 1 Axes>"
      ]
     },
     "metadata": {},
     "output_type": "display_data"
    }
   ],
   "source": [
    "plot_value_distribution(df, \"response\")"
   ]
  },
  {
   "cell_type": "code",
   "execution_count": 11,
   "metadata": {
    "ExecuteTime": {
     "end_time": "2025-01-22T16:35:09.881642Z",
     "start_time": "2025-01-22T16:35:09.869698Z"
    }
   },
   "outputs": [],
   "source": [
    "df[\"end_time\"] = pd.to_datetime(df[\"end_time\"])\n",
    "df[\"start_time\"] = pd.to_datetime(df[\"start_time\"])\n",
    "df[\"duration\"] = (df[\"end_time\"] - df[\"start_time\"]).dt.total_seconds()"
   ]
  },
  {
   "cell_type": "code",
   "execution_count": 12,
   "metadata": {
    "ExecuteTime": {
     "end_time": "2025-01-22T16:35:12.614923Z",
     "start_time": "2025-01-22T16:35:12.604335Z"
    }
   },
   "outputs": [
    {
     "data": {
      "text/html": [
       "<div>\n",
       "<style scoped>\n",
       "    .dataframe tbody tr th:only-of-type {\n",
       "        vertical-align: middle;\n",
       "    }\n",
       "\n",
       "    .dataframe tbody tr th {\n",
       "        vertical-align: top;\n",
       "    }\n",
       "\n",
       "    .dataframe thead th {\n",
       "        text-align: right;\n",
       "    }\n",
       "</style>\n",
       "<table border=\"1\" class=\"dataframe\">\n",
       "  <thead>\n",
       "    <tr style=\"text-align: right;\">\n",
       "      <th></th>\n",
       "      <th>duration</th>\n",
       "      <th>total_time</th>\n",
       "    </tr>\n",
       "  </thead>\n",
       "  <tbody>\n",
       "    <tr>\n",
       "      <th>0</th>\n",
       "      <td>9.818027</td>\n",
       "      <td>9.8180</td>\n",
       "    </tr>\n",
       "    <tr>\n",
       "      <th>1</th>\n",
       "      <td>12.617734</td>\n",
       "      <td>12.6177</td>\n",
       "    </tr>\n",
       "    <tr>\n",
       "      <th>2</th>\n",
       "      <td>8.964585</td>\n",
       "      <td>8.9646</td>\n",
       "    </tr>\n",
       "    <tr>\n",
       "      <th>3</th>\n",
       "      <td>11.292092</td>\n",
       "      <td>11.2921</td>\n",
       "    </tr>\n",
       "    <tr>\n",
       "      <th>4</th>\n",
       "      <td>10.251666</td>\n",
       "      <td>10.2517</td>\n",
       "    </tr>\n",
       "  </tbody>\n",
       "</table>\n",
       "</div>"
      ],
      "text/plain": [
       "    duration total_time\n",
       "0   9.818027     9.8180\n",
       "1  12.617734    12.6177\n",
       "2   8.964585     8.9646\n",
       "3  11.292092    11.2921\n",
       "4  10.251666    10.2517"
      ]
     },
     "execution_count": 12,
     "metadata": {},
     "output_type": "execute_result"
    }
   ],
   "source": [
    "df[[\"duration\", \"total_time\"]].head()"
   ]
  },
  {
   "cell_type": "code",
   "execution_count": 13,
   "metadata": {
    "ExecuteTime": {
     "end_time": "2025-01-22T16:35:15.152545Z",
     "start_time": "2025-01-22T16:35:15.066863Z"
    }
   },
   "outputs": [
    {
     "data": {
      "text/plain": [
       "<Axes: ylabel='Frequency'>"
      ]
     },
     "execution_count": 13,
     "metadata": {},
     "output_type": "execute_result"
    },
    {
     "data": {
      "image/png": "[encoded data removed]",
      "text/plain": [
       "<Figure size 640x480 with 1 Axes>"
      ]
     },
     "metadata": {},
     "output_type": "display_data"
    }
   ],
   "source": [
    "# plot the distribution of duration\n",
    "df[\"duration\"].plot(kind=\"hist\", bins=100)"
   ]
  },
  {
   "cell_type": "code",
   "execution_count": 14,
   "metadata": {
    "ExecuteTime": {
     "end_time": "2025-01-22T16:35:17.883904Z",
     "start_time": "2025-01-22T16:35:17.872861Z"
    }
   },
   "outputs": [
    {
     "data": {
      "text/html": [
       "<div>\n",
       "<style scoped>\n",
       "    .dataframe tbody tr th:only-of-type {\n",
       "        vertical-align: middle;\n",
       "    }\n",
       "\n",
       "    .dataframe tbody tr th {\n",
       "        vertical-align: top;\n",
       "    }\n",
       "\n",
       "    .dataframe thead th {\n",
       "        text-align: right;\n",
       "    }\n",
       "</style>\n",
       "<table border=\"1\" class=\"dataframe\">\n",
       "  <thead>\n",
       "    <tr style=\"text-align: right;\">\n",
       "      <th></th>\n",
       "      <th>email_id</th>\n",
       "      <th>sender_email</th>\n",
       "      <th>recipient_email</th>\n",
       "      <th>subject</th>\n",
       "      <th>email_body</th>\n",
       "      <th>attachments</th>\n",
       "      <th>process_status</th>\n",
       "      <th>response</th>\n",
       "      <th>start_time</th>\n",
       "      <th>end_time</th>\n",
       "      <th>total_time</th>\n",
       "      <th>successful_requests</th>\n",
       "      <th>total_tokens</th>\n",
       "      <th>prompt_tokens</th>\n",
       "      <th>completion_tokens</th>\n",
       "      <th>total_cost</th>\n",
       "      <th>duration</th>\n",
       "    </tr>\n",
       "  </thead>\n",
       "  <tbody>\n",
       "  </tbody>\n",
       "</table>\n",
       "</div>"
      ],
      "text/plain": [
       "Empty DataFrame\n",
       "Columns: [email_id, sender_email, recipient_email, subject, email_body, attachments, process_status, response, start_time, end_time, total_time, successful_requests, total_tokens, prompt_tokens, completion_tokens, total_cost, duration]\n",
       "Index: []"
      ]
     },
     "execution_count": 14,
     "metadata": {},
     "output_type": "execute_result"
    }
   ],
   "source": [
    "df[df[\"duration\"] > 48]"
   ]
  },
  {
   "cell_type": "code",
   "execution_count": 15,
   "metadata": {
    "ExecuteTime": {
     "end_time": "2025-01-22T16:35:21.873098Z",
     "start_time": "2025-01-22T16:35:21.862129Z"
    }
   },
   "outputs": [
    {
     "data": {
      "text/plain": [
       "count    2000.000000\n",
       "mean       10.455226\n",
       "std         4.605681\n",
       "min         1.664090\n",
       "25%         7.645513\n",
       "50%        10.497075\n",
       "75%        13.006521\n",
       "max        32.580872\n",
       "Name: duration, dtype: float64"
      ]
     },
     "execution_count": 15,
     "metadata": {},
     "output_type": "execute_result"
    }
   ],
   "source": [
    "df[\"duration\"].describe()"
   ]
  },
  {
   "cell_type": "code",
   "execution_count": 16,
   "metadata": {
    "ExecuteTime": {
     "end_time": "2025-01-22T16:35:25.285181Z",
     "start_time": "2025-01-22T16:35:25.151579Z"
    }
   },
   "outputs": [
    {
     "data": {
      "image/png": "[encoded data removed]",
      "text/plain": [
       "<Figure size 640x480 with 1 Axes>"
      ]
     },
     "metadata": {},
     "output_type": "display_data"
    }
   ],
   "source": [
    "plot_value_distribution(df, \"successful_requests\", top_n=30)"
   ]
  },
  {
   "cell_type": "code",
   "execution_count": 17,
   "metadata": {
    "ExecuteTime": {
     "end_time": "2025-01-22T16:35:29.095719Z",
     "start_time": "2025-01-22T16:35:29.085436Z"
    }
   },
   "outputs": [
    {
     "data": {
      "text/plain": [
       "process_status\n",
       "SUCCESS        1474\n",
       "NOT_INVOICE     329\n",
       "ERROR           197\n",
       "Name: count, dtype: int64"
      ]
     },
     "execution_count": 17,
     "metadata": {},
     "output_type": "execute_result"
    }
   ],
   "source": [
    "df[\"process_status\"].value_counts()"
   ]
  },
  {
   "cell_type": "code",
   "execution_count": 18,
   "metadata": {
    "ExecuteTime": {
     "end_time": "2025-01-22T16:35:41.189306Z",
     "start_time": "2025-01-22T16:35:41.179778Z"
    }
   },
   "outputs": [
    {
     "data": {
      "text/plain": [
       "0.737"
      ]
     },
     "execution_count": 18,
     "metadata": {},
     "output_type": "execute_result"
    }
   ],
   "source": [
    "success_rate = df[\"process_status\"].value_counts()[\"SUCCESS\"] / len(df)\n",
    "success_rate"
   ]
  },
  {
   "cell_type": "code",
   "execution_count": 19,
   "metadata": {
    "ExecuteTime": {
     "end_time": "2025-01-22T16:35:47.122184Z",
     "start_time": "2025-01-22T16:35:47.113958Z"
    }
   },
   "outputs": [],
   "source": [
    "def total_power_in_watt(file_path):\n",
    "    df = pd.read_csv(file_path)\n",
    "    return df[\"CPU Package Power [W]\"].mean() + df[\"GPU Power [W]\"].mean()"
   ]
  },
  {
   "cell_type": "code",
   "execution_count": 20,
   "metadata": {
    "ExecuteTime": {
     "end_time": "2025-01-22T16:36:46.093258Z",
     "start_time": "2025-01-22T16:36:46.080353Z"
    }
   },
   "outputs": [
    {
     "data": {
      "text/plain": [
       "29.873"
      ]
     },
     "execution_count": 20,
     "metadata": {},
     "output_type": "execute_result"
    }
   ],
   "source": [
    "power_idle = total_power_in_watt(\"results/power_idle2.csv\")\n",
    "power_idle"
   ]
  },
  {
   "cell_type": "code",
   "execution_count": 21,
   "metadata": {
    "ExecuteTime": {
     "end_time": "2025-01-22T10:11:28.370633Z",
     "start_time": "2025-01-22T10:11:28.361532Z"
    }
   },
   "outputs": [
    {
     "data": {
      "text/plain": [
       "10.455226331"
      ]
     },
     "execution_count": 21,
     "metadata": {},
     "output_type": "execute_result"
    }
   ],
   "source": [
    "mean_response_time = df[\"duration\"].mean()\n",
    "mean_response_time"
   ]
  },
  {
   "cell_type": "code",
   "execution_count": 22,
   "metadata": {
    "ExecuteTime": {
     "end_time": "2025-01-22T10:11:41.191890Z",
     "start_time": "2025-01-22T10:11:41.178739Z"
    }
   },
   "outputs": [
    {
     "data": {
      "text/html": [
       "<div>\n",
       "<style scoped>\n",
       "    .dataframe tbody tr th:only-of-type {\n",
       "        vertical-align: middle;\n",
       "    }\n",
       "\n",
       "    .dataframe tbody tr th {\n",
       "        vertical-align: top;\n",
       "    }\n",
       "\n",
       "    .dataframe thead th {\n",
       "        text-align: right;\n",
       "    }\n",
       "</style>\n",
       "<table border=\"1\" class=\"dataframe\">\n",
       "  <thead>\n",
       "    <tr style=\"text-align: right;\">\n",
       "      <th></th>\n",
       "      <th>start_time</th>\n",
       "      <th>end_time</th>\n",
       "      <th>duration</th>\n",
       "    </tr>\n",
       "  </thead>\n",
       "  <tbody>\n",
       "    <tr>\n",
       "      <th>count</th>\n",
       "      <td>2000</td>\n",
       "      <td>2000</td>\n",
       "      <td>2000.000000</td>\n",
       "    </tr>\n",
       "    <tr>\n",
       "      <th>mean</th>\n",
       "      <td>2025-01-22 05:29:11.796349696</td>\n",
       "      <td>2025-01-22 05:29:22.251576064</td>\n",
       "      <td>10.455226</td>\n",
       "    </tr>\n",
       "    <tr>\n",
       "      <th>min</th>\n",
       "      <td>2025-01-22 02:27:52.875562</td>\n",
       "      <td>2025-01-22 02:28:02.693589</td>\n",
       "      <td>1.664090</td>\n",
       "    </tr>\n",
       "    <tr>\n",
       "      <th>25%</th>\n",
       "      <td>2025-01-22 04:01:15.704680192</td>\n",
       "      <td>2025-01-22 04:01:26.900114688</td>\n",
       "      <td>7.645513</td>\n",
       "    </tr>\n",
       "    <tr>\n",
       "      <th>50%</th>\n",
       "      <td>2025-01-22 05:33:43.335098880</td>\n",
       "      <td>2025-01-22 05:33:57.685530112</td>\n",
       "      <td>10.497075</td>\n",
       "    </tr>\n",
       "    <tr>\n",
       "      <th>75%</th>\n",
       "      <td>2025-01-22 06:57:07.970392320</td>\n",
       "      <td>2025-01-22 06:57:14.648642560</td>\n",
       "      <td>13.006521</td>\n",
       "    </tr>\n",
       "    <tr>\n",
       "      <th>max</th>\n",
       "      <td>2025-01-22 08:18:19.039584</td>\n",
       "      <td>2025-01-22 08:18:33.415099</td>\n",
       "      <td>32.580872</td>\n",
       "    </tr>\n",
       "    <tr>\n",
       "      <th>std</th>\n",
       "      <td>NaN</td>\n",
       "      <td>NaN</td>\n",
       "      <td>4.605681</td>\n",
       "    </tr>\n",
       "  </tbody>\n",
       "</table>\n",
       "</div>"
      ],
      "text/plain": [
       "                          start_time                       end_time  \\\n",
       "count                           2000                           2000   \n",
       "mean   2025-01-22 05:29:11.796349696  2025-01-22 05:29:22.251576064   \n",
       "min       2025-01-22 02:27:52.875562     2025-01-22 02:28:02.693589   \n",
       "25%    2025-01-22 04:01:15.704680192  2025-01-22 04:01:26.900114688   \n",
       "50%    2025-01-22 05:33:43.335098880  2025-01-22 05:33:57.685530112   \n",
       "75%    2025-01-22 06:57:07.970392320  2025-01-22 06:57:14.648642560   \n",
       "max       2025-01-22 08:18:19.039584     2025-01-22 08:18:33.415099   \n",
       "std                              NaN                            NaN   \n",
       "\n",
       "          duration  \n",
       "count  2000.000000  \n",
       "mean     10.455226  \n",
       "min       1.664090  \n",
       "25%       7.645513  \n",
       "50%      10.497075  \n",
       "75%      13.006521  \n",
       "max      32.580872  \n",
       "std       4.605681  "
      ]
     },
     "execution_count": 22,
     "metadata": {},
     "output_type": "execute_result"
    }
   ],
   "source": [
    "df.describe()"
   ]
  },
  {
   "cell_type": "code",
   "execution_count": 23,
   "metadata": {
    "ExecuteTime": {
     "end_time": "2025-01-22T10:11:50.362500Z",
     "start_time": "2025-01-22T10:11:50.351560Z"
    }
   },
   "outputs": [
    {
     "data": {
      "text/plain": [
       "email_id                                34AA7A59847C4141B526E83794125CAD\n",
       "sender_email                                   RobinAnderson@example.com\n",
       "recipient_email                             tanya.official.456@gmail.com\n",
       "subject                       Payment Confirmation for Invoice ID: 21369\n",
       "email_body             Hi Tanya ! Please find attached payment screen...\n",
       "attachments                                          transaction_44.jpeg\n",
       "process_status                                                     ERROR\n",
       "response               ERROR: The invoice amount is missing from the ...\n",
       "start_time                                    2025-01-22 02:36:14.313837\n",
       "end_time                                      2025-01-22 02:36:19.433633\n",
       "total_time                                                        5.1198\n",
       "successful_requests                                                11655\n",
       "total_tokens                                                     4180783\n",
       "prompt_tokens                                                    3696206\n",
       "completion_tokens                                                 484577\n",
       "total_cost                                                     14.086285\n",
       "duration                                                        5.119796\n",
       "Name: 43, dtype: object"
      ]
     },
     "execution_count": 23,
     "metadata": {},
     "output_type": "execute_result"
    }
   ],
   "source": [
    "row = df[df[\"process_status\"] == \"ERROR\"].iloc[0]\n",
    "row"
   ]
  },
  {
   "cell_type": "code",
   "execution_count": 24,
   "metadata": {
    "ExecuteTime": {
     "end_time": "2025-01-22T10:12:00.940862Z",
     "start_time": "2025-01-22T10:12:00.931291Z"
    }
   },
   "outputs": [
    {
     "data": {
      "text/plain": [
       "{'name': 'input',\n",
       " 'type': 'HumanMessage',\n",
       " 'content': '\\n                Help to reconcile invoices using the following email:\\n\\n                \\n            Sender: RobinLevine@example.com\\n            Subject: Payment Confirmation for Invoice ID: 43925\\n            Body: Hi Tanya ! Please find attached payment screenshot for Invoice ID: 43925 , Regards Robin Levine\\n            Attachment: transaction_1.jpeg\\n            Time stamp: NOT_STARTED\\n            \\n                ',\n",
       " 'timestamp': '2025-01-22T08:18:19.039584',\n",
       " 'usage': {'input_tokens': 0,\n",
       "  'output_tokens': 0,\n",
       "  'total_tokens': 0,\n",
       "  'input_token_details': {'audio': 0, 'cache_read': 0},\n",
       "  'output_token_details': {'audio': 0, 'reasoning': 0}},\n",
       " 'model_name': '',\n",
       " 'additional_kwargs': {}}"
      ]
     },
     "execution_count": 24,
     "metadata": {},
     "output_type": "execute_result"
    }
   ],
   "source": [
    "full_logs[0]"
   ]
  },
  {
   "cell_type": "code",
   "execution_count": 25,
   "metadata": {
    "ExecuteTime": {
     "end_time": "2025-01-22T10:12:11.818691Z",
     "start_time": "2025-01-22T10:12:11.808563Z"
    }
   },
   "outputs": [
    {
     "name": "stdout",
     "output_type": "stream",
     "text": [
      "383\n"
     ]
    }
   ],
   "source": [
    "for i, log in enumerate(full_logs):\n",
    "    if row[\"attachments\"] in log[\"content\"]:\n",
    "        print(i)\n",
    "        break"
   ]
  },
  {
   "cell_type": "code",
   "execution_count": 26,
   "metadata": {
    "ExecuteTime": {
     "end_time": "2025-01-22T10:12:13.350282Z",
     "start_time": "2025-01-22T10:12:13.340465Z"
    }
   },
   "outputs": [
    {
     "data": {
      "text/plain": [
       "[{'name': 'input',\n",
       "  'type': 'HumanMessage',\n",
       "  'content': '\\n                Help to reconcile invoices using the following email:\\n\\n                \\n            Sender: RobinAnderson@example.com\\n            Subject: Payment Confirmation for Invoice ID: 21369\\n            Body: Hi Tanya ! Please find attached payment screenshot for Invoice ID: 21369 , Regards Robin Anderson\\n            Attachment: transaction_44.jpeg\\n            Time stamp: NOT_STARTED\\n            \\n                ',\n",
       "  'timestamp': '2025-01-22T08:18:19.039584',\n",
       "  'usage': {'input_tokens': 0,\n",
       "   'output_tokens': 0,\n",
       "   'total_tokens': 0,\n",
       "   'input_token_details': {'audio': 0, 'cache_read': 0},\n",
       "   'output_token_details': {'audio': 0, 'reasoning': 0}},\n",
       "  'model_name': '',\n",
       "  'additional_kwargs': {}},\n",
       " {'name': 'finance_clerk',\n",
       "  'type': 'AIMessage',\n",
       "  'content': 'Tool calls to ocr_tool',\n",
       "  'timestamp': '2025-01-22T02:36:15.837547',\n",
       "  'usage': {'input_tokens': 197,\n",
       "   'output_tokens': 20,\n",
       "   'total_tokens': 217,\n",
       "   'input_token_details': {'audio': 0, 'cache_read': 0},\n",
       "   'output_token_details': {'audio': 0, 'reasoning': 0}},\n",
       "  'model_name': 'gpt-4o-2024-08-06',\n",
       "  'additional_kwargs': {'tool_calls': [{'name': 'ocr_tool',\n",
       "     'args': {'image_path': 'transaction_44.jpeg'},\n",
       "     'id': 'call_D5ioCrzXvWUNp5vTt6Gcz1gb',\n",
       "     'type': 'tool_call'}]}},\n",
       " {'name': 'ocr_tool',\n",
       "  'type': 'ToolMessage',\n",
       "  'content': '{\"content\": \"```\\\\nBank 789\\\\n\\\\nSent by: Robin Anderson\\\\n\\\\nYou paid $173\\\\nto Tanya\\\\n\\\\nTransaction Reference Number:\\\\nCE01A265CA3A4BFF\\\\n\\\\nTransaction Date: 07/22/24\\\\nInvoice ID: 21369\\\\n```\", \"usage\": {\"successful_requests\": 258, \"total_tokens\": 92668, \"prompt_tokens\": 82028, \"completion_tokens\": 10640, \"total_cost\": 0.3114700000000003}}',\n",
       "  'timestamp': '2025-01-22T02:36:15.837547',\n",
       "  'usage': {'input_tokens': 0,\n",
       "   'output_tokens': 0,\n",
       "   'total_tokens': 0,\n",
       "   'input_token_details': {'audio': 0, 'cache_read': 0},\n",
       "   'output_token_details': {'audio': 0, 'reasoning': 0}},\n",
       "  'model_name': '',\n",
       "  'additional_kwargs': {}},\n",
       " {'name': 'senior_reconciliation_agent',\n",
       "  'type': 'AIMessage',\n",
       "  'content': 'ERROR: The invoice amount is missing from the email and OCR data.',\n",
       "  'timestamp': '2025-01-22T02:36:19.433457',\n",
       "  'usage': {'input_tokens': 355,\n",
       "   'output_tokens': 15,\n",
       "   'total_tokens': 370,\n",
       "   'input_token_details': {'audio': 0, 'cache_read': 0},\n",
       "   'output_token_details': {'audio': 0, 'reasoning': 0}},\n",
       "  'model_name': 'gpt-4o-2024-08-06',\n",
       "  'additional_kwargs': {}},\n",
       " {'name': 'input',\n",
       "  'type': 'HumanMessage',\n",
       "  'content': '\\n                Help to reconcile invoices using the following email:\\n\\n                \\n            Sender: RonaldOrtiz@example.com\\n            Subject: Payment Confirmation for Invoice ID: 93671\\n            Body: Hi Tanya ! Please find attached payment screenshot for Invoice ID: 93671 , Regards Ronald Ortiz\\n            Attachment: transaction_45.jpeg\\n            Time stamp: NOT_STARTED\\n            \\n                ',\n",
       "  'timestamp': '2025-01-22T08:18:19.039584',\n",
       "  'usage': {'input_tokens': 0,\n",
       "   'output_tokens': 0,\n",
       "   'total_tokens': 0,\n",
       "   'input_token_details': {'audio': 0, 'cache_read': 0},\n",
       "   'output_token_details': {'audio': 0, 'reasoning': 0}},\n",
       "  'model_name': '',\n",
       "  'additional_kwargs': {}}]"
      ]
     },
     "execution_count": 26,
     "metadata": {},
     "output_type": "execute_result"
    }
   ],
   "source": [
    "full_logs[i : i + 5]"
   ]
  },
  {
   "cell_type": "code",
   "execution_count": 32,
   "metadata": {},
   "outputs": [
    {
     "data": {
      "text/plain": [
       "{'task_completion_rate': 1,\n",
       " 'task_success_rate': 0.737,\n",
       " 'mean_execution_time': 10.455226331}"
      ]
     },
     "execution_count": 32,
     "metadata": {},
     "output_type": "execute_result"
    }
   ],
   "source": [
    "from src.misc.metrics import *\n",
    "\n",
    "get_metrics(df)"
   ]
  },
  {
   "cell_type": "code",
   "execution_count": 28,
   "metadata": {},
   "outputs": [
    {
     "data": {
      "text/plain": [
       "(1000, 1000)"
      ]
     },
     "execution_count": 28,
     "metadata": {},
     "output_type": "execute_result"
    }
   ],
   "source": [
    "len(df[df[\"attachments\"] == \"\"]), len(df[df[\"attachments\"] != \"\"])"
   ]
  },
  {
   "cell_type": "code",
   "execution_count": 29,
   "metadata": {},
   "outputs": [
    {
     "data": {
      "text/plain": [
       "{'task_completion_rate': 1,\n",
       " 'task_success_rate': 0.926,\n",
       " 'mean_execution_time': 11.116701718}"
      ]
     },
     "execution_count": 29,
     "metadata": {},
     "output_type": "execute_result"
    }
   ],
   "source": [
    "df_vision = df[df[\"attachments\"] != \"\"].copy()\n",
    "get_metrics(df_vision)"
   ]
  },
  {
   "cell_type": "code",
   "execution_count": 30,
   "metadata": {},
   "outputs": [
    {
     "data": {
      "text/plain": [
       "{'task_completion_rate': 1,\n",
       " 'task_success_rate': 0.548,\n",
       " 'mean_execution_time': 9.793750944}"
      ]
     },
     "execution_count": 30,
     "metadata": {},
     "output_type": "execute_result"
    }
   ],
   "source": [
    "df_no_vision = df[df[\"attachments\"] == \"\"].copy()\n",
    "get_metrics(df_no_vision)"
   ]
  },
  {
   "cell_type": "code",
   "execution_count": 31,
   "metadata": {},
   "outputs": [
    {
     "data": {
      "text/html": [
       "<div>\n",
       "<style scoped>\n",
       "    .dataframe tbody tr th:only-of-type {\n",
       "        vertical-align: middle;\n",
       "    }\n",
       "\n",
       "    .dataframe tbody tr th {\n",
       "        vertical-align: top;\n",
       "    }\n",
       "\n",
       "    .dataframe thead th {\n",
       "        text-align: right;\n",
       "    }\n",
       "</style>\n",
       "<table border=\"1\" class=\"dataframe\">\n",
       "  <thead>\n",
       "    <tr style=\"text-align: right;\">\n",
       "      <th></th>\n",
       "      <th>email_id</th>\n",
       "      <th>sender_email</th>\n",
       "      <th>recipient_email</th>\n",
       "      <th>subject</th>\n",
       "      <th>email_body</th>\n",
       "      <th>attachments</th>\n",
       "      <th>process_status</th>\n",
       "      <th>response</th>\n",
       "      <th>start_time</th>\n",
       "      <th>end_time</th>\n",
       "      <th>total_time</th>\n",
       "      <th>successful_requests</th>\n",
       "      <th>total_tokens</th>\n",
       "      <th>prompt_tokens</th>\n",
       "      <th>completion_tokens</th>\n",
       "      <th>total_cost</th>\n",
       "      <th>duration</th>\n",
       "      <th>duration_hms</th>\n",
       "    </tr>\n",
       "  </thead>\n",
       "  <tbody>\n",
       "    <tr>\n",
       "      <th>1003</th>\n",
       "      <td>2db38ad9-41f6-4671-93c2-7392b997027b</td>\n",
       "      <td>owhite@example.net</td>\n",
       "      <td>tanya.official.456@gmail.com</td>\n",
       "      <td>Payment Confirmation for Invoice I16676</td>\n",
       "      <td>Subject: Payment Confirmation for Invoice I166...</td>\n",
       "      <td></td>\n",
       "      <td>NOT_INVOICE</td>\n",
       "      <td>NA: The email does not contain an OCR attachme...</td>\n",
       "      <td>2025-01-22 05:34:39.361343</td>\n",
       "      <td>2025-01-22 05:34:41.344049</td>\n",
       "      <td>1.9827</td>\n",
       "      <td>5826511</td>\n",
       "      <td>2090261164</td>\n",
       "      <td>1849563436</td>\n",
       "      <td>240697728</td>\n",
       "      <td>7030.88586999999</td>\n",
       "      <td>1.982706</td>\n",
       "      <td>0 days 00:00:01</td>\n",
       "    </tr>\n",
       "    <tr>\n",
       "      <th>1004</th>\n",
       "      <td>36fc024b-16f5-4be9-a9b0-7446edc730af</td>\n",
       "      <td>simonandrew@example.org</td>\n",
       "      <td>tanya.official.456@gmail.com</td>\n",
       "      <td>Payment Confirmation for Invoice I12240</td>\n",
       "      <td>Subject: Payment Confirmation for Invoice I122...</td>\n",
       "      <td></td>\n",
       "      <td>ERROR</td>\n",
       "      <td>ERROR: Insufficient information to reconcile. ...</td>\n",
       "      <td>2025-01-22 05:34:41.398882</td>\n",
       "      <td>2025-01-22 05:34:45.188646</td>\n",
       "      <td>3.7898</td>\n",
       "      <td>5832341</td>\n",
       "      <td>2092355951</td>\n",
       "      <td>1851415883</td>\n",
       "      <td>240940068</td>\n",
       "      <td>7037.94038749999</td>\n",
       "      <td>3.789764</td>\n",
       "      <td>0 days 00:00:03</td>\n",
       "    </tr>\n",
       "    <tr>\n",
       "      <th>1006</th>\n",
       "      <td>a6a3fe38-eb0a-4dcf-82f6-dee89fda21a7</td>\n",
       "      <td>ricky23@example.org</td>\n",
       "      <td>tanya.official.456@gmail.com</td>\n",
       "      <td>Payment Confirmation for Invoice I11504</td>\n",
       "      <td>Subject: Payment Confirmation for Invoice I115...</td>\n",
       "      <td></td>\n",
       "      <td>NOT_INVOICE</td>\n",
       "      <td>NA - The data provided does not contain any fu...</td>\n",
       "      <td>2025-01-22 05:34:53.752837</td>\n",
       "      <td>2025-01-22 05:34:57.517082</td>\n",
       "      <td>3.7642</td>\n",
       "      <td>5844015</td>\n",
       "      <td>2096551117</td>\n",
       "      <td>1855125905</td>\n",
       "      <td>241425212</td>\n",
       "      <td>7052.06688249999</td>\n",
       "      <td>3.764245</td>\n",
       "      <td>0 days 00:00:03</td>\n",
       "    </tr>\n",
       "    <tr>\n",
       "      <th>1007</th>\n",
       "      <td>b0bedcca-e69a-422e-9590-6107e61e1ae7</td>\n",
       "      <td>tylerswanson@example.net</td>\n",
       "      <td>tanya.official.456@gmail.com</td>\n",
       "      <td>Payment Confirmation for Invoice I14724</td>\n",
       "      <td>Subject: Payment Confirmation for Invoice I147...</td>\n",
       "      <td></td>\n",
       "      <td>NOT_INVOICE</td>\n",
       "      <td>NA: The OCR data does not contain any informat...</td>\n",
       "      <td>2025-01-22 05:34:57.559716</td>\n",
       "      <td>2025-01-22 05:35:01.239868</td>\n",
       "      <td>3.6802</td>\n",
       "      <td>5849858</td>\n",
       "      <td>2098651065</td>\n",
       "      <td>1856983212</td>\n",
       "      <td>241667853</td>\n",
       "      <td>7059.13655999999</td>\n",
       "      <td>3.680152</td>\n",
       "      <td>0 days 00:00:03</td>\n",
       "    </tr>\n",
       "    <tr>\n",
       "      <th>1015</th>\n",
       "      <td>fe0393cc-2ac3-45b0-82b2-82c53fae83b3</td>\n",
       "      <td>christopher92@example.com</td>\n",
       "      <td>tanya.official.456@gmail.com</td>\n",
       "      <td>Payment Confirmation for Invoice I16640</td>\n",
       "      <td>Subject: Payment Confirmation for Invoice I166...</td>\n",
       "      <td></td>\n",
       "      <td>NOT_INVOICE</td>\n",
       "      <td>NA - The email and OCR data do not contain any...</td>\n",
       "      <td>2025-01-22 05:36:39.992404</td>\n",
       "      <td>2025-01-22 05:36:43.580138</td>\n",
       "      <td>3.5877</td>\n",
       "      <td>5896785</td>\n",
       "      <td>2115535192</td>\n",
       "      <td>1871910855</td>\n",
       "      <td>243624337</td>\n",
       "      <td>7116.02050749999</td>\n",
       "      <td>3.587734</td>\n",
       "      <td>0 days 00:00:03</td>\n",
       "    </tr>\n",
       "  </tbody>\n",
       "</table>\n",
       "</div>"
      ],
      "text/plain": [
       "                                  email_id               sender_email  \\\n",
       "1003  2db38ad9-41f6-4671-93c2-7392b997027b         owhite@example.net   \n",
       "1004  36fc024b-16f5-4be9-a9b0-7446edc730af    simonandrew@example.org   \n",
       "1006  a6a3fe38-eb0a-4dcf-82f6-dee89fda21a7        ricky23@example.org   \n",
       "1007  b0bedcca-e69a-422e-9590-6107e61e1ae7   tylerswanson@example.net   \n",
       "1015  fe0393cc-2ac3-45b0-82b2-82c53fae83b3  christopher92@example.com   \n",
       "\n",
       "                   recipient_email                                  subject  \\\n",
       "1003  tanya.official.456@gmail.com  Payment Confirmation for Invoice I16676   \n",
       "1004  tanya.official.456@gmail.com  Payment Confirmation for Invoice I12240   \n",
       "1006  tanya.official.456@gmail.com  Payment Confirmation for Invoice I11504   \n",
       "1007  tanya.official.456@gmail.com  Payment Confirmation for Invoice I14724   \n",
       "1015  tanya.official.456@gmail.com  Payment Confirmation for Invoice I16640   \n",
       "\n",
       "                                             email_body attachments  \\\n",
       "1003  Subject: Payment Confirmation for Invoice I166...               \n",
       "1004  Subject: Payment Confirmation for Invoice I122...               \n",
       "1006  Subject: Payment Confirmation for Invoice I115...               \n",
       "1007  Subject: Payment Confirmation for Invoice I147...               \n",
       "1015  Subject: Payment Confirmation for Invoice I166...               \n",
       "\n",
       "     process_status                                           response  \\\n",
       "1003    NOT_INVOICE  NA: The email does not contain an OCR attachme...   \n",
       "1004          ERROR  ERROR: Insufficient information to reconcile. ...   \n",
       "1006    NOT_INVOICE  NA - The data provided does not contain any fu...   \n",
       "1007    NOT_INVOICE  NA: The OCR data does not contain any informat...   \n",
       "1015    NOT_INVOICE  NA - The email and OCR data do not contain any...   \n",
       "\n",
       "                     start_time                   end_time total_time  \\\n",
       "1003 2025-01-22 05:34:39.361343 2025-01-22 05:34:41.344049     1.9827   \n",
       "1004 2025-01-22 05:34:41.398882 2025-01-22 05:34:45.188646     3.7898   \n",
       "1006 2025-01-22 05:34:53.752837 2025-01-22 05:34:57.517082     3.7642   \n",
       "1007 2025-01-22 05:34:57.559716 2025-01-22 05:35:01.239868     3.6802   \n",
       "1015 2025-01-22 05:36:39.992404 2025-01-22 05:36:43.580138     3.5877   \n",
       "\n",
       "     successful_requests total_tokens prompt_tokens completion_tokens  \\\n",
       "1003             5826511   2090261164    1849563436         240697728   \n",
       "1004             5832341   2092355951    1851415883         240940068   \n",
       "1006             5844015   2096551117    1855125905         241425212   \n",
       "1007             5849858   2098651065    1856983212         241667853   \n",
       "1015             5896785   2115535192    1871910855         243624337   \n",
       "\n",
       "            total_cost  duration    duration_hms  \n",
       "1003  7030.88586999999  1.982706 0 days 00:00:01  \n",
       "1004  7037.94038749999  3.789764 0 days 00:00:03  \n",
       "1006  7052.06688249999  3.764245 0 days 00:00:03  \n",
       "1007  7059.13655999999  3.680152 0 days 00:00:03  \n",
       "1015  7116.02050749999  3.587734 0 days 00:00:03  "
      ]
     },
     "execution_count": 31,
     "metadata": {},
     "output_type": "execute_result"
    }
   ],
   "source": [
    "df_no_vision[df_no_vision[\"process_status\"] != \"SUCCESS\"].head()"
   ]
  },
  {
   "cell_type": "code",
   "execution_count": 34,
   "metadata": {},
   "outputs": [
    {
     "name": "stdout",
     "output_type": "stream",
     "text": [
      "--------------------------------------------------\n",
      "process_status: NOT_INVOICE\n",
      "--------------------------------------------------\n",
      "email_body: Subject: Payment Confirmation for Invoice I16676\n",
      "                Brandon Young <owhite@example.net>\n",
      "                Mon, Jan 06, 2025, 06:59 AM\n",
      "                Dear Tanya, I hope this message finds you well.I am writing to confirm that we have successfully made the payment for Invoice I16676, related to our recent order with you. Here are the details:  \n",
      "                Description:\n",
      "                Invoice Date: November 12, 2024\n",
      "                Item: Wester Suit Women\n",
      "                Quantity: 3\n",
      "                Subtotal: $293.58\n",
      "                Tax (10%): $29.36\n",
      "                Shipping (if applicable): $18.08\n",
      "                Total Amount paid: $341.02\n",
      "                Transaction Reference Number - TXN-MST-156-799725\n",
      "                Thank you and I look forward to our continued business\n",
      "                Best regards,\n",
      "                Brandon Young\n",
      "--------------------------------------------------\n",
      "response: NA: The email does not contain an OCR attachment or invoice details that can be verified against the database. Please provide invoice data in a suitable format for reconciliation.\n",
      "==================================================\n"
     ]
    }
   ],
   "source": [
    "print_row_details(\n",
    "    df_no_vision[df_no_vision[\"process_status\"] != \"SUCCESS\"],\n",
    "    columns=[\"process_status\", \"email_body\", \"response\"],\n",
    ")"
   ]
  }
 ],
 "metadata": {
  "accelerator": "GPU",
  "application/vnd.databricks.v1+notebook": {
   "dashboards": [],
   "environmentMetadata": null,
   "language": "python",
   "notebookMetadata": {
    "mostRecentlyExecutedCommandWithImplicitDF": {
     "commandId": -1,
     "dataframes": [
      "_sqldf"
     ]
    },
    "pythonIndentUnit": 4
   },
   "notebookName": "10_eval-lf-medium-py3.11",
   "widgets": {}
  },
  "colab": {
   "gpuType": "L4",
   "provenance": []
  },
  "kernelspec": {
   "display_name": "sme-invoicing",
   "language": "python",
   "name": "python3"
  },
  "language_info": {
   "codemirror_mode": {
    "name": "ipython",
    "version": 3
   },
   "file_extension": ".py",
   "mimetype": "text/x-python",
   "name": "python",
   "nbconvert_exporter": "python",
   "pygments_lexer": "ipython3",
   "version": "3.13.1"
  }
 },
 "nbformat": 4,
 "nbformat_minor": 0
}
