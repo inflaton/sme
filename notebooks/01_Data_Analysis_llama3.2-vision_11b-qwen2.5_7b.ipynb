{
 "cells": [
  {
   "cell_type": "code",
   "execution_count": 1,
   "metadata": {
    "executionInfo": {
     "elapsed": 476,
     "status": "ok",
     "timestamp": 1720679526275,
     "user": {
      "displayName": "HUANG DONGHAO _",
      "userId": "00977795705617022768"
     },
     "user_tz": -480
    },
    "id": "uWKRSV6eZsCn"
   },
   "outputs": [],
   "source": [
    "%load_ext autoreload\n",
    "%autoreload 2"
   ]
  },
  {
   "cell_type": "code",
   "execution_count": 2,
   "metadata": {
    "application/vnd.databricks.v1+cell": {
     "cellMetadata": {
      "byteLimit": 2048000,
      "rowLimit": 10000
     },
     "inputWidgets": {},
     "nuid": "6d394937-6c99-4a7c-9d32-7600a280032f",
     "showTitle": false,
     "title": ""
    },
    "colab": {
     "base_uri": "https://localhost:8080/"
    },
    "executionInfo": {
     "elapsed": 5,
     "status": "ok",
     "timestamp": 1720679529345,
     "user": {
      "displayName": "HUANG DONGHAO _",
      "userId": "00977795705617022768"
     },
     "user_tz": -480
    },
    "id": "G5pNu3zgZBrL",
    "outputId": "160a554f-fb08-4aa0-bc00-0422fb7c1fac"
   },
   "outputs": [
    {
     "name": "stdout",
     "output_type": "stream",
     "text": [
      "workding dir: /home/inflaton/code/sme-invoicing-assistant\n"
     ]
    }
   ],
   "source": [
    "import os\n",
    "import sys\n",
    "from pathlib import Path\n",
    "\n",
    "# check if workding_dir is in local variables\n",
    "if \"workding_dir\" not in locals():\n",
    "    workding_dir = str(Path.cwd().parent)\n",
    "\n",
    "os.chdir(workding_dir)\n",
    "sys.path.append(workding_dir)\n",
    "print(\"workding dir:\", workding_dir)"
   ]
  },
  {
   "cell_type": "code",
   "execution_count": 3,
   "metadata": {
    "application/vnd.databricks.v1+cell": {
     "cellMetadata": {
      "byteLimit": 2048000,
      "rowLimit": 10000
     },
     "inputWidgets": {},
     "nuid": "9f67ec60-2f24-411c-84eb-0dd664b44775",
     "showTitle": false,
     "title": ""
    },
    "colab": {
     "base_uri": "https://localhost:8080/"
    },
    "executionInfo": {
     "elapsed": 3,
     "status": "ok",
     "timestamp": 1720679529345,
     "user": {
      "displayName": "HUANG DONGHAO _",
      "userId": "00977795705617022768"
     },
     "user_tz": -480
    },
    "id": "hPCC-6m7ZBrM",
    "outputId": "c7aa2c96-5e99-440a-c148-201d79465ff9"
   },
   "outputs": [
    {
     "name": "stdout",
     "output_type": "stream",
     "text": [
      "loading env vars from: /home/inflaton/code/sme-invoicing-assistant/.env\n"
     ]
    },
    {
     "data": {
      "text/plain": [
       "True"
      ]
     },
     "execution_count": 3,
     "metadata": {},
     "output_type": "execute_result"
    }
   ],
   "source": [
    "from dotenv import find_dotenv, load_dotenv\n",
    "\n",
    "found_dotenv = find_dotenv(\".env\")\n",
    "\n",
    "if len(found_dotenv) == 0:\n",
    "    found_dotenv = find_dotenv(\".env.example\")\n",
    "print(f\"loading env vars from: {found_dotenv}\")\n",
    "load_dotenv(found_dotenv, override=True)"
   ]
  },
  {
   "cell_type": "code",
   "execution_count": 4,
   "metadata": {},
   "outputs": [
    {
     "data": {
      "text/html": [
       "<div>\n",
       "<style scoped>\n",
       "    .dataframe tbody tr th:only-of-type {\n",
       "        vertical-align: middle;\n",
       "    }\n",
       "\n",
       "    .dataframe tbody tr th {\n",
       "        vertical-align: top;\n",
       "    }\n",
       "\n",
       "    .dataframe thead th {\n",
       "        text-align: right;\n",
       "    }\n",
       "</style>\n",
       "<table border=\"1\" class=\"dataframe\">\n",
       "  <thead>\n",
       "    <tr style=\"text-align: right;\">\n",
       "      <th></th>\n",
       "      <th>email_id</th>\n",
       "      <th>sender_email</th>\n",
       "      <th>recipient_email</th>\n",
       "      <th>subject</th>\n",
       "      <th>email_body</th>\n",
       "      <th>attachments</th>\n",
       "      <th>process_status</th>\n",
       "      <th>response</th>\n",
       "      <th>start_time</th>\n",
       "      <th>end_time</th>\n",
       "      <th>full_logs</th>\n",
       "      <th>total_time</th>\n",
       "      <th>successful_requests</th>\n",
       "      <th>total_tokens</th>\n",
       "      <th>prompt_tokens</th>\n",
       "      <th>completion_tokens</th>\n",
       "      <th>total_cost</th>\n",
       "    </tr>\n",
       "  </thead>\n",
       "  <tbody>\n",
       "    <tr>\n",
       "      <th>0</th>\n",
       "      <td>93185A89130149C0A842968E4AFDCAA2</td>\n",
       "      <td>RobinLevine@example.com</td>\n",
       "      <td>tanya.official.456@gmail.com</td>\n",
       "      <td>Payment Confirmation for Invoice ID: 43925</td>\n",
       "      <td>Hi Tanya ! Please find attached payment screen...</td>\n",
       "      <td>transaction_1.jpeg</td>\n",
       "      <td>SUCCESS</td>\n",
       "      <td>{\"content\": \"DONE\"}</td>\n",
       "      <td>2025-01-22T06:13:19.794937</td>\n",
       "      <td>2025-01-22T06:13:32.932023</td>\n",
       "      <td>[{\"name\": \"input\", \"type\": \"HumanMessage\", \"co...</td>\n",
       "      <td>13.1371</td>\n",
       "      <td>8</td>\n",
       "      <td>2543</td>\n",
       "      <td>2195</td>\n",
       "      <td>348</td>\n",
       "      <td>0.0</td>\n",
       "    </tr>\n",
       "    <tr>\n",
       "      <th>1</th>\n",
       "      <td>614972488B7B411BAEA4814CF066CDAA</td>\n",
       "      <td>StevenNixon@example.com</td>\n",
       "      <td>tanya.official.456@gmail.com</td>\n",
       "      <td>Payment Confirmation for Invoice ID: 51782</td>\n",
       "      <td>Hi Tanya ! Please find attached payment screen...</td>\n",
       "      <td>transaction_2.jpeg</td>\n",
       "      <td>SUCCESS</td>\n",
       "      <td>{\"content\": \"DONE\"}</td>\n",
       "      <td>2025-01-22T06:13:32.940619</td>\n",
       "      <td>2025-01-22T06:13:37.345421</td>\n",
       "      <td>[{\"name\": \"input\", \"type\": \"HumanMessage\", \"co...</td>\n",
       "      <td>4.4048</td>\n",
       "      <td>28</td>\n",
       "      <td>9468</td>\n",
       "      <td>8135</td>\n",
       "      <td>1333</td>\n",
       "      <td>0.0</td>\n",
       "    </tr>\n",
       "    <tr>\n",
       "      <th>2</th>\n",
       "      <td>C484ABEB38F44D29960B1CEF58510627</td>\n",
       "      <td>MadisonFord@example.com</td>\n",
       "      <td>tanya.official.456@gmail.com</td>\n",
       "      <td>Payment Confirmation for Invoice ID: 42968</td>\n",
       "      <td>Hi Tanya ! Please find attached payment screen...</td>\n",
       "      <td>transaction_3.jpeg</td>\n",
       "      <td>SUCCESS</td>\n",
       "      <td>{\"content\": \"DONE\"}</td>\n",
       "      <td>2025-01-22T06:13:37.353438</td>\n",
       "      <td>2025-01-22T06:13:56.944767</td>\n",
       "      <td>[{\"name\": \"input\", \"type\": \"HumanMessage\", \"co...</td>\n",
       "      <td>19.5913</td>\n",
       "      <td>102</td>\n",
       "      <td>56516</td>\n",
       "      <td>52091</td>\n",
       "      <td>4425</td>\n",
       "      <td>0.0</td>\n",
       "    </tr>\n",
       "    <tr>\n",
       "      <th>3</th>\n",
       "      <td>706B3403E8024178948B3BFBF9E64A25</td>\n",
       "      <td>KathrynJones@example.com</td>\n",
       "      <td>tanya.official.456@gmail.com</td>\n",
       "      <td>Payment Confirmation for Invoice ID: 92948</td>\n",
       "      <td>Hi Tanya ! Please find attached payment screen...</td>\n",
       "      <td>transaction_4.jpeg</td>\n",
       "      <td>SUCCESS</td>\n",
       "      <td>{\"content\": \"DONE\"}</td>\n",
       "      <td>2025-01-22T06:13:56.952945</td>\n",
       "      <td>2025-01-22T06:14:00.849069</td>\n",
       "      <td>[{\"name\": \"input\", \"type\": \"HumanMessage\", \"co...</td>\n",
       "      <td>3.8961</td>\n",
       "      <td>230</td>\n",
       "      <td>143471</td>\n",
       "      <td>133922</td>\n",
       "      <td>9549</td>\n",
       "      <td>0.0</td>\n",
       "    </tr>\n",
       "    <tr>\n",
       "      <th>4</th>\n",
       "      <td>86838440CA6C472AACFA3FCE1382609C</td>\n",
       "      <td>ChristineOwens@example.com</td>\n",
       "      <td>tanya.official.456@gmail.com</td>\n",
       "      <td>Payment Confirmation for Invoice ID: 20304</td>\n",
       "      <td>Hi Tanya ! Please find attached payment screen...</td>\n",
       "      <td>transaction_5.jpeg</td>\n",
       "      <td>SUCCESS</td>\n",
       "      <td>{\"content\": \"DONE\"}</td>\n",
       "      <td>2025-01-22T06:14:00.862291</td>\n",
       "      <td>2025-01-22T06:14:24.372419</td>\n",
       "      <td>[{\"name\": \"input\", \"type\": \"HumanMessage\", \"co...</td>\n",
       "      <td>23.5101</td>\n",
       "      <td>454</td>\n",
       "      <td>302427</td>\n",
       "      <td>285863</td>\n",
       "      <td>16564</td>\n",
       "      <td>0.0</td>\n",
       "    </tr>\n",
       "  </tbody>\n",
       "</table>\n",
       "</div>"
      ],
      "text/plain": [
       "                           email_id                sender_email  \\\n",
       "0  93185A89130149C0A842968E4AFDCAA2     RobinLevine@example.com   \n",
       "1  614972488B7B411BAEA4814CF066CDAA     StevenNixon@example.com   \n",
       "2  C484ABEB38F44D29960B1CEF58510627     MadisonFord@example.com   \n",
       "3  706B3403E8024178948B3BFBF9E64A25    KathrynJones@example.com   \n",
       "4  86838440CA6C472AACFA3FCE1382609C  ChristineOwens@example.com   \n",
       "\n",
       "                recipient_email                                     subject  \\\n",
       "0  tanya.official.456@gmail.com  Payment Confirmation for Invoice ID: 43925   \n",
       "1  tanya.official.456@gmail.com  Payment Confirmation for Invoice ID: 51782   \n",
       "2  tanya.official.456@gmail.com  Payment Confirmation for Invoice ID: 42968   \n",
       "3  tanya.official.456@gmail.com  Payment Confirmation for Invoice ID: 92948   \n",
       "4  tanya.official.456@gmail.com  Payment Confirmation for Invoice ID: 20304   \n",
       "\n",
       "                                          email_body         attachments  \\\n",
       "0  Hi Tanya ! Please find attached payment screen...  transaction_1.jpeg   \n",
       "1  Hi Tanya ! Please find attached payment screen...  transaction_2.jpeg   \n",
       "2  Hi Tanya ! Please find attached payment screen...  transaction_3.jpeg   \n",
       "3  Hi Tanya ! Please find attached payment screen...  transaction_4.jpeg   \n",
       "4  Hi Tanya ! Please find attached payment screen...  transaction_5.jpeg   \n",
       "\n",
       "  process_status             response                  start_time  \\\n",
       "0        SUCCESS  {\"content\": \"DONE\"}  2025-01-22T06:13:19.794937   \n",
       "1        SUCCESS  {\"content\": \"DONE\"}  2025-01-22T06:13:32.940619   \n",
       "2        SUCCESS  {\"content\": \"DONE\"}  2025-01-22T06:13:37.353438   \n",
       "3        SUCCESS  {\"content\": \"DONE\"}  2025-01-22T06:13:56.952945   \n",
       "4        SUCCESS  {\"content\": \"DONE\"}  2025-01-22T06:14:00.862291   \n",
       "\n",
       "                     end_time  \\\n",
       "0  2025-01-22T06:13:32.932023   \n",
       "1  2025-01-22T06:13:37.345421   \n",
       "2  2025-01-22T06:13:56.944767   \n",
       "3  2025-01-22T06:14:00.849069   \n",
       "4  2025-01-22T06:14:24.372419   \n",
       "\n",
       "                                           full_logs total_time  \\\n",
       "0  [{\"name\": \"input\", \"type\": \"HumanMessage\", \"co...    13.1371   \n",
       "1  [{\"name\": \"input\", \"type\": \"HumanMessage\", \"co...     4.4048   \n",
       "2  [{\"name\": \"input\", \"type\": \"HumanMessage\", \"co...    19.5913   \n",
       "3  [{\"name\": \"input\", \"type\": \"HumanMessage\", \"co...     3.8961   \n",
       "4  [{\"name\": \"input\", \"type\": \"HumanMessage\", \"co...    23.5101   \n",
       "\n",
       "  successful_requests total_tokens prompt_tokens completion_tokens total_cost  \n",
       "0                   8         2543          2195               348        0.0  \n",
       "1                  28         9468          8135              1333        0.0  \n",
       "2                 102        56516         52091              4425        0.0  \n",
       "3                 230       143471        133922              9549        0.0  \n",
       "4                 454       302427        285863             16564        0.0  "
      ]
     },
     "execution_count": 4,
     "metadata": {},
     "output_type": "execute_result"
    }
   ],
   "source": [
    "import pandas as pd\n",
    "import sqlite3\n",
    "\n",
    "# Connect to SQLite database\n",
    "conn = sqlite3.connect(\"results/llama3.2-vision_11b-qwen2.5_7b/emails.db\")\n",
    "# conn = sqlite3.connect(\"src/data/db/llama3.2-vision_11b-qwen2.5_7b/emails.db\")\n",
    "\n",
    "# Write your SQL query\n",
    "query = \"SELECT * FROM emails\"\n",
    "\n",
    "# Read the query results into a pandas DataFrame\n",
    "df = pd.read_sql(query, conn)\n",
    "\n",
    "df.head(5)"
   ]
  },
  {
   "cell_type": "code",
   "execution_count": 5,
   "metadata": {},
   "outputs": [
    {
     "name": "stdout",
     "output_type": "stream",
     "text": [
      "full_logs saved to results/llama3.2-vision_11b-qwen2.5_7b/full_logs.json\n"
     ]
    }
   ],
   "source": [
    "import json\n",
    "\n",
    "json_file = \"results/llama3.2-vision_11b-qwen2.5_7b/full_logs.json\"\n",
    "\n",
    "if \"full_logs\" in df.columns:\n",
    "    last_completed = df[df[\"full_logs\"] != \"\"].iloc[-1]\n",
    "    full_logs = json.loads(last_completed[\"full_logs\"])\n",
    "    json.dump(full_logs, open(json_file, \"w\"), indent=4)\n",
    "    conn.execute(\"ALTER TABLE emails DROP COLUMN full_logs\")\n",
    "    conn.execute(\"VACUUM\")\n",
    "    conn.commit()\n",
    "    print(\"full_logs saved to\", json_file)\n",
    "else:\n",
    "    full_logs = json.load(open(json_file))\n",
    "    print(\"full_logs loaded from\", json_file)\n",
    "\n",
    "# Close the connection\n",
    "conn.close()"
   ]
  },
  {
   "cell_type": "code",
   "execution_count": 6,
   "metadata": {},
   "outputs": [
    {
     "name": "stdout",
     "output_type": "stream",
     "text": [
      "<class 'pandas.core.frame.DataFrame'>\n",
      "RangeIndex: 2000 entries, 0 to 1999\n",
      "Data columns (total 17 columns):\n",
      " #   Column               Non-Null Count  Dtype \n",
      "---  ------               --------------  ----- \n",
      " 0   email_id             2000 non-null   object\n",
      " 1   sender_email         2000 non-null   object\n",
      " 2   recipient_email      2000 non-null   object\n",
      " 3   subject              2000 non-null   object\n",
      " 4   email_body           2000 non-null   object\n",
      " 5   attachments          2000 non-null   object\n",
      " 6   process_status       2000 non-null   object\n",
      " 7   response             2000 non-null   object\n",
      " 8   start_time           2000 non-null   object\n",
      " 9   end_time             2000 non-null   object\n",
      " 10  full_logs            2000 non-null   object\n",
      " 11  total_time           2000 non-null   object\n",
      " 12  successful_requests  2000 non-null   object\n",
      " 13  total_tokens         2000 non-null   object\n",
      " 14  prompt_tokens        2000 non-null   object\n",
      " 15  completion_tokens    2000 non-null   object\n",
      " 16  total_cost           2000 non-null   object\n",
      "dtypes: object(17)\n",
      "memory usage: 265.8+ KB\n"
     ]
    }
   ],
   "source": [
    "df.info()"
   ]
  },
  {
   "cell_type": "code",
   "execution_count": 7,
   "metadata": {},
   "outputs": [
    {
     "data": {
      "text/html": [
       "<div>\n",
       "<style scoped>\n",
       "    .dataframe tbody tr th:only-of-type {\n",
       "        vertical-align: middle;\n",
       "    }\n",
       "\n",
       "    .dataframe tbody tr th {\n",
       "        vertical-align: top;\n",
       "    }\n",
       "\n",
       "    .dataframe thead th {\n",
       "        text-align: right;\n",
       "    }\n",
       "</style>\n",
       "<table border=\"1\" class=\"dataframe\">\n",
       "  <thead>\n",
       "    <tr style=\"text-align: right;\">\n",
       "      <th></th>\n",
       "      <th>email_id</th>\n",
       "      <th>sender_email</th>\n",
       "      <th>recipient_email</th>\n",
       "      <th>subject</th>\n",
       "      <th>email_body</th>\n",
       "      <th>attachments</th>\n",
       "      <th>process_status</th>\n",
       "      <th>response</th>\n",
       "      <th>start_time</th>\n",
       "      <th>end_time</th>\n",
       "      <th>full_logs</th>\n",
       "      <th>total_time</th>\n",
       "      <th>successful_requests</th>\n",
       "      <th>total_tokens</th>\n",
       "      <th>prompt_tokens</th>\n",
       "      <th>completion_tokens</th>\n",
       "      <th>total_cost</th>\n",
       "    </tr>\n",
       "  </thead>\n",
       "  <tbody>\n",
       "    <tr>\n",
       "      <th>count</th>\n",
       "      <td>2000</td>\n",
       "      <td>2000</td>\n",
       "      <td>2000</td>\n",
       "      <td>2000</td>\n",
       "      <td>2000</td>\n",
       "      <td>2000</td>\n",
       "      <td>2000</td>\n",
       "      <td>2000</td>\n",
       "      <td>2000</td>\n",
       "      <td>2000</td>\n",
       "      <td>2000</td>\n",
       "      <td>2000</td>\n",
       "      <td>2000</td>\n",
       "      <td>2000</td>\n",
       "      <td>2000</td>\n",
       "      <td>2000</td>\n",
       "      <td>2000</td>\n",
       "    </tr>\n",
       "    <tr>\n",
       "      <th>unique</th>\n",
       "      <td>2000</td>\n",
       "      <td>1988</td>\n",
       "      <td>1</td>\n",
       "      <td>1947</td>\n",
       "      <td>2000</td>\n",
       "      <td>1001</td>\n",
       "      <td>3</td>\n",
       "      <td>873</td>\n",
       "      <td>2000</td>\n",
       "      <td>2000</td>\n",
       "      <td>2000</td>\n",
       "      <td>1818</td>\n",
       "      <td>1997</td>\n",
       "      <td>2000</td>\n",
       "      <td>2000</td>\n",
       "      <td>2000</td>\n",
       "      <td>1</td>\n",
       "    </tr>\n",
       "    <tr>\n",
       "      <th>top</th>\n",
       "      <td>0527b19a-4b60-4768-9c45-c23fb3bc1ffa</td>\n",
       "      <td>MichaelJones@example.com</td>\n",
       "      <td>tanya.official.456@gmail.com</td>\n",
       "      <td>Payment Confirmation for Invoice I13212</td>\n",
       "      <td>Subject: Payment Confirmation for Invoice I178...</td>\n",
       "      <td></td>\n",
       "      <td>SUCCESS</td>\n",
       "      <td>{\"content\": \"DONE\"}</td>\n",
       "      <td>2025-01-23T07:08:58.593166</td>\n",
       "      <td>2025-01-23T07:09:10.710015</td>\n",
       "      <td>[{\"name\": \"input\", \"type\": \"HumanMessage\", \"co...</td>\n",
       "      <td>0.5501</td>\n",
       "      <td>96</td>\n",
       "      <td>111519789</td>\n",
       "      <td>104282738</td>\n",
       "      <td>7237051</td>\n",
       "      <td>0.0</td>\n",
       "    </tr>\n",
       "    <tr>\n",
       "      <th>freq</th>\n",
       "      <td>1</td>\n",
       "      <td>3</td>\n",
       "      <td>2000</td>\n",
       "      <td>3</td>\n",
       "      <td>1</td>\n",
       "      <td>1000</td>\n",
       "      <td>1069</td>\n",
       "      <td>1036</td>\n",
       "      <td>1</td>\n",
       "      <td>1</td>\n",
       "      <td>1</td>\n",
       "      <td>4</td>\n",
       "      <td>2</td>\n",
       "      <td>1</td>\n",
       "      <td>1</td>\n",
       "      <td>1</td>\n",
       "      <td>2000</td>\n",
       "    </tr>\n",
       "  </tbody>\n",
       "</table>\n",
       "</div>"
      ],
      "text/plain": [
       "                                    email_id              sender_email  \\\n",
       "count                                   2000                      2000   \n",
       "unique                                  2000                      1988   \n",
       "top     0527b19a-4b60-4768-9c45-c23fb3bc1ffa  MichaelJones@example.com   \n",
       "freq                                       1                         3   \n",
       "\n",
       "                     recipient_email                                  subject  \\\n",
       "count                           2000                                     2000   \n",
       "unique                             1                                     1947   \n",
       "top     tanya.official.456@gmail.com  Payment Confirmation for Invoice I13212   \n",
       "freq                            2000                                        3   \n",
       "\n",
       "                                               email_body attachments  \\\n",
       "count                                                2000        2000   \n",
       "unique                                               2000        1001   \n",
       "top     Subject: Payment Confirmation for Invoice I178...               \n",
       "freq                                                    1        1000   \n",
       "\n",
       "       process_status             response                  start_time  \\\n",
       "count            2000                 2000                        2000   \n",
       "unique              3                  873                        2000   \n",
       "top           SUCCESS  {\"content\": \"DONE\"}  2025-01-23T07:08:58.593166   \n",
       "freq             1069                 1036                           1   \n",
       "\n",
       "                          end_time  \\\n",
       "count                         2000   \n",
       "unique                        2000   \n",
       "top     2025-01-23T07:09:10.710015   \n",
       "freq                             1   \n",
       "\n",
       "                                                full_logs total_time  \\\n",
       "count                                                2000       2000   \n",
       "unique                                               2000       1818   \n",
       "top     [{\"name\": \"input\", \"type\": \"HumanMessage\", \"co...     0.5501   \n",
       "freq                                                    1          4   \n",
       "\n",
       "       successful_requests total_tokens prompt_tokens completion_tokens  \\\n",
       "count                 2000         2000          2000              2000   \n",
       "unique                1997         2000          2000              2000   \n",
       "top                     96    111519789     104282738           7237051   \n",
       "freq                     2            1             1                 1   \n",
       "\n",
       "       total_cost  \n",
       "count        2000  \n",
       "unique          1  \n",
       "top           0.0  \n",
       "freq         2000  "
      ]
     },
     "execution_count": 7,
     "metadata": {},
     "output_type": "execute_result"
    }
   ],
   "source": [
    "df.describe()"
   ]
  },
  {
   "cell_type": "code",
   "execution_count": 8,
   "metadata": {},
   "outputs": [],
   "source": [
    "# plot the distribution of categories\n",
    "import matplotlib.pyplot as plt\n",
    "\n",
    "\n",
    "def plot_value_distribution(df2, col=\"category\", top_n=10):\n",
    "    df2[col].value_counts()[:top_n].plot(kind=\"bar\")\n",
    "    plt.title(f\"Distribution of {col}\")\n",
    "\n",
    "    # add the count on top of the bars\n",
    "    for i in range(len(df2[col].value_counts()[:top_n])):\n",
    "        count = df2[col].value_counts().values[i]\n",
    "        plt.text(i, count, count, ha=\"center\")\n",
    "\n",
    "    plt.show()"
   ]
  },
  {
   "cell_type": "code",
   "execution_count": 9,
   "metadata": {},
   "outputs": [
    {
     "data": {
      "image/png": "[encoded data removed]",
      "text/plain": [
       "<Figure size 640x480 with 1 Axes>"
      ]
     },
     "metadata": {},
     "output_type": "display_data"
    }
   ],
   "source": [
    "plot_value_distribution(df, \"process_status\")"
   ]
  },
  {
   "cell_type": "code",
   "execution_count": 10,
   "metadata": {},
   "outputs": [
    {
     "data": {
      "image/png": "[encoded data removed]",
      "text/plain": [
       "<Figure size 640x480 with 1 Axes>"
      ]
     },
     "metadata": {},
     "output_type": "display_data"
    }
   ],
   "source": [
    "plot_value_distribution(df, \"response\")"
   ]
  },
  {
   "cell_type": "code",
   "execution_count": 11,
   "metadata": {},
   "outputs": [],
   "source": [
    "df[\"end_time\"] = pd.to_datetime(df[\"end_time\"])\n",
    "df[\"start_time\"] = pd.to_datetime(df[\"start_time\"])\n",
    "df[\"duration\"] = (df[\"end_time\"] - df[\"start_time\"]).dt.total_seconds()"
   ]
  },
  {
   "cell_type": "code",
   "execution_count": 12,
   "metadata": {},
   "outputs": [
    {
     "data": {
      "text/html": [
       "<div>\n",
       "<style scoped>\n",
       "    .dataframe tbody tr th:only-of-type {\n",
       "        vertical-align: middle;\n",
       "    }\n",
       "\n",
       "    .dataframe tbody tr th {\n",
       "        vertical-align: top;\n",
       "    }\n",
       "\n",
       "    .dataframe thead th {\n",
       "        text-align: right;\n",
       "    }\n",
       "</style>\n",
       "<table border=\"1\" class=\"dataframe\">\n",
       "  <thead>\n",
       "    <tr style=\"text-align: right;\">\n",
       "      <th></th>\n",
       "      <th>duration</th>\n",
       "      <th>total_time</th>\n",
       "    </tr>\n",
       "  </thead>\n",
       "  <tbody>\n",
       "    <tr>\n",
       "      <th>0</th>\n",
       "      <td>13.137086</td>\n",
       "      <td>13.1371</td>\n",
       "    </tr>\n",
       "    <tr>\n",
       "      <th>1</th>\n",
       "      <td>4.404802</td>\n",
       "      <td>4.4048</td>\n",
       "    </tr>\n",
       "    <tr>\n",
       "      <th>2</th>\n",
       "      <td>19.591329</td>\n",
       "      <td>19.5913</td>\n",
       "    </tr>\n",
       "    <tr>\n",
       "      <th>3</th>\n",
       "      <td>3.896124</td>\n",
       "      <td>3.8961</td>\n",
       "    </tr>\n",
       "    <tr>\n",
       "      <th>4</th>\n",
       "      <td>23.510128</td>\n",
       "      <td>23.5101</td>\n",
       "    </tr>\n",
       "  </tbody>\n",
       "</table>\n",
       "</div>"
      ],
      "text/plain": [
       "    duration total_time\n",
       "0  13.137086    13.1371\n",
       "1   4.404802     4.4048\n",
       "2  19.591329    19.5913\n",
       "3   3.896124     3.8961\n",
       "4  23.510128    23.5101"
      ]
     },
     "execution_count": 12,
     "metadata": {},
     "output_type": "execute_result"
    }
   ],
   "source": [
    "df[[\"duration\", \"total_time\"]].head()"
   ]
  },
  {
   "cell_type": "code",
   "execution_count": 13,
   "metadata": {},
   "outputs": [
    {
     "data": {
      "text/plain": [
       "<Axes: ylabel='Frequency'>"
      ]
     },
     "execution_count": 13,
     "metadata": {},
     "output_type": "execute_result"
    },
    {
     "data": {
      "image/png": "[encoded data removed]",
      "text/plain": [
       "<Figure size 640x480 with 1 Axes>"
      ]
     },
     "metadata": {},
     "output_type": "display_data"
    }
   ],
   "source": [
    "# plot the distribution of duration\n",
    "df[\"duration\"].plot(kind=\"hist\", bins=100)"
   ]
  },
  {
   "cell_type": "code",
   "execution_count": 14,
   "metadata": {},
   "outputs": [
    {
     "data": {
      "text/html": [
       "<div>\n",
       "<style scoped>\n",
       "    .dataframe tbody tr th:only-of-type {\n",
       "        vertical-align: middle;\n",
       "    }\n",
       "\n",
       "    .dataframe tbody tr th {\n",
       "        vertical-align: top;\n",
       "    }\n",
       "\n",
       "    .dataframe thead th {\n",
       "        text-align: right;\n",
       "    }\n",
       "</style>\n",
       "<table border=\"1\" class=\"dataframe\">\n",
       "  <thead>\n",
       "    <tr style=\"text-align: right;\">\n",
       "      <th></th>\n",
       "      <th>email_id</th>\n",
       "      <th>sender_email</th>\n",
       "      <th>recipient_email</th>\n",
       "      <th>subject</th>\n",
       "      <th>email_body</th>\n",
       "      <th>attachments</th>\n",
       "      <th>process_status</th>\n",
       "      <th>response</th>\n",
       "      <th>start_time</th>\n",
       "      <th>end_time</th>\n",
       "      <th>full_logs</th>\n",
       "      <th>total_time</th>\n",
       "      <th>successful_requests</th>\n",
       "      <th>total_tokens</th>\n",
       "      <th>prompt_tokens</th>\n",
       "      <th>completion_tokens</th>\n",
       "      <th>total_cost</th>\n",
       "      <th>duration</th>\n",
       "    </tr>\n",
       "  </thead>\n",
       "  <tbody>\n",
       "    <tr>\n",
       "      <th>357</th>\n",
       "      <td>D9BA10CCD9CF454987F998937CD96BAC</td>\n",
       "      <td>JamesWatkins@example.com</td>\n",
       "      <td>tanya.official.456@gmail.com</td>\n",
       "      <td>Payment Confirmation for Invoice ID: 84277</td>\n",
       "      <td>Hi Tanya ! Please find attached payment screen...</td>\n",
       "      <td>transaction_358.jpeg</td>\n",
       "      <td>ERROR</td>\n",
       "      <td>ERROR: No records found for Invoice ID: Invoic...</td>\n",
       "      <td>2025-01-22 07:20:17.065942</td>\n",
       "      <td>2025-01-22 07:21:05.133275</td>\n",
       "      <td>[{\"name\": \"input\", \"type\": \"HumanMessage\", \"co...</td>\n",
       "      <td>48.0673</td>\n",
       "      <td>4041878</td>\n",
       "      <td>2761932391</td>\n",
       "      <td>2658235900</td>\n",
       "      <td>103696491</td>\n",
       "      <td>0.0</td>\n",
       "      <td>48.067333</td>\n",
       "    </tr>\n",
       "    <tr>\n",
       "      <th>715</th>\n",
       "      <td>D3D010BEA9ED4F5E96ED21FD549EFA35</td>\n",
       "      <td>DeannaCarson@example.com</td>\n",
       "      <td>tanya.official.456@gmail.com</td>\n",
       "      <td>Payment Confirmation for Invoice ID: 54981</td>\n",
       "      <td>Hi Tanya ! Please find attached payment screen...</td>\n",
       "      <td>transaction_716.jpeg</td>\n",
       "      <td>ERROR</td>\n",
       "      <td>ERROR: The query result indicates that the inv...</td>\n",
       "      <td>2025-01-22 08:27:46.458368</td>\n",
       "      <td>2025-01-22 08:28:34.659213</td>\n",
       "      <td>[{\"name\": \"input\", \"type\": \"HumanMessage\", \"co...</td>\n",
       "      <td>48.2008</td>\n",
       "      <td>16878648</td>\n",
       "      <td>11633092264</td>\n",
       "      <td>11208412910</td>\n",
       "      <td>424679354</td>\n",
       "      <td>0.0</td>\n",
       "      <td>48.200845</td>\n",
       "    </tr>\n",
       "  </tbody>\n",
       "</table>\n",
       "</div>"
      ],
      "text/plain": [
       "                             email_id              sender_email  \\\n",
       "357  D9BA10CCD9CF454987F998937CD96BAC  JamesWatkins@example.com   \n",
       "715  D3D010BEA9ED4F5E96ED21FD549EFA35  DeannaCarson@example.com   \n",
       "\n",
       "                  recipient_email                                     subject  \\\n",
       "357  tanya.official.456@gmail.com  Payment Confirmation for Invoice ID: 84277   \n",
       "715  tanya.official.456@gmail.com  Payment Confirmation for Invoice ID: 54981   \n",
       "\n",
       "                                            email_body           attachments  \\\n",
       "357  Hi Tanya ! Please find attached payment screen...  transaction_358.jpeg   \n",
       "715  Hi Tanya ! Please find attached payment screen...  transaction_716.jpeg   \n",
       "\n",
       "    process_status                                           response  \\\n",
       "357          ERROR  ERROR: No records found for Invoice ID: Invoic...   \n",
       "715          ERROR  ERROR: The query result indicates that the inv...   \n",
       "\n",
       "                    start_time                   end_time  \\\n",
       "357 2025-01-22 07:20:17.065942 2025-01-22 07:21:05.133275   \n",
       "715 2025-01-22 08:27:46.458368 2025-01-22 08:28:34.659213   \n",
       "\n",
       "                                             full_logs total_time  \\\n",
       "357  [{\"name\": \"input\", \"type\": \"HumanMessage\", \"co...    48.0673   \n",
       "715  [{\"name\": \"input\", \"type\": \"HumanMessage\", \"co...    48.2008   \n",
       "\n",
       "    successful_requests total_tokens prompt_tokens completion_tokens  \\\n",
       "357             4041878   2761932391    2658235900         103696491   \n",
       "715            16878648  11633092264   11208412910         424679354   \n",
       "\n",
       "    total_cost   duration  \n",
       "357        0.0  48.067333  \n",
       "715        0.0  48.200845  "
      ]
     },
     "execution_count": 14,
     "metadata": {},
     "output_type": "execute_result"
    }
   ],
   "source": [
    "df[df[\"duration\"] > 48]"
   ]
  },
  {
   "cell_type": "code",
   "execution_count": 15,
   "metadata": {},
   "outputs": [
    {
     "data": {
      "text/plain": [
       "count    2000.000000\n",
       "mean        6.644924\n",
       "std         8.170672\n",
       "min         0.389306\n",
       "25%         0.565168\n",
       "50%         4.121140\n",
       "75%         7.149593\n",
       "max        48.200845\n",
       "Name: duration, dtype: float64"
      ]
     },
     "execution_count": 15,
     "metadata": {},
     "output_type": "execute_result"
    }
   ],
   "source": [
    "df[\"duration\"].describe()"
   ]
  },
  {
   "cell_type": "code",
   "execution_count": 16,
   "metadata": {},
   "outputs": [
    {
     "data": {
      "image/png": "[encoded data removed]",
      "text/plain": [
       "<Figure size 640x480 with 1 Axes>"
      ]
     },
     "metadata": {},
     "output_type": "display_data"
    }
   ],
   "source": [
    "plot_value_distribution(df, \"successful_requests\", top_n=30)"
   ]
  },
  {
   "cell_type": "code",
   "execution_count": 17,
   "metadata": {},
   "outputs": [
    {
     "data": {
      "text/plain": [
       "process_status\n",
       "SUCCESS        1069\n",
       "NOT_INVOICE     678\n",
       "ERROR           253\n",
       "Name: count, dtype: int64"
      ]
     },
     "execution_count": 17,
     "metadata": {},
     "output_type": "execute_result"
    }
   ],
   "source": [
    "df[\"process_status\"].value_counts()"
   ]
  },
  {
   "cell_type": "code",
   "execution_count": 18,
   "metadata": {},
   "outputs": [
    {
     "data": {
      "text/plain": [
       "0.5345"
      ]
     },
     "execution_count": 18,
     "metadata": {},
     "output_type": "execute_result"
    }
   ],
   "source": [
    "success_rate = df[\"process_status\"].value_counts()[\"SUCCESS\"] / len(df)\n",
    "success_rate"
   ]
  },
  {
   "cell_type": "code",
   "execution_count": 19,
   "metadata": {},
   "outputs": [],
   "source": [
    "def total_power_in_watt(file_path):\n",
    "    df = pd.read_csv(file_path)\n",
    "    return df[\"CPU Package Power [W]\"].mean() + df[\"GPU Power [W]\"].mean()"
   ]
  },
  {
   "cell_type": "code",
   "execution_count": 20,
   "metadata": {},
   "outputs": [
    {
     "data": {
      "text/plain": [
       "29.873"
      ]
     },
     "execution_count": 20,
     "metadata": {},
     "output_type": "execute_result"
    }
   ],
   "source": [
    "power_idle = total_power_in_watt(\"results/power_idle.csv\")\n",
    "power_idle"
   ]
  },
  {
   "cell_type": "code",
   "execution_count": 21,
   "metadata": {},
   "outputs": [
    {
     "data": {
      "text/plain": [
       "(318.228, 298.1394)"
      ]
     },
     "execution_count": 21,
     "metadata": {},
     "output_type": "execute_result"
    }
   ],
   "source": [
    "power_with_vision = total_power_in_watt(\n",
    "    \"results/llama3.2-vision_11b-qwen2.5_7b/power_with_vision.csv\"\n",
    ")\n",
    "power_without_vision = total_power_in_watt(\n",
    "    \"results/llama3.2-vision_11b-qwen2.5_7b/power_without_vision.csv\"\n",
    ")\n",
    "power_with_vision, power_without_vision"
   ]
  },
  {
   "cell_type": "code",
   "execution_count": 22,
   "metadata": {},
   "outputs": [
    {
     "data": {
      "text/plain": [
       "6.644923974999999"
      ]
     },
     "execution_count": 22,
     "metadata": {},
     "output_type": "execute_result"
    }
   ],
   "source": [
    "mean_response_time = df[\"duration\"].mean()\n",
    "mean_response_time"
   ]
  },
  {
   "cell_type": "code",
   "execution_count": 23,
   "metadata": {},
   "outputs": [
    {
     "data": {
      "text/plain": [
       "1849.3534429290328"
      ]
     },
     "execution_count": 23,
     "metadata": {},
     "output_type": "execute_result"
    }
   ],
   "source": [
    "average_energy_consumption = (\n",
    "    (power_with_vision + power_without_vision) / 2 - power_idle\n",
    ") * mean_response_time\n",
    "average_energy_consumption"
   ]
  },
  {
   "cell_type": "code",
   "execution_count": 24,
   "metadata": {},
   "outputs": [
    {
     "data": {
      "text/html": [
       "<div>\n",
       "<style scoped>\n",
       "    .dataframe tbody tr th:only-of-type {\n",
       "        vertical-align: middle;\n",
       "    }\n",
       "\n",
       "    .dataframe tbody tr th {\n",
       "        vertical-align: top;\n",
       "    }\n",
       "\n",
       "    .dataframe thead th {\n",
       "        text-align: right;\n",
       "    }\n",
       "</style>\n",
       "<table border=\"1\" class=\"dataframe\">\n",
       "  <thead>\n",
       "    <tr style=\"text-align: right;\">\n",
       "      <th></th>\n",
       "      <th>start_time</th>\n",
       "      <th>end_time</th>\n",
       "      <th>duration</th>\n",
       "    </tr>\n",
       "  </thead>\n",
       "  <tbody>\n",
       "    <tr>\n",
       "      <th>count</th>\n",
       "      <td>2000</td>\n",
       "      <td>2000</td>\n",
       "      <td>2000.000000</td>\n",
       "    </tr>\n",
       "    <tr>\n",
       "      <th>mean</th>\n",
       "      <td>2025-01-22 12:02:41.827959552</td>\n",
       "      <td>2025-01-22 12:02:48.472883712</td>\n",
       "      <td>6.644924</td>\n",
       "    </tr>\n",
       "    <tr>\n",
       "      <th>min</th>\n",
       "      <td>2025-01-22 06:13:19.794937</td>\n",
       "      <td>2025-01-22 06:13:32.932023</td>\n",
       "      <td>0.389306</td>\n",
       "    </tr>\n",
       "    <tr>\n",
       "      <th>25%</th>\n",
       "      <td>2025-01-22 07:47:48.680697088</td>\n",
       "      <td>2025-01-22 07:48:10.229940224</td>\n",
       "      <td>0.565168</td>\n",
       "    </tr>\n",
       "    <tr>\n",
       "      <th>50%</th>\n",
       "      <td>2025-01-22 09:22:32.714900480</td>\n",
       "      <td>2025-01-22 09:22:43.940564992</td>\n",
       "      <td>4.121140</td>\n",
       "    </tr>\n",
       "    <tr>\n",
       "      <th>75%</th>\n",
       "      <td>2025-01-22 09:40:51.122392832</td>\n",
       "      <td>2025-01-22 09:40:51.627508224</td>\n",
       "      <td>7.149593</td>\n",
       "    </tr>\n",
       "    <tr>\n",
       "      <th>max</th>\n",
       "      <td>2025-01-23 07:08:58.593166</td>\n",
       "      <td>2025-01-23 07:09:10.710015</td>\n",
       "      <td>48.200845</td>\n",
       "    </tr>\n",
       "    <tr>\n",
       "      <th>std</th>\n",
       "      <td>NaN</td>\n",
       "      <td>NaN</td>\n",
       "      <td>8.170672</td>\n",
       "    </tr>\n",
       "  </tbody>\n",
       "</table>\n",
       "</div>"
      ],
      "text/plain": [
       "                          start_time                       end_time  \\\n",
       "count                           2000                           2000   \n",
       "mean   2025-01-22 12:02:41.827959552  2025-01-22 12:02:48.472883712   \n",
       "min       2025-01-22 06:13:19.794937     2025-01-22 06:13:32.932023   \n",
       "25%    2025-01-22 07:47:48.680697088  2025-01-22 07:48:10.229940224   \n",
       "50%    2025-01-22 09:22:32.714900480  2025-01-22 09:22:43.940564992   \n",
       "75%    2025-01-22 09:40:51.122392832  2025-01-22 09:40:51.627508224   \n",
       "max       2025-01-23 07:08:58.593166     2025-01-23 07:09:10.710015   \n",
       "std                              NaN                            NaN   \n",
       "\n",
       "          duration  \n",
       "count  2000.000000  \n",
       "mean      6.644924  \n",
       "min       0.389306  \n",
       "25%       0.565168  \n",
       "50%       4.121140  \n",
       "75%       7.149593  \n",
       "max      48.200845  \n",
       "std       8.170672  "
      ]
     },
     "execution_count": 24,
     "metadata": {},
     "output_type": "execute_result"
    }
   ],
   "source": [
    "df.describe()"
   ]
  },
  {
   "cell_type": "code",
   "execution_count": 25,
   "metadata": {},
   "outputs": [
    {
     "data": {
      "text/plain": [
       "email_id                                50EB8D74C46C4EA6B84A4B19C82DA8BD\n",
       "sender_email                                    MatthewLopez@example.com\n",
       "recipient_email                             tanya.official.456@gmail.com\n",
       "subject                       Payment Confirmation for Invoice ID: 79862\n",
       "email_body             Hi Tanya ! Please find attached payment screen...\n",
       "attachments                                          transaction_60.jpeg\n",
       "process_status                                               NOT_INVOICE\n",
       "response               NA\\n\\n---\\n\\nIt seems there is a repetition an...\n",
       "start_time                                    2025-01-22 06:24:22.685047\n",
       "end_time                                      2025-01-22 06:24:46.826927\n",
       "full_logs              [{\"name\": \"input\", \"type\": \"HumanMessage\", \"co...\n",
       "total_time                                                       24.1419\n",
       "successful_requests                                               118704\n",
       "total_tokens                                                    82195859\n",
       "prompt_tokens                                                   79106568\n",
       "completion_tokens                                                3089291\n",
       "total_cost                                                           0.0\n",
       "duration                                                        24.14188\n",
       "Name: 59, dtype: object"
      ]
     },
     "execution_count": 25,
     "metadata": {},
     "output_type": "execute_result"
    }
   ],
   "source": [
    "row = df[df[\"process_status\"] == \"NOT_INVOICE\"].iloc[0]\n",
    "row"
   ]
  },
  {
   "cell_type": "code",
   "execution_count": 26,
   "metadata": {},
   "outputs": [
    {
     "data": {
      "text/plain": [
       "{'name': 'input',\n",
       " 'type': 'HumanMessage',\n",
       " 'content': '\\n                Help to reconcile invoices using the following email:\\n\\n                \\n            Sender: lori31@example.org\\n            Subject: Payment Confirmation for Invoice I15423\\n            Body: Subject: Payment Confirmation for Invoice I15423\\n                Anthony Greene <lori31@example.org>\\n                Sat, Jan 04, 2025, 05:06 PM\\n                Dear Tanya, I hope this message finds you well.I am writing to confirm that we have successfully made the payment for Invoice I15423, related to our recent order with you. Here are the details:  \\n                Description:\\n                Invoice Date: November 26, 2024\\n                Item: Wester Suit Women\\n                Quantity: 4\\n                Subtotal: $326.3\\n                Tax (10%): $32.63\\n                Shipping (if applicable): $19.92\\n                Total Amount paid: $378.85\\n                Transaction Reference Number - TXN-MST-489-683385\\n                Thank you and I look forward to our continued business\\n                Best regards,\\n                Anthony Greene\\n            Attachment: \\n            Time stamp: NOT_STARTED\\n            \\n                ',\n",
       " 'timestamp': '2025-01-23T07:08:58.593166',\n",
       " 'usage': {'input_tokens': 0,\n",
       "  'output_tokens': 0,\n",
       "  'total_tokens': 0,\n",
       "  'input_token_details': {'audio': 0, 'cache_read': 0},\n",
       "  'output_token_details': {'audio': 0, 'reasoning': 0}},\n",
       " 'model_name': '',\n",
       " 'additional_kwargs': {}}"
      ]
     },
     "execution_count": 26,
     "metadata": {},
     "output_type": "execute_result"
    }
   ],
   "source": [
    "full_logs[0]"
   ]
  },
  {
   "cell_type": "code",
   "execution_count": null,
   "metadata": {},
   "outputs": [],
   "source": [
    "for i, log in enumerate(full_logs):\n",
    "    if row[\"attachments\"] in log[\"content\"]:\n",
    "        print(i)\n",
    "        break"
   ]
  },
  {
   "cell_type": "code",
   "execution_count": 28,
   "metadata": {},
   "outputs": [
    {
     "data": {
      "text/plain": [
       "[{'name': 'invoice_db_update_tool',\n",
       "  'type': 'ToolMessage',\n",
       "  'content': '{\"content\": \"DONE\"}',\n",
       "  'timestamp': '2025-01-23T07:09:10.701751',\n",
       "  'usage': {'input_tokens': 0,\n",
       "   'output_tokens': 0,\n",
       "   'total_tokens': 0,\n",
       "   'input_token_details': {'audio': 0, 'cache_read': 0},\n",
       "   'output_token_details': {'audio': 0, 'reasoning': 0}},\n",
       "  'model_name': '',\n",
       "  'additional_kwargs': {}}]"
      ]
     },
     "execution_count": 28,
     "metadata": {},
     "output_type": "execute_result"
    }
   ],
   "source": [
    "full_logs[i : i + 5]"
   ]
  }
 ],
 "metadata": {
  "accelerator": "GPU",
  "application/vnd.databricks.v1+notebook": {
   "dashboards": [],
   "environmentMetadata": null,
   "language": "python",
   "notebookMetadata": {
    "mostRecentlyExecutedCommandWithImplicitDF": {
     "commandId": -1,
     "dataframes": [
      "_sqldf"
     ]
    },
    "pythonIndentUnit": 4
   },
   "notebookName": "10_eval-lf-medium-py3.11",
   "widgets": {}
  },
  "colab": {
   "gpuType": "L4",
   "provenance": []
  },
  "kernelspec": {
   "display_name": ".venv",
   "language": "python",
   "name": "python3"
  },
  "language_info": {
   "codemirror_mode": {
    "name": "ipython",
    "version": 3
   },
   "file_extension": ".py",
   "mimetype": "text/x-python",
   "name": "python",
   "nbconvert_exporter": "python",
   "pygments_lexer": "ipython3",
   "version": "3.12.2"
  }
 },
 "nbformat": 4,
 "nbformat_minor": 0
}
