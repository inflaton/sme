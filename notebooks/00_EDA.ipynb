{
 "cells": [
  {
   "cell_type": "code",
   "execution_count": 1,
   "metadata": {
    "executionInfo": {
     "elapsed": 476,
     "status": "ok",
     "timestamp": 1720679526275,
     "user": {
      "displayName": "HUANG DONGHAO _",
      "userId": "00977795705617022768"
     },
     "user_tz": -480
    },
    "id": "uWKRSV6eZsCn"
   },
   "outputs": [],
   "source": [
    "%load_ext autoreload\n",
    "%autoreload 2"
   ]
  },
  {
   "cell_type": "code",
   "execution_count": 2,
   "metadata": {
    "application/vnd.databricks.v1+cell": {
     "cellMetadata": {
      "byteLimit": 2048000,
      "rowLimit": 10000
     },
     "inputWidgets": {},
     "nuid": "6d394937-6c99-4a7c-9d32-7600a280032f",
     "showTitle": false,
     "title": ""
    },
    "colab": {
     "base_uri": "https://localhost:8080/"
    },
    "executionInfo": {
     "elapsed": 5,
     "status": "ok",
     "timestamp": 1720679529345,
     "user": {
      "displayName": "HUANG DONGHAO _",
      "userId": "00977795705617022768"
     },
     "user_tz": -480
    },
    "id": "G5pNu3zgZBrL",
    "outputId": "160a554f-fb08-4aa0-bc00-0422fb7c1fac"
   },
   "outputs": [
    {
     "name": "stdout",
     "output_type": "stream",
     "text": [
      "workding dir: /Users/inflaton/code/engd/papers/sme\n"
     ]
    }
   ],
   "source": [
    "import os\n",
    "import sys\n",
    "from pathlib import Path\n",
    "\n",
    "# check if workding_dir is in local variables\n",
    "if \"workding_dir\" not in locals():\n",
    "    workding_dir = str(Path.cwd().parent)\n",
    "\n",
    "os.chdir(workding_dir)\n",
    "sys.path.append(workding_dir)\n",
    "print(\"workding dir:\", workding_dir)"
   ]
  },
  {
   "cell_type": "code",
   "execution_count": 3,
   "metadata": {
    "application/vnd.databricks.v1+cell": {
     "cellMetadata": {
      "byteLimit": 2048000,
      "rowLimit": 10000
     },
     "inputWidgets": {},
     "nuid": "9f67ec60-2f24-411c-84eb-0dd664b44775",
     "showTitle": false,
     "title": ""
    },
    "colab": {
     "base_uri": "https://localhost:8080/"
    },
    "executionInfo": {
     "elapsed": 3,
     "status": "ok",
     "timestamp": 1720679529345,
     "user": {
      "displayName": "HUANG DONGHAO _",
      "userId": "00977795705617022768"
     },
     "user_tz": -480
    },
    "id": "hPCC-6m7ZBrM",
    "outputId": "c7aa2c96-5e99-440a-c148-201d79465ff9"
   },
   "outputs": [
    {
     "name": "stdout",
     "output_type": "stream",
     "text": [
      "loading env vars from: /Users/inflaton/code/engd/papers/sme/.env\n"
     ]
    },
    {
     "data": {
      "text/plain": [
       "True"
      ]
     },
     "execution_count": 3,
     "metadata": {},
     "output_type": "execute_result"
    }
   ],
   "source": [
    "from dotenv import find_dotenv, load_dotenv\n",
    "\n",
    "found_dotenv = find_dotenv(\".env\")\n",
    "\n",
    "if len(found_dotenv) == 0:\n",
    "    found_dotenv = find_dotenv(\".env.example\")\n",
    "print(f\"loading env vars from: {found_dotenv}\")\n",
    "load_dotenv(found_dotenv, override=True)"
   ]
  },
  {
   "cell_type": "code",
   "execution_count": 4,
   "metadata": {},
   "outputs": [],
   "source": [
    "from src.misc.metrics import *"
   ]
  },
  {
   "cell_type": "code",
   "execution_count": 5,
   "metadata": {},
   "outputs": [
    {
     "name": "stdout",
     "output_type": "stream",
     "text": [
      "<class 'pandas.core.frame.DataFrame'>\n",
      "RangeIndex: 990 entries, 0 to 989\n",
      "Data columns (total 17 columns):\n",
      " #   Column               Non-Null Count  Dtype  \n",
      "---  ------               --------------  -----  \n",
      " 0   email_id             990 non-null    object \n",
      " 1   sender_email         990 non-null    object \n",
      " 2   recipient_email      990 non-null    object \n",
      " 3   subject              990 non-null    object \n",
      " 4   email_body           990 non-null    object \n",
      " 5   attachments          990 non-null    object \n",
      " 6   process_status       990 non-null    object \n",
      " 7   response             0 non-null      float64\n",
      " 8   start_time           0 non-null      float64\n",
      " 9   end_time             0 non-null      float64\n",
      " 10  full_logs            0 non-null      float64\n",
      " 11  total_time           990 non-null    int64  \n",
      " 12  successful_requests  990 non-null    int64  \n",
      " 13  total_tokens         990 non-null    int64  \n",
      " 14  prompt_tokens        990 non-null    int64  \n",
      " 15  completion_tokens    990 non-null    int64  \n",
      " 16  total_cost           990 non-null    int64  \n",
      "dtypes: float64(4), int64(6), object(7)\n",
      "memory usage: 131.6+ KB\n"
     ]
    }
   ],
   "source": [
    "import pandas as pd\n",
    "\n",
    "df = pd.read_csv(\"dataset/emails.csv\")\n",
    "df.info()"
   ]
  },
  {
   "cell_type": "code",
   "execution_count": 6,
   "metadata": {},
   "outputs": [
    {
     "name": "stdout",
     "output_type": "stream",
     "text": [
      "<class 'pandas.core.frame.DataFrame'>\n",
      "RangeIndex: 990 entries, 0 to 989\n",
      "Data columns (total 13 columns):\n",
      " #   Column            Non-Null Count  Dtype  \n",
      "---  ------            --------------  -----  \n",
      " 0   invoice_id        990 non-null    int64  \n",
      " 1   bank_name         990 non-null    object \n",
      " 2   transaction_id    990 non-null    object \n",
      " 3   transaction_date  990 non-null    object \n",
      " 4   amount            990 non-null    float64\n",
      " 5   recipient_name    990 non-null    object \n",
      " 6   sender_name       990 non-null    object \n",
      " 7   email_id          990 non-null    object \n",
      " 8   sender_email      990 non-null    object \n",
      " 9   recipient_email   990 non-null    object \n",
      " 10  subject           990 non-null    object \n",
      " 11  email_body        990 non-null    object \n",
      " 12  filename          990 non-null    object \n",
      "dtypes: float64(1), int64(1), object(11)\n",
      "memory usage: 100.7+ KB\n"
     ]
    }
   ],
   "source": [
    "df2 = pd.read_csv(\"dataset/ground_truth.csv\")\n",
    "df2.info()"
   ]
  },
  {
   "cell_type": "code",
   "execution_count": 7,
   "metadata": {},
   "outputs": [
    {
     "name": "stdout",
     "output_type": "stream",
     "text": [
      "<class 'pandas.core.frame.DataFrame'>\n",
      "RangeIndex: 990 entries, 0 to 989\n",
      "Data columns (total 8 columns):\n",
      " #   Column                Non-Null Count  Dtype  \n",
      "---  ------                --------------  -----  \n",
      " 0   invoice_id            990 non-null    int64  \n",
      " 1   bank_name             990 non-null    object \n",
      " 2   transaction_id        990 non-null    object \n",
      " 3   amount                990 non-null    float64\n",
      " 4   recipient_name        990 non-null    object \n",
      " 5   sender_name           990 non-null    object \n",
      " 6   reconciliation_state  990 non-null    object \n",
      " 7   email_details         0 non-null      float64\n",
      "dtypes: float64(2), int64(1), object(5)\n",
      "memory usage: 62.0+ KB\n"
     ]
    }
   ],
   "source": [
    "df3 = pd.read_csv(\"dataset/transactions.csv\")\n",
    "df3.info()"
   ]
  }
 ],
 "metadata": {
  "accelerator": "GPU",
  "application/vnd.databricks.v1+notebook": {
   "dashboards": [],
   "environmentMetadata": null,
   "language": "python",
   "notebookMetadata": {
    "mostRecentlyExecutedCommandWithImplicitDF": {
     "commandId": -1,
     "dataframes": [
      "_sqldf"
     ]
    },
    "pythonIndentUnit": 4
   },
   "notebookName": "10_eval-lf-medium-py3.11",
   "widgets": {}
  },
  "colab": {
   "gpuType": "L4",
   "provenance": []
  },
  "kernelspec": {
   "display_name": "sme-invoicing",
   "language": "python",
   "name": "python3"
  },
  "language_info": {
   "codemirror_mode": {
    "name": "ipython",
    "version": 3
   },
   "file_extension": ".py",
   "mimetype": "text/x-python",
   "name": "python",
   "nbconvert_exporter": "python",
   "pygments_lexer": "ipython3",
   "version": "3.13.1"
  }
 },
 "nbformat": 4,
 "nbformat_minor": 0
}
