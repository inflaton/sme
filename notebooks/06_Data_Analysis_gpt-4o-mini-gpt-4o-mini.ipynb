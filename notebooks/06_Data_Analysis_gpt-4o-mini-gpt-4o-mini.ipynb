{
 "cells": [
  {
   "cell_type": "code",
   "execution_count": 1,
   "metadata": {
    "ExecuteTime": {
     "end_time": "2025-01-23T08:06:11.983688Z",
     "start_time": "2025-01-23T08:06:11.974486Z"
    },
    "executionInfo": {
     "elapsed": 476,
     "status": "ok",
     "timestamp": 1720679526275,
     "user": {
      "displayName": "HUANG DONGHAO _",
      "userId": "00977795705617022768"
     },
     "user_tz": -480
    },
    "id": "uWKRSV6eZsCn"
   },
   "outputs": [],
   "source": [
    "%load_ext autoreload\n",
    "%autoreload 2"
   ]
  },
  {
   "cell_type": "code",
   "execution_count": 2,
   "metadata": {
    "ExecuteTime": {
     "end_time": "2025-01-23T08:06:16.215147Z",
     "start_time": "2025-01-23T08:06:16.208719Z"
    },
    "application/vnd.databricks.v1+cell": {
     "cellMetadata": {
      "byteLimit": 2048000,
      "rowLimit": 10000
     },
     "inputWidgets": {},
     "nuid": "6d394937-6c99-4a7c-9d32-7600a280032f",
     "showTitle": false,
     "title": ""
    },
    "colab": {
     "base_uri": "https://localhost:8080/"
    },
    "executionInfo": {
     "elapsed": 5,
     "status": "ok",
     "timestamp": 1720679529345,
     "user": {
      "displayName": "HUANG DONGHAO _",
      "userId": "00977795705617022768"
     },
     "user_tz": -480
    },
    "id": "G5pNu3zgZBrL",
    "outputId": "160a554f-fb08-4aa0-bc00-0422fb7c1fac"
   },
   "outputs": [
    {
     "name": "stdout",
     "output_type": "stream",
     "text": [
      "workding dir: /Users/inflaton/code/engd/papers/sme-invoicing-assistant\n"
     ]
    }
   ],
   "source": [
    "import os\n",
    "import sys\n",
    "from pathlib import Path\n",
    "\n",
    "# check if workding_dir is in local variables\n",
    "if \"workding_dir\" not in locals():\n",
    "    workding_dir = str(Path.cwd().parent)\n",
    "\n",
    "os.chdir(workding_dir)\n",
    "sys.path.append(workding_dir)\n",
    "print(\"workding dir:\", workding_dir)"
   ]
  },
  {
   "cell_type": "code",
   "execution_count": 3,
   "metadata": {
    "ExecuteTime": {
     "end_time": "2025-01-23T08:06:19.850858Z",
     "start_time": "2025-01-23T08:06:19.840365Z"
    },
    "application/vnd.databricks.v1+cell": {
     "cellMetadata": {
      "byteLimit": 2048000,
      "rowLimit": 10000
     },
     "inputWidgets": {},
     "nuid": "9f67ec60-2f24-411c-84eb-0dd664b44775",
     "showTitle": false,
     "title": ""
    },
    "colab": {
     "base_uri": "https://localhost:8080/"
    },
    "executionInfo": {
     "elapsed": 3,
     "status": "ok",
     "timestamp": 1720679529345,
     "user": {
      "displayName": "HUANG DONGHAO _",
      "userId": "00977795705617022768"
     },
     "user_tz": -480
    },
    "id": "hPCC-6m7ZBrM",
    "outputId": "c7aa2c96-5e99-440a-c148-201d79465ff9"
   },
   "outputs": [
    {
     "name": "stdout",
     "output_type": "stream",
     "text": [
      "loading env vars from: /Users/inflaton/code/engd/papers/sme-invoicing-assistant/.env\n"
     ]
    },
    {
     "data": {
      "text/plain": [
       "True"
      ]
     },
     "execution_count": 3,
     "metadata": {},
     "output_type": "execute_result"
    }
   ],
   "source": [
    "from dotenv import find_dotenv, load_dotenv\n",
    "\n",
    "found_dotenv = find_dotenv(\".env\")\n",
    "\n",
    "if len(found_dotenv) == 0:\n",
    "    found_dotenv = find_dotenv(\".env.example\")\n",
    "print(f\"loading env vars from: {found_dotenv}\")\n",
    "load_dotenv(found_dotenv, override=True)"
   ]
  },
  {
   "cell_type": "code",
   "execution_count": 4,
   "metadata": {
    "ExecuteTime": {
     "end_time": "2025-01-23T10:42:18.361816Z",
     "start_time": "2025-01-23T10:42:18.340015Z"
    }
   },
   "outputs": [
    {
     "data": {
      "text/html": [
       "<div>\n",
       "<style scoped>\n",
       "    .dataframe tbody tr th:only-of-type {\n",
       "        vertical-align: middle;\n",
       "    }\n",
       "\n",
       "    .dataframe tbody tr th {\n",
       "        vertical-align: top;\n",
       "    }\n",
       "\n",
       "    .dataframe thead th {\n",
       "        text-align: right;\n",
       "    }\n",
       "</style>\n",
       "<table border=\"1\" class=\"dataframe\">\n",
       "  <thead>\n",
       "    <tr style=\"text-align: right;\">\n",
       "      <th></th>\n",
       "      <th>email_id</th>\n",
       "      <th>sender_email</th>\n",
       "      <th>recipient_email</th>\n",
       "      <th>subject</th>\n",
       "      <th>email_body</th>\n",
       "      <th>attachments</th>\n",
       "      <th>process_status</th>\n",
       "      <th>response</th>\n",
       "      <th>start_time</th>\n",
       "      <th>end_time</th>\n",
       "      <th>total_time</th>\n",
       "      <th>successful_requests</th>\n",
       "      <th>total_tokens</th>\n",
       "      <th>prompt_tokens</th>\n",
       "      <th>completion_tokens</th>\n",
       "      <th>total_cost</th>\n",
       "    </tr>\n",
       "  </thead>\n",
       "  <tbody>\n",
       "    <tr>\n",
       "      <th>0</th>\n",
       "      <td>93185A89130149C0A842968E4AFDCAA2</td>\n",
       "      <td>RobinLevine@example.com</td>\n",
       "      <td>tanya.official.456@gmail.com</td>\n",
       "      <td>Payment Confirmation for Invoice ID: 43925</td>\n",
       "      <td>Hi Tanya ! Please find attached payment screen...</td>\n",
       "      <td>transaction_1.jpeg</td>\n",
       "      <td>SUCCESS</td>\n",
       "      <td>{\"content\": \"DONE\"}</td>\n",
       "      <td>2025-01-21T21:54:01.661961</td>\n",
       "      <td>2025-01-21T21:54:23.614651</td>\n",
       "      <td>21.9527</td>\n",
       "      <td>8</td>\n",
       "      <td>2894</td>\n",
       "      <td>2596</td>\n",
       "      <td>298</td>\n",
       "      <td>0.0005682</td>\n",
       "    </tr>\n",
       "    <tr>\n",
       "      <th>1</th>\n",
       "      <td>614972488B7B411BAEA4814CF066CDAA</td>\n",
       "      <td>StevenNixon@example.com</td>\n",
       "      <td>tanya.official.456@gmail.com</td>\n",
       "      <td>Payment Confirmation for Invoice ID: 51782</td>\n",
       "      <td>Hi Tanya ! Please find attached payment screen...</td>\n",
       "      <td>transaction_2.jpeg</td>\n",
       "      <td>SUCCESS</td>\n",
       "      <td>{\"content\": \"DONE\"}</td>\n",
       "      <td>2025-01-21T21:54:23.616947</td>\n",
       "      <td>2025-01-21T21:54:35.695285</td>\n",
       "      <td>12.0783</td>\n",
       "      <td>28</td>\n",
       "      <td>9996</td>\n",
       "      <td>8948</td>\n",
       "      <td>1048</td>\n",
       "      <td>0.001971</td>\n",
       "    </tr>\n",
       "    <tr>\n",
       "      <th>2</th>\n",
       "      <td>C484ABEB38F44D29960B1CEF58510627</td>\n",
       "      <td>MadisonFord@example.com</td>\n",
       "      <td>tanya.official.456@gmail.com</td>\n",
       "      <td>Payment Confirmation for Invoice ID: 42968</td>\n",
       "      <td>Hi Tanya ! Please find attached payment screen...</td>\n",
       "      <td>transaction_3.jpeg</td>\n",
       "      <td>SUCCESS</td>\n",
       "      <td>{\"content\": \"DONE\"}</td>\n",
       "      <td>2025-01-21T21:54:35.696824</td>\n",
       "      <td>2025-01-21T21:54:44.353607</td>\n",
       "      <td>8.6568</td>\n",
       "      <td>60</td>\n",
       "      <td>21313</td>\n",
       "      <td>19060</td>\n",
       "      <td>2253</td>\n",
       "      <td>0.0042108</td>\n",
       "    </tr>\n",
       "    <tr>\n",
       "      <th>3</th>\n",
       "      <td>706B3403E8024178948B3BFBF9E64A25</td>\n",
       "      <td>KathrynJones@example.com</td>\n",
       "      <td>tanya.official.456@gmail.com</td>\n",
       "      <td>Payment Confirmation for Invoice ID: 92948</td>\n",
       "      <td>Hi Tanya ! Please find attached payment screen...</td>\n",
       "      <td>transaction_4.jpeg</td>\n",
       "      <td>SUCCESS</td>\n",
       "      <td>{\"content\": \"DONE\"}</td>\n",
       "      <td>2025-01-21T21:54:44.356464</td>\n",
       "      <td>2025-01-21T21:54:55.421207</td>\n",
       "      <td>11.0647</td>\n",
       "      <td>104</td>\n",
       "      <td>36838</td>\n",
       "      <td>32930</td>\n",
       "      <td>3908</td>\n",
       "      <td>0.0072843</td>\n",
       "    </tr>\n",
       "    <tr>\n",
       "      <th>4</th>\n",
       "      <td>86838440CA6C472AACFA3FCE1382609C</td>\n",
       "      <td>ChristineOwens@example.com</td>\n",
       "      <td>tanya.official.456@gmail.com</td>\n",
       "      <td>Payment Confirmation for Invoice ID: 20304</td>\n",
       "      <td>Hi Tanya ! Please find attached payment screen...</td>\n",
       "      <td>transaction_5.jpeg</td>\n",
       "      <td>SUCCESS</td>\n",
       "      <td>{\"content\": \"DONE\"}</td>\n",
       "      <td>2025-01-21T21:54:55.423148</td>\n",
       "      <td>2025-01-21T21:55:02.572704</td>\n",
       "      <td>7.1496</td>\n",
       "      <td>160</td>\n",
       "      <td>56570</td>\n",
       "      <td>50558</td>\n",
       "      <td>6012</td>\n",
       "      <td>0.0111909</td>\n",
       "    </tr>\n",
       "  </tbody>\n",
       "</table>\n",
       "</div>"
      ],
      "text/plain": [
       "                           email_id                sender_email  \\\n",
       "0  93185A89130149C0A842968E4AFDCAA2     RobinLevine@example.com   \n",
       "1  614972488B7B411BAEA4814CF066CDAA     StevenNixon@example.com   \n",
       "2  C484ABEB38F44D29960B1CEF58510627     MadisonFord@example.com   \n",
       "3  706B3403E8024178948B3BFBF9E64A25    KathrynJones@example.com   \n",
       "4  86838440CA6C472AACFA3FCE1382609C  ChristineOwens@example.com   \n",
       "\n",
       "                recipient_email                                     subject  \\\n",
       "0  tanya.official.456@gmail.com  Payment Confirmation for Invoice ID: 43925   \n",
       "1  tanya.official.456@gmail.com  Payment Confirmation for Invoice ID: 51782   \n",
       "2  tanya.official.456@gmail.com  Payment Confirmation for Invoice ID: 42968   \n",
       "3  tanya.official.456@gmail.com  Payment Confirmation for Invoice ID: 92948   \n",
       "4  tanya.official.456@gmail.com  Payment Confirmation for Invoice ID: 20304   \n",
       "\n",
       "                                          email_body         attachments  \\\n",
       "0  Hi Tanya ! Please find attached payment screen...  transaction_1.jpeg   \n",
       "1  Hi Tanya ! Please find attached payment screen...  transaction_2.jpeg   \n",
       "2  Hi Tanya ! Please find attached payment screen...  transaction_3.jpeg   \n",
       "3  Hi Tanya ! Please find attached payment screen...  transaction_4.jpeg   \n",
       "4  Hi Tanya ! Please find attached payment screen...  transaction_5.jpeg   \n",
       "\n",
       "  process_status             response                  start_time  \\\n",
       "0        SUCCESS  {\"content\": \"DONE\"}  2025-01-21T21:54:01.661961   \n",
       "1        SUCCESS  {\"content\": \"DONE\"}  2025-01-21T21:54:23.616947   \n",
       "2        SUCCESS  {\"content\": \"DONE\"}  2025-01-21T21:54:35.696824   \n",
       "3        SUCCESS  {\"content\": \"DONE\"}  2025-01-21T21:54:44.356464   \n",
       "4        SUCCESS  {\"content\": \"DONE\"}  2025-01-21T21:54:55.423148   \n",
       "\n",
       "                     end_time total_time successful_requests total_tokens  \\\n",
       "0  2025-01-21T21:54:23.614651    21.9527                   8         2894   \n",
       "1  2025-01-21T21:54:35.695285    12.0783                  28         9996   \n",
       "2  2025-01-21T21:54:44.353607     8.6568                  60        21313   \n",
       "3  2025-01-21T21:54:55.421207    11.0647                 104        36838   \n",
       "4  2025-01-21T21:55:02.572704     7.1496                 160        56570   \n",
       "\n",
       "  prompt_tokens completion_tokens total_cost  \n",
       "0          2596               298  0.0005682  \n",
       "1          8948              1048   0.001971  \n",
       "2         19060              2253  0.0042108  \n",
       "3         32930              3908  0.0072843  \n",
       "4         50558              6012  0.0111909  "
      ]
     },
     "execution_count": 4,
     "metadata": {},
     "output_type": "execute_result"
    }
   ],
   "source": [
    "import pandas as pd\n",
    "import sqlite3\n",
    "\n",
    "# Connect to SQLite database\n",
    "conn = sqlite3.connect(\"results/gpt-4o-mini-gpt-4o-mini/emails.db\")\n",
    "# conn = sqlite3.connect(\"src/data/db/llama3.2-vision_11b-qwen2.5_32b/emails.db\")\n",
    "\n",
    "# Write your SQL query\n",
    "query = \"SELECT * FROM emails\"\n",
    "\n",
    "# Read the query results into a pandas DataFrame\n",
    "df = pd.read_sql(query, conn)\n",
    "\n",
    "df.head(5)"
   ]
  },
  {
   "cell_type": "code",
   "execution_count": 5,
   "metadata": {
    "ExecuteTime": {
     "end_time": "2025-01-22T10:14:21.493555Z",
     "start_time": "2025-01-22T10:14:21.307709Z"
    }
   },
   "outputs": [
    {
     "name": "stdout",
     "output_type": "stream",
     "text": [
      "full_logs loaded from results/gpt-4o-mini-gpt-4o-mini/full_logs.json\n"
     ]
    }
   ],
   "source": [
    "import json\n",
    "\n",
    "json_file = \"results/gpt-4o-mini-gpt-4o-mini/full_logs.json\"\n",
    "\n",
    "if \"full_logs\" in df.columns:\n",
    "    last_completed = df[df[\"full_logs\"] != \"\"].iloc[-1]\n",
    "    full_logs = json.loads(last_completed[\"full_logs\"])\n",
    "    json.dump(full_logs, open(json_file, \"w\"), indent=4)\n",
    "    conn.execute(\"ALTER TABLE emails DROP COLUMN full_logs\")\n",
    "    conn.execute(\"VACUUM\")\n",
    "    conn.commit()\n",
    "    print(\"full_logs saved to\", json_file)\n",
    "else:\n",
    "    full_logs = json.load(open(json_file))\n",
    "    print(\"full_logs loaded from\", json_file)\n",
    "\n",
    "# Close the connection\n",
    "conn.close()"
   ]
  },
  {
   "cell_type": "code",
   "execution_count": 6,
   "metadata": {
    "ExecuteTime": {
     "end_time": "2025-01-23T08:06:44.151695Z",
     "start_time": "2025-01-23T08:06:44.139544Z"
    }
   },
   "outputs": [
    {
     "name": "stdout",
     "output_type": "stream",
     "text": [
      "<class 'pandas.core.frame.DataFrame'>\n",
      "RangeIndex: 2000 entries, 0 to 1999\n",
      "Data columns (total 16 columns):\n",
      " #   Column               Non-Null Count  Dtype \n",
      "---  ------               --------------  ----- \n",
      " 0   email_id             2000 non-null   object\n",
      " 1   sender_email         2000 non-null   object\n",
      " 2   recipient_email      2000 non-null   object\n",
      " 3   subject              2000 non-null   object\n",
      " 4   email_body           2000 non-null   object\n",
      " 5   attachments          2000 non-null   object\n",
      " 6   process_status       2000 non-null   object\n",
      " 7   response             2000 non-null   object\n",
      " 8   start_time           2000 non-null   object\n",
      " 9   end_time             2000 non-null   object\n",
      " 10  total_time           2000 non-null   object\n",
      " 11  successful_requests  2000 non-null   object\n",
      " 12  total_tokens         2000 non-null   object\n",
      " 13  prompt_tokens        2000 non-null   object\n",
      " 14  completion_tokens    2000 non-null   object\n",
      " 15  total_cost           2000 non-null   object\n",
      "dtypes: object(16)\n",
      "memory usage: 250.1+ KB\n"
     ]
    }
   ],
   "source": [
    "df.info()"
   ]
  },
  {
   "cell_type": "code",
   "execution_count": 7,
   "metadata": {
    "ExecuteTime": {
     "end_time": "2025-01-23T08:06:46.828567Z",
     "start_time": "2025-01-23T08:06:46.806818Z"
    }
   },
   "outputs": [
    {
     "data": {
      "text/html": [
       "<div>\n",
       "<style scoped>\n",
       "    .dataframe tbody tr th:only-of-type {\n",
       "        vertical-align: middle;\n",
       "    }\n",
       "\n",
       "    .dataframe tbody tr th {\n",
       "        vertical-align: top;\n",
       "    }\n",
       "\n",
       "    .dataframe thead th {\n",
       "        text-align: right;\n",
       "    }\n",
       "</style>\n",
       "<table border=\"1\" class=\"dataframe\">\n",
       "  <thead>\n",
       "    <tr style=\"text-align: right;\">\n",
       "      <th></th>\n",
       "      <th>email_id</th>\n",
       "      <th>sender_email</th>\n",
       "      <th>recipient_email</th>\n",
       "      <th>subject</th>\n",
       "      <th>email_body</th>\n",
       "      <th>attachments</th>\n",
       "      <th>process_status</th>\n",
       "      <th>response</th>\n",
       "      <th>start_time</th>\n",
       "      <th>end_time</th>\n",
       "      <th>total_time</th>\n",
       "      <th>successful_requests</th>\n",
       "      <th>total_tokens</th>\n",
       "      <th>prompt_tokens</th>\n",
       "      <th>completion_tokens</th>\n",
       "      <th>total_cost</th>\n",
       "    </tr>\n",
       "  </thead>\n",
       "  <tbody>\n",
       "    <tr>\n",
       "      <th>count</th>\n",
       "      <td>2000</td>\n",
       "      <td>2000</td>\n",
       "      <td>2000</td>\n",
       "      <td>2000</td>\n",
       "      <td>2000</td>\n",
       "      <td>2000</td>\n",
       "      <td>2000</td>\n",
       "      <td>2000</td>\n",
       "      <td>2000</td>\n",
       "      <td>2000</td>\n",
       "      <td>2000</td>\n",
       "      <td>2000</td>\n",
       "      <td>2000</td>\n",
       "      <td>2000</td>\n",
       "      <td>2000</td>\n",
       "      <td>2000</td>\n",
       "    </tr>\n",
       "    <tr>\n",
       "      <th>unique</th>\n",
       "      <td>2000</td>\n",
       "      <td>1988</td>\n",
       "      <td>1</td>\n",
       "      <td>1947</td>\n",
       "      <td>2000</td>\n",
       "      <td>1001</td>\n",
       "      <td>3</td>\n",
       "      <td>508</td>\n",
       "      <td>2000</td>\n",
       "      <td>2000</td>\n",
       "      <td>1940</td>\n",
       "      <td>2000</td>\n",
       "      <td>2000</td>\n",
       "      <td>2000</td>\n",
       "      <td>2000</td>\n",
       "      <td>2000</td>\n",
       "    </tr>\n",
       "    <tr>\n",
       "      <th>top</th>\n",
       "      <td>93185A89130149C0A842968E4AFDCAA2</td>\n",
       "      <td>MichaelJones@example.com</td>\n",
       "      <td>tanya.official.456@gmail.com</td>\n",
       "      <td>Payment Confirmation for Invoice I13212</td>\n",
       "      <td>Hi Tanya ! Please find attached payment screen...</td>\n",
       "      <td></td>\n",
       "      <td>SUCCESS</td>\n",
       "      <td>{\"content\": \"DONE\"}</td>\n",
       "      <td>2025-01-21T21:54:01.661961</td>\n",
       "      <td>2025-01-21T21:54:23.614651</td>\n",
       "      <td>1.8148</td>\n",
       "      <td>8</td>\n",
       "      <td>2894</td>\n",
       "      <td>2596</td>\n",
       "      <td>298</td>\n",
       "      <td>0.0005682</td>\n",
       "    </tr>\n",
       "    <tr>\n",
       "      <th>freq</th>\n",
       "      <td>1</td>\n",
       "      <td>3</td>\n",
       "      <td>2000</td>\n",
       "      <td>3</td>\n",
       "      <td>1</td>\n",
       "      <td>1000</td>\n",
       "      <td>981</td>\n",
       "      <td>981</td>\n",
       "      <td>1</td>\n",
       "      <td>1</td>\n",
       "      <td>3</td>\n",
       "      <td>1</td>\n",
       "      <td>1</td>\n",
       "      <td>1</td>\n",
       "      <td>1</td>\n",
       "      <td>1</td>\n",
       "    </tr>\n",
       "  </tbody>\n",
       "</table>\n",
       "</div>"
      ],
      "text/plain": [
       "                                email_id              sender_email  \\\n",
       "count                               2000                      2000   \n",
       "unique                              2000                      1988   \n",
       "top     93185A89130149C0A842968E4AFDCAA2  MichaelJones@example.com   \n",
       "freq                                   1                         3   \n",
       "\n",
       "                     recipient_email                                  subject  \\\n",
       "count                           2000                                     2000   \n",
       "unique                             1                                     1947   \n",
       "top     tanya.official.456@gmail.com  Payment Confirmation for Invoice I13212   \n",
       "freq                            2000                                        3   \n",
       "\n",
       "                                               email_body attachments  \\\n",
       "count                                                2000        2000   \n",
       "unique                                               2000        1001   \n",
       "top     Hi Tanya ! Please find attached payment screen...               \n",
       "freq                                                    1        1000   \n",
       "\n",
       "       process_status             response                  start_time  \\\n",
       "count            2000                 2000                        2000   \n",
       "unique              3                  508                        2000   \n",
       "top           SUCCESS  {\"content\": \"DONE\"}  2025-01-21T21:54:01.661961   \n",
       "freq              981                  981                           1   \n",
       "\n",
       "                          end_time total_time successful_requests  \\\n",
       "count                         2000       2000                2000   \n",
       "unique                        2000       1940                2000   \n",
       "top     2025-01-21T21:54:23.614651     1.8148                   8   \n",
       "freq                             1          3                   1   \n",
       "\n",
       "       total_tokens prompt_tokens completion_tokens total_cost  \n",
       "count          2000          2000              2000       2000  \n",
       "unique         2000          2000              2000       2000  \n",
       "top            2894          2596               298  0.0005682  \n",
       "freq              1             1                 1          1  "
      ]
     },
     "execution_count": 7,
     "metadata": {},
     "output_type": "execute_result"
    }
   ],
   "source": [
    "df.describe()"
   ]
  },
  {
   "cell_type": "code",
   "execution_count": 8,
   "metadata": {
    "ExecuteTime": {
     "end_time": "2025-01-23T08:07:11.463152Z",
     "start_time": "2025-01-23T08:07:11.453844Z"
    }
   },
   "outputs": [],
   "source": [
    "# plot the distribution of categories\n",
    "import matplotlib.pyplot as plt\n",
    "\n",
    "\n",
    "def plot_value_distribution(df2, col=\"category\", top_n=10):\n",
    "    df2[col].value_counts()[:top_n].plot(kind=\"bar\")\n",
    "    plt.title(f\"Distribution of {col}\")\n",
    "\n",
    "    # add the count on top of the bars\n",
    "    for i in range(len(df2[col].value_counts()[:top_n])):\n",
    "        count = df2[col].value_counts().values[i]\n",
    "        plt.text(i, count, count, ha=\"center\")\n",
    "\n",
    "    plt.show()"
   ]
  },
  {
   "cell_type": "code",
   "execution_count": 9,
   "metadata": {
    "ExecuteTime": {
     "end_time": "2025-01-23T08:07:13.592479Z",
     "start_time": "2025-01-23T08:07:13.380328Z"
    }
   },
   "outputs": [
    {
     "data": {
      "image/png": "[encoded data removed]",
      "text/plain": [
       "<Figure size 640x480 with 1 Axes>"
      ]
     },
     "metadata": {},
     "output_type": "display_data"
    }
   ],
   "source": [
    "plot_value_distribution(df, \"process_status\")"
   ]
  },
  {
   "cell_type": "code",
   "execution_count": 10,
   "metadata": {
    "ExecuteTime": {
     "end_time": "2025-01-23T08:08:01.761098Z",
     "start_time": "2025-01-23T08:08:01.687485Z"
    }
   },
   "outputs": [
    {
     "data": {
      "image/png": "[encoded data removed]",
      "text/plain": [
       "<Figure size 640x480 with 1 Axes>"
      ]
     },
     "metadata": {},
     "output_type": "display_data"
    }
   ],
   "source": [
    "plot_value_distribution(df, \"response\")"
   ]
  },
  {
   "cell_type": "code",
   "execution_count": 11,
   "metadata": {
    "ExecuteTime": {
     "end_time": "2025-01-23T08:08:17.261635Z",
     "start_time": "2025-01-23T08:08:17.249678Z"
    }
   },
   "outputs": [],
   "source": [
    "df[\"end_time\"] = pd.to_datetime(df[\"end_time\"])\n",
    "df[\"start_time\"] = pd.to_datetime(df[\"start_time\"])\n",
    "df[\"duration\"] = (df[\"end_time\"] - df[\"start_time\"]).dt.total_seconds()"
   ]
  },
  {
   "cell_type": "code",
   "execution_count": 12,
   "metadata": {
    "ExecuteTime": {
     "end_time": "2025-01-23T08:08:18.643255Z",
     "start_time": "2025-01-23T08:08:18.632943Z"
    }
   },
   "outputs": [
    {
     "data": {
      "text/html": [
       "<div>\n",
       "<style scoped>\n",
       "    .dataframe tbody tr th:only-of-type {\n",
       "        vertical-align: middle;\n",
       "    }\n",
       "\n",
       "    .dataframe tbody tr th {\n",
       "        vertical-align: top;\n",
       "    }\n",
       "\n",
       "    .dataframe thead th {\n",
       "        text-align: right;\n",
       "    }\n",
       "</style>\n",
       "<table border=\"1\" class=\"dataframe\">\n",
       "  <thead>\n",
       "    <tr style=\"text-align: right;\">\n",
       "      <th></th>\n",
       "      <th>duration</th>\n",
       "      <th>total_time</th>\n",
       "    </tr>\n",
       "  </thead>\n",
       "  <tbody>\n",
       "    <tr>\n",
       "      <th>0</th>\n",
       "      <td>21.952690</td>\n",
       "      <td>21.9527</td>\n",
       "    </tr>\n",
       "    <tr>\n",
       "      <th>1</th>\n",
       "      <td>12.078338</td>\n",
       "      <td>12.0783</td>\n",
       "    </tr>\n",
       "    <tr>\n",
       "      <th>2</th>\n",
       "      <td>8.656783</td>\n",
       "      <td>8.6568</td>\n",
       "    </tr>\n",
       "    <tr>\n",
       "      <th>3</th>\n",
       "      <td>11.064743</td>\n",
       "      <td>11.0647</td>\n",
       "    </tr>\n",
       "    <tr>\n",
       "      <th>4</th>\n",
       "      <td>7.149556</td>\n",
       "      <td>7.1496</td>\n",
       "    </tr>\n",
       "  </tbody>\n",
       "</table>\n",
       "</div>"
      ],
      "text/plain": [
       "    duration total_time\n",
       "0  21.952690    21.9527\n",
       "1  12.078338    12.0783\n",
       "2   8.656783     8.6568\n",
       "3  11.064743    11.0647\n",
       "4   7.149556     7.1496"
      ]
     },
     "execution_count": 12,
     "metadata": {},
     "output_type": "execute_result"
    }
   ],
   "source": [
    "df[[\"duration\", \"total_time\"]].head()"
   ]
  },
  {
   "cell_type": "code",
   "execution_count": 13,
   "metadata": {
    "ExecuteTime": {
     "end_time": "2025-01-23T08:08:21.625104Z",
     "start_time": "2025-01-23T08:08:21.536663Z"
    }
   },
   "outputs": [
    {
     "data": {
      "text/plain": [
       "<Axes: ylabel='Frequency'>"
      ]
     },
     "execution_count": 13,
     "metadata": {},
     "output_type": "execute_result"
    },
    {
     "data": {
      "image/png": "[encoded data removed]",
      "text/plain": [
       "<Figure size 640x480 with 1 Axes>"
      ]
     },
     "metadata": {},
     "output_type": "display_data"
    }
   ],
   "source": [
    "# plot the distribution of duration\n",
    "df[\"duration\"].plot(kind=\"hist\", bins=100)"
   ]
  },
  {
   "cell_type": "code",
   "execution_count": 14,
   "metadata": {
    "ExecuteTime": {
     "end_time": "2025-01-23T08:08:24.343485Z",
     "start_time": "2025-01-23T08:08:24.329674Z"
    }
   },
   "outputs": [
    {
     "data": {
      "text/html": [
       "<div>\n",
       "<style scoped>\n",
       "    .dataframe tbody tr th:only-of-type {\n",
       "        vertical-align: middle;\n",
       "    }\n",
       "\n",
       "    .dataframe tbody tr th {\n",
       "        vertical-align: top;\n",
       "    }\n",
       "\n",
       "    .dataframe thead th {\n",
       "        text-align: right;\n",
       "    }\n",
       "</style>\n",
       "<table border=\"1\" class=\"dataframe\">\n",
       "  <thead>\n",
       "    <tr style=\"text-align: right;\">\n",
       "      <th></th>\n",
       "      <th>email_id</th>\n",
       "      <th>sender_email</th>\n",
       "      <th>recipient_email</th>\n",
       "      <th>subject</th>\n",
       "      <th>email_body</th>\n",
       "      <th>attachments</th>\n",
       "      <th>process_status</th>\n",
       "      <th>response</th>\n",
       "      <th>start_time</th>\n",
       "      <th>end_time</th>\n",
       "      <th>total_time</th>\n",
       "      <th>successful_requests</th>\n",
       "      <th>total_tokens</th>\n",
       "      <th>prompt_tokens</th>\n",
       "      <th>completion_tokens</th>\n",
       "      <th>total_cost</th>\n",
       "      <th>duration</th>\n",
       "    </tr>\n",
       "  </thead>\n",
       "  <tbody>\n",
       "    <tr>\n",
       "      <th>160</th>\n",
       "      <td>CC9187A295514E7E93C33B0D257B1B90</td>\n",
       "      <td>BrittneyGrimes@example.com</td>\n",
       "      <td>tanya.official.456@gmail.com</td>\n",
       "      <td>Payment Confirmation for Invoice ID: 37532</td>\n",
       "      <td>Hi Tanya ! Please find attached payment screen...</td>\n",
       "      <td>transaction_161.jpeg</td>\n",
       "      <td>ERROR</td>\n",
       "      <td>ERROR The invoice ID 37532 is currently marked...</td>\n",
       "      <td>2025-01-21 22:25:30.951047</td>\n",
       "      <td>2025-01-21 22:27:24.530178</td>\n",
       "      <td>113.5791</td>\n",
       "      <td>160786</td>\n",
       "      <td>62991118</td>\n",
       "      <td>56841496</td>\n",
       "      <td>6149622</td>\n",
       "      <td>12.2137608</td>\n",
       "      <td>113.579131</td>\n",
       "    </tr>\n",
       "    <tr>\n",
       "      <th>223</th>\n",
       "      <td>6FDBAEDB9C434B458A6B77AD5771B46C</td>\n",
       "      <td>ChadKing@example.com</td>\n",
       "      <td>tanya.official.456@gmail.com</td>\n",
       "      <td>Payment Confirmation for Invoice ID: 14603</td>\n",
       "      <td>Hi Tanya ! Please find attached payment screen...</td>\n",
       "      <td>transaction_224.jpeg</td>\n",
       "      <td>ERROR</td>\n",
       "      <td>ERROR The invoice with ID 14603 is currently i...</td>\n",
       "      <td>2025-01-21 22:40:35.145636</td>\n",
       "      <td>2025-01-21 22:41:50.673489</td>\n",
       "      <td>75.5279</td>\n",
       "      <td>319615</td>\n",
       "      <td>130747786</td>\n",
       "      <td>118784011</td>\n",
       "      <td>11963775</td>\n",
       "      <td>24.70937385</td>\n",
       "      <td>75.527853</td>\n",
       "    </tr>\n",
       "    <tr>\n",
       "      <th>523</th>\n",
       "      <td>68662D82CC0E44D0B072750F2E51F308</td>\n",
       "      <td>DarrellFernandez@example.com</td>\n",
       "      <td>tanya.official.456@gmail.com</td>\n",
       "      <td>Payment Confirmation for Invoice ID: 66153</td>\n",
       "      <td>Hi Tanya ! Please find attached payment screen...</td>\n",
       "      <td>transaction_524.jpeg</td>\n",
       "      <td>SUCCESS</td>\n",
       "      <td>{\"content\": \"DONE\"}</td>\n",
       "      <td>2025-01-21 23:31:55.129718</td>\n",
       "      <td>2025-01-21 23:33:26.038003</td>\n",
       "      <td>90.9083</td>\n",
       "      <td>1814883</td>\n",
       "      <td>778571548</td>\n",
       "      <td>712008298</td>\n",
       "      <td>66563250</td>\n",
       "      <td>143.251092299999</td>\n",
       "      <td>90.908285</td>\n",
       "    </tr>\n",
       "    <tr>\n",
       "      <th>581</th>\n",
       "      <td>76898E00ACAE41CCA3B33DE5F5364CFE</td>\n",
       "      <td>RobertoHoltMD@example.com</td>\n",
       "      <td>tanya.official.456@gmail.com</td>\n",
       "      <td>Payment Confirmation for Invoice ID: 63536</td>\n",
       "      <td>Hi Tanya ! Please find attached payment screen...</td>\n",
       "      <td>transaction_582.jpeg</td>\n",
       "      <td>SUCCESS</td>\n",
       "      <td>{\"content\": \"DONE\"}</td>\n",
       "      <td>2025-01-21 23:42:47.837373</td>\n",
       "      <td>2025-01-21 23:44:33.461238</td>\n",
       "      <td>105.6239</td>\n",
       "      <td>2242476</td>\n",
       "      <td>960766536</td>\n",
       "      <td>878386340</td>\n",
       "      <td>82380196</td>\n",
       "      <td>177.024977399999</td>\n",
       "      <td>105.623865</td>\n",
       "    </tr>\n",
       "    <tr>\n",
       "      <th>622</th>\n",
       "      <td>0454744041EF4749820C47DDF7CCC6A8</td>\n",
       "      <td>BradThompson@example.com</td>\n",
       "      <td>tanya.official.456@gmail.com</td>\n",
       "      <td>Payment Confirmation for Invoice ID: 95153</td>\n",
       "      <td>Hi Tanya ! Please find attached payment screen...</td>\n",
       "      <td>transaction_623.jpeg</td>\n",
       "      <td>NOT_INVOICE</td>\n",
       "      <td>NA: The email and OCR data do not contain any ...</td>\n",
       "      <td>2025-01-21 23:51:14.084325</td>\n",
       "      <td>2025-01-21 23:52:47.631053</td>\n",
       "      <td>93.5467</td>\n",
       "      <td>2573791</td>\n",
       "      <td>1107191051</td>\n",
       "      <td>1012764790</td>\n",
       "      <td>94426261</td>\n",
       "      <td>203.456084699999</td>\n",
       "      <td>93.546728</td>\n",
       "    </tr>\n",
       "    <tr>\n",
       "      <th>645</th>\n",
       "      <td>274E385B6C584F95862A774EB865153E</td>\n",
       "      <td>ChristopherPoole@example.com</td>\n",
       "      <td>tanya.official.456@gmail.com</td>\n",
       "      <td>Payment Confirmation for Invoice ID: 39760</td>\n",
       "      <td>Hi Tanya ! Please find attached payment screen...</td>\n",
       "      <td>transaction_646.jpeg</td>\n",
       "      <td>ERROR</td>\n",
       "      <td>ERROR: The invoice ID 39760 is currently marke...</td>\n",
       "      <td>2025-01-21 23:56:26.458997</td>\n",
       "      <td>2025-01-21 23:57:32.396627</td>\n",
       "      <td>65.9376</td>\n",
       "      <td>2768754</td>\n",
       "      <td>1192929758</td>\n",
       "      <td>1091404218</td>\n",
       "      <td>101525540</td>\n",
       "      <td>218.973092699999</td>\n",
       "      <td>65.937630</td>\n",
       "    </tr>\n",
       "    <tr>\n",
       "      <th>727</th>\n",
       "      <td>4E1390DB308D42038A27EB79B6235FC1</td>\n",
       "      <td>JillianCole@example.com</td>\n",
       "      <td>tanya.official.456@gmail.com</td>\n",
       "      <td>Payment Confirmation for Invoice ID: 24173</td>\n",
       "      <td>Hi Tanya ! Please find attached payment screen...</td>\n",
       "      <td>transaction_728.jpeg</td>\n",
       "      <td>SUCCESS</td>\n",
       "      <td>{\"content\": \"DONE\"}</td>\n",
       "      <td>2025-01-22 00:12:10.564374</td>\n",
       "      <td>2025-01-22 00:13:55.048448</td>\n",
       "      <td>104.4841</td>\n",
       "      <td>3532812</td>\n",
       "      <td>1533605045</td>\n",
       "      <td>1404534149</td>\n",
       "      <td>129070896</td>\n",
       "      <td>279.92642955</td>\n",
       "      <td>104.484074</td>\n",
       "    </tr>\n",
       "    <tr>\n",
       "      <th>796</th>\n",
       "      <td>4BC2D249A66745EAAD185EDFABDDC838</td>\n",
       "      <td>TaraWest@example.com</td>\n",
       "      <td>tanya.official.456@gmail.com</td>\n",
       "      <td>Payment Confirmation for Invoice ID: 16691</td>\n",
       "      <td>Hi Tanya ! Please find attached payment screen...</td>\n",
       "      <td>transaction_797.jpeg</td>\n",
       "      <td>SUCCESS</td>\n",
       "      <td>{\"content\": \"DONE\"}</td>\n",
       "      <td>2025-01-22 00:26:11.529202</td>\n",
       "      <td>2025-01-22 00:28:02.079694</td>\n",
       "      <td>110.5505</td>\n",
       "      <td>4243235</td>\n",
       "      <td>1847615142</td>\n",
       "      <td>1692851130</td>\n",
       "      <td>154764012</td>\n",
       "      <td>336.398627100001</td>\n",
       "      <td>110.550492</td>\n",
       "    </tr>\n",
       "    <tr>\n",
       "      <th>894</th>\n",
       "      <td>A07B16164A9145AC92198F212797C313</td>\n",
       "      <td>KristiKrause@example.com</td>\n",
       "      <td>tanya.official.456@gmail.com</td>\n",
       "      <td>Payment Confirmation for Invoice ID: 66740</td>\n",
       "      <td>Hi Tanya ! Please find attached payment screen...</td>\n",
       "      <td>transaction_895.jpeg</td>\n",
       "      <td>ERROR</td>\n",
       "      <td>ERROR: The invoice ID 66740 is in the database...</td>\n",
       "      <td>2025-01-22 00:44:44.877767</td>\n",
       "      <td>2025-01-22 00:46:21.326681</td>\n",
       "      <td>96.4489</td>\n",
       "      <td>5365510</td>\n",
       "      <td>2341848032</td>\n",
       "      <td>2146278850</td>\n",
       "      <td>195569182</td>\n",
       "      <td>425.726869500001</td>\n",
       "      <td>96.448914</td>\n",
       "    </tr>\n",
       "    <tr>\n",
       "      <th>938</th>\n",
       "      <td>0963EC66A2054E3DB2EE013B0F382BBE</td>\n",
       "      <td>WandaAnderson@example.com</td>\n",
       "      <td>tanya.official.456@gmail.com</td>\n",
       "      <td>Payment Confirmation for Invoice ID: 43064</td>\n",
       "      <td>Hi Tanya ! Please find attached payment screen...</td>\n",
       "      <td>transaction_939.jpeg</td>\n",
       "      <td>ERROR</td>\n",
       "      <td>ERROR: The invoice ID 43064 is in the database...</td>\n",
       "      <td>2025-01-22 00:53:22.586524</td>\n",
       "      <td>2025-01-22 00:54:17.803124</td>\n",
       "      <td>55.2166</td>\n",
       "      <td>5915543</td>\n",
       "      <td>2589540858</td>\n",
       "      <td>2374221796</td>\n",
       "      <td>215319062</td>\n",
       "      <td>469.769394600002</td>\n",
       "      <td>55.216600</td>\n",
       "    </tr>\n",
       "    <tr>\n",
       "      <th>1044</th>\n",
       "      <td>ddca3174-3d47-42a0-88fd-b2f60d4b467d</td>\n",
       "      <td>fernandezangelica@example.org</td>\n",
       "      <td>tanya.official.456@gmail.com</td>\n",
       "      <td>Payment Confirmation for Invoice I19315</td>\n",
       "      <td>Subject: Payment Confirmation for Invoice I193...</td>\n",
       "      <td></td>\n",
       "      <td>ERROR</td>\n",
       "      <td>ERROR: The email does not contain any attachme...</td>\n",
       "      <td>2025-01-22 01:05:55.646461</td>\n",
       "      <td>2025-01-22 01:07:27.381035</td>\n",
       "      <td>91.7346</td>\n",
       "      <td>7032249</td>\n",
       "      <td>3096386727</td>\n",
       "      <td>2841022840</td>\n",
       "      <td>255363887</td>\n",
       "      <td>559.736302200003</td>\n",
       "      <td>91.734574</td>\n",
       "    </tr>\n",
       "    <tr>\n",
       "      <th>1163</th>\n",
       "      <td>5fe52035-335b-4739-bf2f-ef6604221ec2</td>\n",
       "      <td>jeffrey83@example.com</td>\n",
       "      <td>tanya.official.456@gmail.com</td>\n",
       "      <td>Payment Confirmation for Invoice I15190</td>\n",
       "      <td>Subject: Payment Confirmation for Invoice I151...</td>\n",
       "      <td></td>\n",
       "      <td>ERROR</td>\n",
       "      <td>ERROR: The email does not contain any attachme...</td>\n",
       "      <td>2025-01-22 01:11:33.698625</td>\n",
       "      <td>2025-01-22 01:13:05.564310</td>\n",
       "      <td>91.8657</td>\n",
       "      <td>7871269</td>\n",
       "      <td>3476073192</td>\n",
       "      <td>3191165196</td>\n",
       "      <td>284907996</td>\n",
       "      <td>627.076713000003</td>\n",
       "      <td>91.865685</td>\n",
       "    </tr>\n",
       "    <tr>\n",
       "      <th>1546</th>\n",
       "      <td>c5c04633-9b0b-474d-9b4e-01770dd3341b</td>\n",
       "      <td>thomasbryan@example.net</td>\n",
       "      <td>tanya.official.456@gmail.com</td>\n",
       "      <td>Payment Confirmation for Invoice I18536</td>\n",
       "      <td>Subject: Payment Confirmation for Invoice I185...</td>\n",
       "      <td></td>\n",
       "      <td>ERROR</td>\n",
       "      <td>ERROR: The email does not contain any attachme...</td>\n",
       "      <td>2025-01-22 01:26:17.683594</td>\n",
       "      <td>2025-01-22 01:27:49.474993</td>\n",
       "      <td>91.7914</td>\n",
       "      <td>10770530</td>\n",
       "      <td>4782017822</td>\n",
       "      <td>4399723816</td>\n",
       "      <td>382294006</td>\n",
       "      <td>857.434656000002</td>\n",
       "      <td>91.791399</td>\n",
       "    </tr>\n",
       "  </tbody>\n",
       "</table>\n",
       "</div>"
      ],
      "text/plain": [
       "                                  email_id                   sender_email  \\\n",
       "160       CC9187A295514E7E93C33B0D257B1B90     BrittneyGrimes@example.com   \n",
       "223       6FDBAEDB9C434B458A6B77AD5771B46C           ChadKing@example.com   \n",
       "523       68662D82CC0E44D0B072750F2E51F308   DarrellFernandez@example.com   \n",
       "581       76898E00ACAE41CCA3B33DE5F5364CFE      RobertoHoltMD@example.com   \n",
       "622       0454744041EF4749820C47DDF7CCC6A8       BradThompson@example.com   \n",
       "645       274E385B6C584F95862A774EB865153E   ChristopherPoole@example.com   \n",
       "727       4E1390DB308D42038A27EB79B6235FC1        JillianCole@example.com   \n",
       "796       4BC2D249A66745EAAD185EDFABDDC838           TaraWest@example.com   \n",
       "894       A07B16164A9145AC92198F212797C313       KristiKrause@example.com   \n",
       "938       0963EC66A2054E3DB2EE013B0F382BBE      WandaAnderson@example.com   \n",
       "1044  ddca3174-3d47-42a0-88fd-b2f60d4b467d  fernandezangelica@example.org   \n",
       "1163  5fe52035-335b-4739-bf2f-ef6604221ec2          jeffrey83@example.com   \n",
       "1546  c5c04633-9b0b-474d-9b4e-01770dd3341b        thomasbryan@example.net   \n",
       "\n",
       "                   recipient_email  \\\n",
       "160   tanya.official.456@gmail.com   \n",
       "223   tanya.official.456@gmail.com   \n",
       "523   tanya.official.456@gmail.com   \n",
       "581   tanya.official.456@gmail.com   \n",
       "622   tanya.official.456@gmail.com   \n",
       "645   tanya.official.456@gmail.com   \n",
       "727   tanya.official.456@gmail.com   \n",
       "796   tanya.official.456@gmail.com   \n",
       "894   tanya.official.456@gmail.com   \n",
       "938   tanya.official.456@gmail.com   \n",
       "1044  tanya.official.456@gmail.com   \n",
       "1163  tanya.official.456@gmail.com   \n",
       "1546  tanya.official.456@gmail.com   \n",
       "\n",
       "                                         subject  \\\n",
       "160   Payment Confirmation for Invoice ID: 37532   \n",
       "223   Payment Confirmation for Invoice ID: 14603   \n",
       "523   Payment Confirmation for Invoice ID: 66153   \n",
       "581   Payment Confirmation for Invoice ID: 63536   \n",
       "622   Payment Confirmation for Invoice ID: 95153   \n",
       "645   Payment Confirmation for Invoice ID: 39760   \n",
       "727   Payment Confirmation for Invoice ID: 24173   \n",
       "796   Payment Confirmation for Invoice ID: 16691   \n",
       "894   Payment Confirmation for Invoice ID: 66740   \n",
       "938   Payment Confirmation for Invoice ID: 43064   \n",
       "1044     Payment Confirmation for Invoice I19315   \n",
       "1163     Payment Confirmation for Invoice I15190   \n",
       "1546     Payment Confirmation for Invoice I18536   \n",
       "\n",
       "                                             email_body           attachments  \\\n",
       "160   Hi Tanya ! Please find attached payment screen...  transaction_161.jpeg   \n",
       "223   Hi Tanya ! Please find attached payment screen...  transaction_224.jpeg   \n",
       "523   Hi Tanya ! Please find attached payment screen...  transaction_524.jpeg   \n",
       "581   Hi Tanya ! Please find attached payment screen...  transaction_582.jpeg   \n",
       "622   Hi Tanya ! Please find attached payment screen...  transaction_623.jpeg   \n",
       "645   Hi Tanya ! Please find attached payment screen...  transaction_646.jpeg   \n",
       "727   Hi Tanya ! Please find attached payment screen...  transaction_728.jpeg   \n",
       "796   Hi Tanya ! Please find attached payment screen...  transaction_797.jpeg   \n",
       "894   Hi Tanya ! Please find attached payment screen...  transaction_895.jpeg   \n",
       "938   Hi Tanya ! Please find attached payment screen...  transaction_939.jpeg   \n",
       "1044  Subject: Payment Confirmation for Invoice I193...                         \n",
       "1163  Subject: Payment Confirmation for Invoice I151...                         \n",
       "1546  Subject: Payment Confirmation for Invoice I185...                         \n",
       "\n",
       "     process_status                                           response  \\\n",
       "160           ERROR  ERROR The invoice ID 37532 is currently marked...   \n",
       "223           ERROR  ERROR The invoice with ID 14603 is currently i...   \n",
       "523         SUCCESS                                {\"content\": \"DONE\"}   \n",
       "581         SUCCESS                                {\"content\": \"DONE\"}   \n",
       "622     NOT_INVOICE  NA: The email and OCR data do not contain any ...   \n",
       "645           ERROR  ERROR: The invoice ID 39760 is currently marke...   \n",
       "727         SUCCESS                                {\"content\": \"DONE\"}   \n",
       "796         SUCCESS                                {\"content\": \"DONE\"}   \n",
       "894           ERROR  ERROR: The invoice ID 66740 is in the database...   \n",
       "938           ERROR  ERROR: The invoice ID 43064 is in the database...   \n",
       "1044          ERROR  ERROR: The email does not contain any attachme...   \n",
       "1163          ERROR  ERROR: The email does not contain any attachme...   \n",
       "1546          ERROR  ERROR: The email does not contain any attachme...   \n",
       "\n",
       "                     start_time                   end_time total_time  \\\n",
       "160  2025-01-21 22:25:30.951047 2025-01-21 22:27:24.530178   113.5791   \n",
       "223  2025-01-21 22:40:35.145636 2025-01-21 22:41:50.673489    75.5279   \n",
       "523  2025-01-21 23:31:55.129718 2025-01-21 23:33:26.038003    90.9083   \n",
       "581  2025-01-21 23:42:47.837373 2025-01-21 23:44:33.461238   105.6239   \n",
       "622  2025-01-21 23:51:14.084325 2025-01-21 23:52:47.631053    93.5467   \n",
       "645  2025-01-21 23:56:26.458997 2025-01-21 23:57:32.396627    65.9376   \n",
       "727  2025-01-22 00:12:10.564374 2025-01-22 00:13:55.048448   104.4841   \n",
       "796  2025-01-22 00:26:11.529202 2025-01-22 00:28:02.079694   110.5505   \n",
       "894  2025-01-22 00:44:44.877767 2025-01-22 00:46:21.326681    96.4489   \n",
       "938  2025-01-22 00:53:22.586524 2025-01-22 00:54:17.803124    55.2166   \n",
       "1044 2025-01-22 01:05:55.646461 2025-01-22 01:07:27.381035    91.7346   \n",
       "1163 2025-01-22 01:11:33.698625 2025-01-22 01:13:05.564310    91.8657   \n",
       "1546 2025-01-22 01:26:17.683594 2025-01-22 01:27:49.474993    91.7914   \n",
       "\n",
       "     successful_requests total_tokens prompt_tokens completion_tokens  \\\n",
       "160               160786     62991118      56841496           6149622   \n",
       "223               319615    130747786     118784011          11963775   \n",
       "523              1814883    778571548     712008298          66563250   \n",
       "581              2242476    960766536     878386340          82380196   \n",
       "622              2573791   1107191051    1012764790          94426261   \n",
       "645              2768754   1192929758    1091404218         101525540   \n",
       "727              3532812   1533605045    1404534149         129070896   \n",
       "796              4243235   1847615142    1692851130         154764012   \n",
       "894              5365510   2341848032    2146278850         195569182   \n",
       "938              5915543   2589540858    2374221796         215319062   \n",
       "1044             7032249   3096386727    2841022840         255363887   \n",
       "1163             7871269   3476073192    3191165196         284907996   \n",
       "1546            10770530   4782017822    4399723816         382294006   \n",
       "\n",
       "            total_cost    duration  \n",
       "160         12.2137608  113.579131  \n",
       "223        24.70937385   75.527853  \n",
       "523   143.251092299999   90.908285  \n",
       "581   177.024977399999  105.623865  \n",
       "622   203.456084699999   93.546728  \n",
       "645   218.973092699999   65.937630  \n",
       "727       279.92642955  104.484074  \n",
       "796   336.398627100001  110.550492  \n",
       "894   425.726869500001   96.448914  \n",
       "938   469.769394600002   55.216600  \n",
       "1044  559.736302200003   91.734574  \n",
       "1163  627.076713000003   91.865685  \n",
       "1546  857.434656000002   91.791399  "
      ]
     },
     "execution_count": 14,
     "metadata": {},
     "output_type": "execute_result"
    }
   ],
   "source": [
    "df[df[\"duration\"] > 48]"
   ]
  },
  {
   "cell_type": "code",
   "execution_count": 15,
   "metadata": {
    "ExecuteTime": {
     "end_time": "2025-01-23T08:08:27.885447Z",
     "start_time": "2025-01-23T08:08:27.874294Z"
    }
   },
   "outputs": [
    {
     "data": {
      "text/plain": [
       "count    2000.000000\n",
       "mean        6.844329\n",
       "std         8.544340\n",
       "min         1.281016\n",
       "25%         1.684894\n",
       "50%         7.382663\n",
       "75%         9.642589\n",
       "max       113.579131\n",
       "Name: duration, dtype: float64"
      ]
     },
     "execution_count": 15,
     "metadata": {},
     "output_type": "execute_result"
    }
   ],
   "source": [
    "df[\"duration\"].describe()"
   ]
  },
  {
   "cell_type": "code",
   "execution_count": 16,
   "metadata": {
    "ExecuteTime": {
     "end_time": "2025-01-23T08:08:30.557591Z",
     "start_time": "2025-01-23T08:08:30.471868Z"
    }
   },
   "outputs": [
    {
     "data": {
      "image/png": "[encoded data removed]",
      "text/plain": [
       "<Figure size 640x480 with 1 Axes>"
      ]
     },
     "metadata": {},
     "output_type": "display_data"
    }
   ],
   "source": [
    "plot_value_distribution(df, \"successful_requests\", top_n=30)"
   ]
  },
  {
   "cell_type": "code",
   "execution_count": 17,
   "metadata": {
    "ExecuteTime": {
     "end_time": "2025-01-23T08:08:34.294358Z",
     "start_time": "2025-01-23T08:08:34.284521Z"
    }
   },
   "outputs": [
    {
     "data": {
      "text/plain": [
       "process_status\n",
       "SUCCESS        981\n",
       "ERROR          732\n",
       "NOT_INVOICE    287\n",
       "Name: count, dtype: int64"
      ]
     },
     "execution_count": 17,
     "metadata": {},
     "output_type": "execute_result"
    }
   ],
   "source": [
    "df[\"process_status\"].value_counts()"
   ]
  },
  {
   "cell_type": "code",
   "execution_count": 18,
   "metadata": {
    "ExecuteTime": {
     "end_time": "2025-01-23T08:08:37.287531Z",
     "start_time": "2025-01-23T08:08:37.277996Z"
    }
   },
   "outputs": [
    {
     "data": {
      "text/plain": [
       "0.4905"
      ]
     },
     "execution_count": 18,
     "metadata": {},
     "output_type": "execute_result"
    }
   ],
   "source": [
    "success_rate = df[\"process_status\"].value_counts()[\"SUCCESS\"] / len(df)\n",
    "success_rate"
   ]
  },
  {
   "cell_type": "code",
   "execution_count": 19,
   "metadata": {
    "ExecuteTime": {
     "end_time": "2025-01-22T10:11:28.370633Z",
     "start_time": "2025-01-22T10:11:28.361532Z"
    }
   },
   "outputs": [
    {
     "data": {
      "text/plain": [
       "6.844329179000001"
      ]
     },
     "execution_count": 19,
     "metadata": {},
     "output_type": "execute_result"
    }
   ],
   "source": [
    "mean_response_time = df[\"duration\"].mean()\n",
    "mean_response_time"
   ]
  },
  {
   "cell_type": "code",
   "execution_count": 20,
   "metadata": {
    "ExecuteTime": {
     "end_time": "2025-01-22T10:11:41.191890Z",
     "start_time": "2025-01-22T10:11:41.178739Z"
    }
   },
   "outputs": [
    {
     "data": {
      "text/html": [
       "<div>\n",
       "<style scoped>\n",
       "    .dataframe tbody tr th:only-of-type {\n",
       "        vertical-align: middle;\n",
       "    }\n",
       "\n",
       "    .dataframe tbody tr th {\n",
       "        vertical-align: top;\n",
       "    }\n",
       "\n",
       "    .dataframe thead th {\n",
       "        text-align: right;\n",
       "    }\n",
       "</style>\n",
       "<table border=\"1\" class=\"dataframe\">\n",
       "  <thead>\n",
       "    <tr style=\"text-align: right;\">\n",
       "      <th></th>\n",
       "      <th>start_time</th>\n",
       "      <th>end_time</th>\n",
       "      <th>duration</th>\n",
       "    </tr>\n",
       "  </thead>\n",
       "  <tbody>\n",
       "    <tr>\n",
       "      <th>count</th>\n",
       "      <td>2000</td>\n",
       "      <td>2000</td>\n",
       "      <td>2000.000000</td>\n",
       "    </tr>\n",
       "    <tr>\n",
       "      <th>mean</th>\n",
       "      <td>2025-01-22 00:27:47.662482432</td>\n",
       "      <td>2025-01-22 00:27:54.506811392</td>\n",
       "      <td>6.844329</td>\n",
       "    </tr>\n",
       "    <tr>\n",
       "      <th>min</th>\n",
       "      <td>2025-01-21 21:54:01.661961</td>\n",
       "      <td>2025-01-21 21:54:23.614651</td>\n",
       "      <td>1.281016</td>\n",
       "    </tr>\n",
       "    <tr>\n",
       "      <th>25%</th>\n",
       "      <td>2025-01-21 23:28:22.007579648</td>\n",
       "      <td>2025-01-21 23:28:30.753465856</td>\n",
       "      <td>1.684894</td>\n",
       "    </tr>\n",
       "    <tr>\n",
       "      <th>50%</th>\n",
       "      <td>2025-01-22 01:04:01.813874944</td>\n",
       "      <td>2025-01-22 01:04:07.920537088</td>\n",
       "      <td>7.382663</td>\n",
       "    </tr>\n",
       "    <tr>\n",
       "      <th>75%</th>\n",
       "      <td>2025-01-22 01:24:43.360384512</td>\n",
       "      <td>2025-01-22 01:24:44.811434496</td>\n",
       "      <td>9.642589</td>\n",
       "    </tr>\n",
       "    <tr>\n",
       "      <th>max</th>\n",
       "      <td>2025-01-22 01:44:18.186340</td>\n",
       "      <td>2025-01-22 01:44:19.659469</td>\n",
       "      <td>113.579131</td>\n",
       "    </tr>\n",
       "    <tr>\n",
       "      <th>std</th>\n",
       "      <td>NaN</td>\n",
       "      <td>NaN</td>\n",
       "      <td>8.544340</td>\n",
       "    </tr>\n",
       "  </tbody>\n",
       "</table>\n",
       "</div>"
      ],
      "text/plain": [
       "                          start_time                       end_time  \\\n",
       "count                           2000                           2000   \n",
       "mean   2025-01-22 00:27:47.662482432  2025-01-22 00:27:54.506811392   \n",
       "min       2025-01-21 21:54:01.661961     2025-01-21 21:54:23.614651   \n",
       "25%    2025-01-21 23:28:22.007579648  2025-01-21 23:28:30.753465856   \n",
       "50%    2025-01-22 01:04:01.813874944  2025-01-22 01:04:07.920537088   \n",
       "75%    2025-01-22 01:24:43.360384512  2025-01-22 01:24:44.811434496   \n",
       "max       2025-01-22 01:44:18.186340     2025-01-22 01:44:19.659469   \n",
       "std                              NaN                            NaN   \n",
       "\n",
       "          duration  \n",
       "count  2000.000000  \n",
       "mean      6.844329  \n",
       "min       1.281016  \n",
       "25%       1.684894  \n",
       "50%       7.382663  \n",
       "75%       9.642589  \n",
       "max     113.579131  \n",
       "std       8.544340  "
      ]
     },
     "execution_count": 20,
     "metadata": {},
     "output_type": "execute_result"
    }
   ],
   "source": [
    "df.describe()"
   ]
  },
  {
   "cell_type": "code",
   "execution_count": 21,
   "metadata": {
    "ExecuteTime": {
     "end_time": "2025-01-22T10:11:50.362500Z",
     "start_time": "2025-01-22T10:11:50.351560Z"
    }
   },
   "outputs": [
    {
     "data": {
      "text/plain": [
       "email_id                                857F389B11B1455CB772EB05645946C7\n",
       "sender_email                                    JoshuaWilson@example.com\n",
       "recipient_email                             tanya.official.456@gmail.com\n",
       "subject                       Payment Confirmation for Invoice ID: 83634\n",
       "email_body             Hi Tanya ! Please find attached payment screen...\n",
       "attachments                                          transaction_86.jpeg\n",
       "process_status                                                     ERROR\n",
       "response               ERROR: The invoice ID 83634 is currently marke...\n",
       "start_time                                    2025-01-21 22:09:39.646221\n",
       "end_time                                      2025-01-21 22:09:54.456948\n",
       "total_time                                                       14.8107\n",
       "successful_requests                                                45183\n",
       "total_tokens                                                    17233431\n",
       "prompt_tokens                                                   15482914\n",
       "completion_tokens                                                1750517\n",
       "total_cost                                                     3.3727473\n",
       "duration                                                       14.810727\n",
       "Name: 85, dtype: object"
      ]
     },
     "execution_count": 21,
     "metadata": {},
     "output_type": "execute_result"
    }
   ],
   "source": [
    "row = df[df[\"process_status\"] == \"ERROR\"].iloc[0]\n",
    "row"
   ]
  },
  {
   "cell_type": "code",
   "execution_count": 22,
   "metadata": {
    "ExecuteTime": {
     "end_time": "2025-01-22T10:12:00.940862Z",
     "start_time": "2025-01-22T10:12:00.931291Z"
    }
   },
   "outputs": [
    {
     "data": {
      "text/plain": [
       "{'name': 'input',\n",
       " 'type': 'HumanMessage',\n",
       " 'content': '\\n                Help to reconcile invoices using the following email:\\n\\n                \\n            Sender: RobinLevine@example.com\\n            Subject: Payment Confirmation for Invoice ID: 43925\\n            Body: Hi Tanya ! Please find attached payment screenshot for Invoice ID: 43925 , Regards Robin Levine\\n            Attachment: transaction_1.jpeg\\n            Time stamp: NOT_STARTED\\n            \\n                ',\n",
       " 'timestamp': '2025-01-22T01:44:18.186340',\n",
       " 'usage': {'input_tokens': 0,\n",
       "  'output_tokens': 0,\n",
       "  'total_tokens': 0,\n",
       "  'input_token_details': {'audio': 0, 'cache_read': 0},\n",
       "  'output_token_details': {'audio': 0, 'reasoning': 0}},\n",
       " 'model_name': '',\n",
       " 'additional_kwargs': {}}"
      ]
     },
     "execution_count": 22,
     "metadata": {},
     "output_type": "execute_result"
    }
   ],
   "source": [
    "full_logs[0]"
   ]
  },
  {
   "cell_type": "code",
   "execution_count": 23,
   "metadata": {
    "ExecuteTime": {
     "end_time": "2025-01-22T10:12:11.818691Z",
     "start_time": "2025-01-22T10:12:11.808563Z"
    }
   },
   "outputs": [
    {
     "name": "stdout",
     "output_type": "stream",
     "text": [
      "774\n"
     ]
    }
   ],
   "source": [
    "for i, log in enumerate(full_logs):\n",
    "    if row[\"attachments\"] in log[\"content\"]:\n",
    "        print(i)\n",
    "        break"
   ]
  },
  {
   "cell_type": "code",
   "execution_count": 24,
   "metadata": {
    "ExecuteTime": {
     "end_time": "2025-01-22T10:12:13.350282Z",
     "start_time": "2025-01-22T10:12:13.340465Z"
    }
   },
   "outputs": [
    {
     "data": {
      "text/plain": [
       "[{'name': 'input',\n",
       "  'type': 'HumanMessage',\n",
       "  'content': '\\n                Help to reconcile invoices using the following email:\\n\\n                \\n            Sender: JoshuaWilson@example.com\\n            Subject: Payment Confirmation for Invoice ID: 83634\\n            Body: Hi Tanya ! Please find attached payment screenshot for Invoice ID: 83634 , Regards Joshua Wilson\\n            Attachment: transaction_86.jpeg\\n            Time stamp: NOT_STARTED\\n            \\n                ',\n",
       "  'timestamp': '2025-01-22T01:44:18.186340',\n",
       "  'usage': {'input_tokens': 0,\n",
       "   'output_tokens': 0,\n",
       "   'total_tokens': 0,\n",
       "   'input_token_details': {'audio': 0, 'cache_read': 0},\n",
       "   'output_token_details': {'audio': 0, 'reasoning': 0}},\n",
       "  'model_name': '',\n",
       "  'additional_kwargs': {}},\n",
       " {'name': 'finance_clerk',\n",
       "  'type': 'AIMessage',\n",
       "  'content': 'Tool calls to ocr_tool',\n",
       "  'timestamp': '2025-01-21T22:09:40.768625',\n",
       "  'usage': {'input_tokens': 196,\n",
       "   'output_tokens': 20,\n",
       "   'total_tokens': 216,\n",
       "   'input_token_details': {'audio': 0, 'cache_read': 0},\n",
       "   'output_token_details': {'audio': 0, 'reasoning': 0}},\n",
       "  'model_name': 'gpt-4o-mini-2024-07-18',\n",
       "  'additional_kwargs': {'tool_calls': [{'name': 'ocr_tool',\n",
       "     'args': {'image_path': 'transaction_86.jpeg'},\n",
       "     'id': 'call_fLEfFcCA4zHUUHTbcHBuP4zc',\n",
       "     'type': 'tool_call'}]}},\n",
       " {'name': 'ocr_tool',\n",
       "  'type': 'ToolMessage',\n",
       "  'content': '{\"content\": \"Bank 213  \\\\nSent by: Joshua Wilson  \\\\n\\\\nYou paid $188  \\\\nto Tanya  \\\\n\\\\nTransaction Reference Number:  \\\\nC91A3F4E646043C2  \\\\nTransaction Date: 05/02/24  \\\\nInvoice ID: 83634  \", \"usage\": {\"successful_requests\": 518, \"total_tokens\": 199522, \"prompt_tokens\": 179260, \"completion_tokens\": 20262, \"total_cost\": 0.03904620000000002}}',\n",
       "  'timestamp': '2025-01-21T22:09:40.768625',\n",
       "  'usage': {'input_tokens': 0,\n",
       "   'output_tokens': 0,\n",
       "   'total_tokens': 0,\n",
       "   'input_token_details': {'audio': 0, 'cache_read': 0},\n",
       "   'output_token_details': {'audio': 0, 'reasoning': 0}},\n",
       "  'model_name': '',\n",
       "  'additional_kwargs': {}},\n",
       " {'name': 'senior_reconciliation_agent',\n",
       "  'type': 'AIMessage',\n",
       "  'content': 'QUERY 83634',\n",
       "  'timestamp': '2025-01-21T22:09:45.108984',\n",
       "  'usage': {'input_tokens': 353,\n",
       "   'output_tokens': 5,\n",
       "   'total_tokens': 358,\n",
       "   'input_token_details': {'audio': 0, 'cache_read': 0},\n",
       "   'output_token_details': {'audio': 0, 'reasoning': 0}},\n",
       "  'model_name': 'gpt-4o-mini-2024-07-18',\n",
       "  'additional_kwargs': {}},\n",
       " {'name': 'invoice_data_engineer',\n",
       "  'type': 'AIMessage',\n",
       "  'content': 'Tool calls to invoice_db_query_tool',\n",
       "  'timestamp': '2025-01-21T22:09:46.074946',\n",
       "  'usage': {'input_tokens': 172,\n",
       "   'output_tokens': 19,\n",
       "   'total_tokens': 191,\n",
       "   'input_token_details': {'audio': 0, 'cache_read': 0},\n",
       "   'output_token_details': {'audio': 0, 'reasoning': 0}},\n",
       "  'model_name': 'gpt-4o-mini-2024-07-18',\n",
       "  'additional_kwargs': {'tool_calls': [{'name': 'invoice_db_query_tool',\n",
       "     'args': {'invoice_id': '83634'},\n",
       "     'id': 'call_uSjemcUfbmeYnI62tdo5Y2bp',\n",
       "     'type': 'tool_call'}]}}]"
      ]
     },
     "execution_count": 24,
     "metadata": {},
     "output_type": "execute_result"
    }
   ],
   "source": [
    "full_logs[i : i + 5]"
   ]
  },
  {
   "cell_type": "code",
   "execution_count": 41,
   "metadata": {},
   "outputs": [
    {
     "data": {
      "text/plain": [
       "{'task_completion_rate': 1,\n",
       " 'task_success_rate': 0.4905,\n",
       " 'mean_execution_time': 6.844329179000001}"
      ]
     },
     "execution_count": 41,
     "metadata": {},
     "output_type": "execute_result"
    }
   ],
   "source": [
    "from src.misc.metrics import *\n",
    "\n",
    "get_metrics(df)"
   ]
  },
  {
   "cell_type": "code",
   "execution_count": 42,
   "metadata": {},
   "outputs": [
    {
     "data": {
      "text/plain": [
       "(1000, 1000)"
      ]
     },
     "execution_count": 42,
     "metadata": {},
     "output_type": "execute_result"
    }
   ],
   "source": [
    "len(df[df[\"attachments\"] == \"\"]), len(df[df[\"attachments\"] != \"\"])"
   ]
  },
  {
   "cell_type": "code",
   "execution_count": 43,
   "metadata": {},
   "outputs": [
    {
     "data": {
      "text/plain": [
       "{'task_completion_rate': 1,\n",
       " 'task_success_rate': 0.972,\n",
       " 'mean_execution_time': 11.364913326}"
      ]
     },
     "execution_count": 43,
     "metadata": {},
     "output_type": "execute_result"
    }
   ],
   "source": [
    "df_vision = df[df[\"attachments\"] != \"\"].copy()\n",
    "get_metrics(df_vision)"
   ]
  },
  {
   "cell_type": "code",
   "execution_count": 44,
   "metadata": {},
   "outputs": [
    {
     "data": {
      "text/plain": [
       "{'task_completion_rate': 1,\n",
       " 'task_success_rate': 0.009,\n",
       " 'mean_execution_time': 2.3237450319999997}"
      ]
     },
     "execution_count": 44,
     "metadata": {},
     "output_type": "execute_result"
    }
   ],
   "source": [
    "df_no_vision = df[df[\"attachments\"] == \"\"].copy()\n",
    "get_metrics(df_no_vision)"
   ]
  },
  {
   "cell_type": "code",
   "execution_count": 45,
   "metadata": {},
   "outputs": [
    {
     "data": {
      "text/html": [
       "<div>\n",
       "<style scoped>\n",
       "    .dataframe tbody tr th:only-of-type {\n",
       "        vertical-align: middle;\n",
       "    }\n",
       "\n",
       "    .dataframe tbody tr th {\n",
       "        vertical-align: top;\n",
       "    }\n",
       "\n",
       "    .dataframe thead th {\n",
       "        text-align: right;\n",
       "    }\n",
       "</style>\n",
       "<table border=\"1\" class=\"dataframe\">\n",
       "  <thead>\n",
       "    <tr style=\"text-align: right;\">\n",
       "      <th></th>\n",
       "      <th>email_id</th>\n",
       "      <th>sender_email</th>\n",
       "      <th>recipient_email</th>\n",
       "      <th>subject</th>\n",
       "      <th>email_body</th>\n",
       "      <th>attachments</th>\n",
       "      <th>process_status</th>\n",
       "      <th>response</th>\n",
       "      <th>start_time</th>\n",
       "      <th>end_time</th>\n",
       "      <th>total_time</th>\n",
       "      <th>successful_requests</th>\n",
       "      <th>total_tokens</th>\n",
       "      <th>prompt_tokens</th>\n",
       "      <th>completion_tokens</th>\n",
       "      <th>total_cost</th>\n",
       "      <th>duration</th>\n",
       "      <th>duration_hms</th>\n",
       "    </tr>\n",
       "  </thead>\n",
       "  <tbody>\n",
       "    <tr>\n",
       "      <th>1000</th>\n",
       "      <td>2afa6f82-36dc-4b92-a725-c9c16e959258</td>\n",
       "      <td>kevinfoster@example.com</td>\n",
       "      <td>tanya.official.456@gmail.com</td>\n",
       "      <td>Payment Confirmation for Invoice I14982</td>\n",
       "      <td>Subject: Payment Confirmation for Invoice I149...</td>\n",
       "      <td></td>\n",
       "      <td>ERROR</td>\n",
       "      <td>ERROR: NO ATTACHMENTS</td>\n",
       "      <td>2025-01-22 01:04:07.125094</td>\n",
       "      <td>2025-01-22 01:04:08.767959</td>\n",
       "      <td>1.6429</td>\n",
       "      <td>6730216</td>\n",
       "      <td>2959499479</td>\n",
       "      <td>2714949118</td>\n",
       "      <td>244550361</td>\n",
       "      <td>535.412136300002</td>\n",
       "      <td>1.642865</td>\n",
       "      <td>0 days 00:00:01</td>\n",
       "    </tr>\n",
       "    <tr>\n",
       "      <th>1001</th>\n",
       "      <td>5376b526-c50b-418d-9825-107fb3699c24</td>\n",
       "      <td>roger48@example.org</td>\n",
       "      <td>tanya.official.456@gmail.com</td>\n",
       "      <td>Payment Confirmation for Invoice I11103</td>\n",
       "      <td>Subject: Payment Confirmation for Invoice I111...</td>\n",
       "      <td></td>\n",
       "      <td>ERROR</td>\n",
       "      <td>ERROR: The email does not contain any attachme...</td>\n",
       "      <td>2025-01-22 01:04:08.835452</td>\n",
       "      <td>2025-01-22 01:04:10.801846</td>\n",
       "      <td>1.9664</td>\n",
       "      <td>6737032</td>\n",
       "      <td>2962589953</td>\n",
       "      <td>2717794752</td>\n",
       "      <td>244795201</td>\n",
       "      <td>535.961453400002</td>\n",
       "      <td>1.966394</td>\n",
       "      <td>0 days 00:00:01</td>\n",
       "    </tr>\n",
       "    <tr>\n",
       "      <th>1002</th>\n",
       "      <td>4c6f3f11-734c-421c-a3fa-1145dcd9930c</td>\n",
       "      <td>fergusonerica@example.com</td>\n",
       "      <td>tanya.official.456@gmail.com</td>\n",
       "      <td>Payment Confirmation for Invoice I12431</td>\n",
       "      <td>Subject: Payment Confirmation for Invoice I124...</td>\n",
       "      <td></td>\n",
       "      <td>ERROR</td>\n",
       "      <td>ERROR: The email does not contain any attachme...</td>\n",
       "      <td>2025-01-22 01:04:10.867905</td>\n",
       "      <td>2025-01-22 01:04:12.752367</td>\n",
       "      <td>1.8845</td>\n",
       "      <td>6743850</td>\n",
       "      <td>2965681273</td>\n",
       "      <td>2720641209</td>\n",
       "      <td>245040064</td>\n",
       "      <td>536.510907750003</td>\n",
       "      <td>1.884462</td>\n",
       "      <td>0 days 00:00:01</td>\n",
       "    </tr>\n",
       "    <tr>\n",
       "      <th>1003</th>\n",
       "      <td>2db38ad9-41f6-4671-93c2-7392b997027b</td>\n",
       "      <td>owhite@example.net</td>\n",
       "      <td>tanya.official.456@gmail.com</td>\n",
       "      <td>Payment Confirmation for Invoice I16676</td>\n",
       "      <td>Subject: Payment Confirmation for Invoice I166...</td>\n",
       "      <td></td>\n",
       "      <td>ERROR</td>\n",
       "      <td>ERROR: The email does not contain any attachme...</td>\n",
       "      <td>2025-01-22 01:04:12.808907</td>\n",
       "      <td>2025-01-22 01:04:14.395325</td>\n",
       "      <td>1.5864</td>\n",
       "      <td>6750670</td>\n",
       "      <td>2968773430</td>\n",
       "      <td>2723488483</td>\n",
       "      <td>245284947</td>\n",
       "      <td>537.060496650003</td>\n",
       "      <td>1.586418</td>\n",
       "      <td>0 days 00:00:01</td>\n",
       "    </tr>\n",
       "    <tr>\n",
       "      <th>1004</th>\n",
       "      <td>36fc024b-16f5-4be9-a9b0-7446edc730af</td>\n",
       "      <td>simonandrew@example.org</td>\n",
       "      <td>tanya.official.456@gmail.com</td>\n",
       "      <td>Payment Confirmation for Invoice I12240</td>\n",
       "      <td>Subject: Payment Confirmation for Invoice I122...</td>\n",
       "      <td></td>\n",
       "      <td>ERROR</td>\n",
       "      <td>ERROR: The email does not contain any attachme...</td>\n",
       "      <td>2025-01-22 01:04:14.569466</td>\n",
       "      <td>2025-01-22 01:04:16.209521</td>\n",
       "      <td>1.6401</td>\n",
       "      <td>6757492</td>\n",
       "      <td>2971866436</td>\n",
       "      <td>2726336580</td>\n",
       "      <td>245529856</td>\n",
       "      <td>537.610224600003</td>\n",
       "      <td>1.640055</td>\n",
       "      <td>0 days 00:00:01</td>\n",
       "    </tr>\n",
       "  </tbody>\n",
       "</table>\n",
       "</div>"
      ],
      "text/plain": [
       "                                  email_id               sender_email  \\\n",
       "1000  2afa6f82-36dc-4b92-a725-c9c16e959258    kevinfoster@example.com   \n",
       "1001  5376b526-c50b-418d-9825-107fb3699c24        roger48@example.org   \n",
       "1002  4c6f3f11-734c-421c-a3fa-1145dcd9930c  fergusonerica@example.com   \n",
       "1003  2db38ad9-41f6-4671-93c2-7392b997027b         owhite@example.net   \n",
       "1004  36fc024b-16f5-4be9-a9b0-7446edc730af    simonandrew@example.org   \n",
       "\n",
       "                   recipient_email                                  subject  \\\n",
       "1000  tanya.official.456@gmail.com  Payment Confirmation for Invoice I14982   \n",
       "1001  tanya.official.456@gmail.com  Payment Confirmation for Invoice I11103   \n",
       "1002  tanya.official.456@gmail.com  Payment Confirmation for Invoice I12431   \n",
       "1003  tanya.official.456@gmail.com  Payment Confirmation for Invoice I16676   \n",
       "1004  tanya.official.456@gmail.com  Payment Confirmation for Invoice I12240   \n",
       "\n",
       "                                             email_body attachments  \\\n",
       "1000  Subject: Payment Confirmation for Invoice I149...               \n",
       "1001  Subject: Payment Confirmation for Invoice I111...               \n",
       "1002  Subject: Payment Confirmation for Invoice I124...               \n",
       "1003  Subject: Payment Confirmation for Invoice I166...               \n",
       "1004  Subject: Payment Confirmation for Invoice I122...               \n",
       "\n",
       "     process_status                                           response  \\\n",
       "1000          ERROR                              ERROR: NO ATTACHMENTS   \n",
       "1001          ERROR  ERROR: The email does not contain any attachme...   \n",
       "1002          ERROR  ERROR: The email does not contain any attachme...   \n",
       "1003          ERROR  ERROR: The email does not contain any attachme...   \n",
       "1004          ERROR  ERROR: The email does not contain any attachme...   \n",
       "\n",
       "                     start_time                   end_time total_time  \\\n",
       "1000 2025-01-22 01:04:07.125094 2025-01-22 01:04:08.767959     1.6429   \n",
       "1001 2025-01-22 01:04:08.835452 2025-01-22 01:04:10.801846     1.9664   \n",
       "1002 2025-01-22 01:04:10.867905 2025-01-22 01:04:12.752367     1.8845   \n",
       "1003 2025-01-22 01:04:12.808907 2025-01-22 01:04:14.395325     1.5864   \n",
       "1004 2025-01-22 01:04:14.569466 2025-01-22 01:04:16.209521     1.6401   \n",
       "\n",
       "     successful_requests total_tokens prompt_tokens completion_tokens  \\\n",
       "1000             6730216   2959499479    2714949118         244550361   \n",
       "1001             6737032   2962589953    2717794752         244795201   \n",
       "1002             6743850   2965681273    2720641209         245040064   \n",
       "1003             6750670   2968773430    2723488483         245284947   \n",
       "1004             6757492   2971866436    2726336580         245529856   \n",
       "\n",
       "            total_cost  duration    duration_hms  \n",
       "1000  535.412136300002  1.642865 0 days 00:00:01  \n",
       "1001  535.961453400002  1.966394 0 days 00:00:01  \n",
       "1002  536.510907750003  1.884462 0 days 00:00:01  \n",
       "1003  537.060496650003  1.586418 0 days 00:00:01  \n",
       "1004  537.610224600003  1.640055 0 days 00:00:01  "
      ]
     },
     "execution_count": 45,
     "metadata": {},
     "output_type": "execute_result"
    }
   ],
   "source": [
    "df_no_vision[df_no_vision[\"process_status\"] != \"SUCCESS\"].head()"
   ]
  },
  {
   "cell_type": "code",
   "execution_count": 46,
   "metadata": {},
   "outputs": [
    {
     "name": "stdout",
     "output_type": "stream",
     "text": [
      "--------------------------------------------------\n",
      "process_status: ERROR\n",
      "--------------------------------------------------\n",
      "email_body: Subject: Payment Confirmation for Invoice I14982\n",
      "                John Lee <kevinfoster@example.com>\n",
      "                Sun, Jan 05, 2025, 10:04 AM\n",
      "                Dear Tanya, I hope this message finds you well.I am writing to confirm that we have successfully made the payment for Invoice I14982, related to our recent order with you. Here are the details:  \n",
      "                Description:\n",
      "                Invoice Date: December 21, 2024\n",
      "                Item: Office Wear Suits\n",
      "                Quantity: 2\n",
      "                Subtotal: $372.31\n",
      "                Tax (10%): $37.23\n",
      "                Shipping (if applicable): $12.91\n",
      "                Total Amount paid: $422.45\n",
      "                Transaction Reference Number - TXN-MST-201-218694\n",
      "                Thank you and I look forward to our continued business\n",
      "                Best regards,\n",
      "                John Lee\n",
      "--------------------------------------------------\n",
      "response: ERROR: NO ATTACHMENTS\n",
      "==================================================\n"
     ]
    }
   ],
   "source": [
    "print_row_details(\n",
    "    df_no_vision[df_no_vision[\"process_status\"] != \"SUCCESS\"],\n",
    "    columns=[\"process_status\", \"email_body\", \"response\"],\n",
    ")"
   ]
  }
 ],
 "metadata": {
  "accelerator": "GPU",
  "application/vnd.databricks.v1+notebook": {
   "dashboards": [],
   "environmentMetadata": null,
   "language": "python",
   "notebookMetadata": {
    "mostRecentlyExecutedCommandWithImplicitDF": {
     "commandId": -1,
     "dataframes": [
      "_sqldf"
     ]
    },
    "pythonIndentUnit": 4
   },
   "notebookName": "10_eval-lf-medium-py3.11",
   "widgets": {}
  },
  "colab": {
   "gpuType": "L4",
   "provenance": []
  },
  "kernelspec": {
   "display_name": "sme-invoicing",
   "language": "python",
   "name": "python3"
  },
  "language_info": {
   "codemirror_mode": {
    "name": "ipython",
    "version": 3
   },
   "file_extension": ".py",
   "mimetype": "text/x-python",
   "name": "python",
   "nbconvert_exporter": "python",
   "pygments_lexer": "ipython3",
   "version": "3.13.1"
  }
 },
 "nbformat": 4,
 "nbformat_minor": 0
}
